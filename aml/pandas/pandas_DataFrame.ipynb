{
 "cells": [
  {
   "cell_type": "code",
   "execution_count": 1,
   "id": "a4b6a6eb-605b-4463-98c0-a163a6f73e75",
   "metadata": {},
   "outputs": [],
   "source": [
    "import numpy as np\n",
    "import pandas as pd"
   ]
  },
  {
   "cell_type": "markdown",
   "id": "fe74fb83-296f-4d1c-a071-da4ebebb4f4c",
   "metadata": {},
   "source": [
    "## DataFrame"
   ]
  },
  {
   "cell_type": "markdown",
   "id": "af7b28ed-b0ed-4cc0-9c8b-98392405db99",
   "metadata": {
    "jp-MarkdownHeadingCollapsed": true
   },
   "source": [
    "### Создаем DataFrame"
   ]
  },
  {
   "cell_type": "markdown",
   "id": "c4fa9a60-1379-4dfd-afac-d1785d1439bc",
   "metadata": {},
   "source": [
    "#### 1. Создаем через **dict серий**"
   ]
  },
  {
   "cell_type": "code",
   "execution_count": 2,
   "id": "47a6be09-902c-4346-9e0f-2df8b514da69",
   "metadata": {},
   "outputs": [],
   "source": [
    "data = {\n",
    "    'feature_1': pd.Series([1, 2, 3], index=['a', 'b', 'c']),\n",
    "    'feature_2': pd.Series([1, 2, 3, 4, 5], index=['e', 'd', 'c', 'b', 'a']),\n",
    "}"
   ]
  },
  {
   "cell_type": "code",
   "execution_count": 3,
   "id": "680ed116-08bb-464b-9782-64d0501af366",
   "metadata": {},
   "outputs": [
    {
     "data": {
      "text/html": [
       "<div>\n",
       "<style scoped>\n",
       "    .dataframe tbody tr th:only-of-type {\n",
       "        vertical-align: middle;\n",
       "    }\n",
       "\n",
       "    .dataframe tbody tr th {\n",
       "        vertical-align: top;\n",
       "    }\n",
       "\n",
       "    .dataframe thead th {\n",
       "        text-align: right;\n",
       "    }\n",
       "</style>\n",
       "<table border=\"1\" class=\"dataframe\">\n",
       "  <thead>\n",
       "    <tr style=\"text-align: right;\">\n",
       "      <th></th>\n",
       "      <th>feature_1</th>\n",
       "      <th>feature_2</th>\n",
       "    </tr>\n",
       "  </thead>\n",
       "  <tbody>\n",
       "    <tr>\n",
       "      <th>a</th>\n",
       "      <td>1.0</td>\n",
       "      <td>5</td>\n",
       "    </tr>\n",
       "    <tr>\n",
       "      <th>b</th>\n",
       "      <td>2.0</td>\n",
       "      <td>4</td>\n",
       "    </tr>\n",
       "    <tr>\n",
       "      <th>c</th>\n",
       "      <td>3.0</td>\n",
       "      <td>3</td>\n",
       "    </tr>\n",
       "    <tr>\n",
       "      <th>d</th>\n",
       "      <td>NaN</td>\n",
       "      <td>2</td>\n",
       "    </tr>\n",
       "    <tr>\n",
       "      <th>e</th>\n",
       "      <td>NaN</td>\n",
       "      <td>1</td>\n",
       "    </tr>\n",
       "  </tbody>\n",
       "</table>\n",
       "</div>"
      ],
      "text/plain": [
       "   feature_1  feature_2\n",
       "a        1.0          5\n",
       "b        2.0          4\n",
       "c        3.0          3\n",
       "d        NaN          2\n",
       "e        NaN          1"
      ]
     },
     "execution_count": 3,
     "metadata": {},
     "output_type": "execute_result"
    }
   ],
   "source": [
    "pd.DataFrame(data)"
   ]
  },
  {
   "cell_type": "markdown",
   "id": "9fe088fe-e462-4a12-b883-098030a02e5d",
   "metadata": {},
   "source": [
    "В результате индексы серий состывовались и отсортировались по порядку"
   ]
  },
  {
   "cell_type": "markdown",
   "id": "e3bf8a89-aa6e-47f3-bc07-244ac2a6c104",
   "metadata": {},
   "source": [
    "**А если передать индексы?**"
   ]
  },
  {
   "cell_type": "code",
   "execution_count": 4,
   "id": "784d79dc-a009-48f5-942e-a52a9188db2f",
   "metadata": {},
   "outputs": [
    {
     "data": {
      "text/html": [
       "<div>\n",
       "<style scoped>\n",
       "    .dataframe tbody tr th:only-of-type {\n",
       "        vertical-align: middle;\n",
       "    }\n",
       "\n",
       "    .dataframe tbody tr th {\n",
       "        vertical-align: top;\n",
       "    }\n",
       "\n",
       "    .dataframe thead th {\n",
       "        text-align: right;\n",
       "    }\n",
       "</style>\n",
       "<table border=\"1\" class=\"dataframe\">\n",
       "  <thead>\n",
       "    <tr style=\"text-align: right;\">\n",
       "      <th></th>\n",
       "      <th>feature_1</th>\n",
       "      <th>feature_2</th>\n",
       "    </tr>\n",
       "  </thead>\n",
       "  <tbody>\n",
       "    <tr>\n",
       "      <th>a</th>\n",
       "      <td>1.0</td>\n",
       "      <td>5</td>\n",
       "    </tr>\n",
       "    <tr>\n",
       "      <th>c</th>\n",
       "      <td>3.0</td>\n",
       "      <td>3</td>\n",
       "    </tr>\n",
       "    <tr>\n",
       "      <th>e</th>\n",
       "      <td>NaN</td>\n",
       "      <td>1</td>\n",
       "    </tr>\n",
       "  </tbody>\n",
       "</table>\n",
       "</div>"
      ],
      "text/plain": [
       "   feature_1  feature_2\n",
       "a        1.0          5\n",
       "c        3.0          3\n",
       "e        NaN          1"
      ]
     },
     "execution_count": 4,
     "metadata": {},
     "output_type": "execute_result"
    }
   ],
   "source": [
    "pd.DataFrame(data, index=['a', 'c', 'e'])"
   ]
  },
  {
   "cell_type": "markdown",
   "id": "9dcb7918-94ee-47d1-bf61-2ec542186c97",
   "metadata": {},
   "source": [
    "Остались только значения, соответствующие заданным индексам"
   ]
  },
  {
   "cell_type": "markdown",
   "id": "a24732a1-21c8-4d42-8b5a-41ab58b9efdb",
   "metadata": {},
   "source": [
    "**Передадим названия колонок**"
   ]
  },
  {
   "cell_type": "code",
   "execution_count": 5,
   "id": "4cfc85df-924f-4b25-95c3-fa68baced5cf",
   "metadata": {},
   "outputs": [
    {
     "data": {
      "text/html": [
       "<div>\n",
       "<style scoped>\n",
       "    .dataframe tbody tr th:only-of-type {\n",
       "        vertical-align: middle;\n",
       "    }\n",
       "\n",
       "    .dataframe tbody tr th {\n",
       "        vertical-align: top;\n",
       "    }\n",
       "\n",
       "    .dataframe thead th {\n",
       "        text-align: right;\n",
       "    }\n",
       "</style>\n",
       "<table border=\"1\" class=\"dataframe\">\n",
       "  <thead>\n",
       "    <tr style=\"text-align: right;\">\n",
       "      <th></th>\n",
       "      <th>feature_2</th>\n",
       "      <th>feature_3</th>\n",
       "    </tr>\n",
       "  </thead>\n",
       "  <tbody>\n",
       "    <tr>\n",
       "      <th>a</th>\n",
       "      <td>5</td>\n",
       "      <td>NaN</td>\n",
       "    </tr>\n",
       "    <tr>\n",
       "      <th>c</th>\n",
       "      <td>3</td>\n",
       "      <td>NaN</td>\n",
       "    </tr>\n",
       "    <tr>\n",
       "      <th>e</th>\n",
       "      <td>1</td>\n",
       "      <td>NaN</td>\n",
       "    </tr>\n",
       "  </tbody>\n",
       "</table>\n",
       "</div>"
      ],
      "text/plain": [
       "   feature_2 feature_3\n",
       "a          5       NaN\n",
       "c          3       NaN\n",
       "e          1       NaN"
      ]
     },
     "execution_count": 5,
     "metadata": {},
     "output_type": "execute_result"
    }
   ],
   "source": [
    "pd.DataFrame(data, index=['a', 'c', 'e'], columns=['feature_2', 'feature_3'])"
   ]
  },
  {
   "cell_type": "markdown",
   "id": "bce118ed-ff59-4651-95dc-fe0e5b0e7522",
   "metadata": {},
   "source": [
    "Выводятся только колонки с заданными названиями. Если среди ключей словаря нет такого названия колонки, то она заполняется значениями **NaN**"
   ]
  },
  {
   "cell_type": "markdown",
   "id": "4fd369cd-cabf-4e2b-a887-45318ff79fcf",
   "metadata": {},
   "source": [
    "#### 2. Создаем через **dict np.arrays/lists**"
   ]
  },
  {
   "cell_type": "code",
   "execution_count": 6,
   "id": "31e3593e-697f-473b-b9ea-640cec08054a",
   "metadata": {},
   "outputs": [],
   "source": [
    "data = {\n",
    "    'feature_1': [1, 2, 3],\n",
    "    'feature_2': np.array([5, 4, 3, 2, 1])\n",
    "}\n",
    "# pd.DataFrame(data) -> Выдаст ошибку: ValueError: All arrays must be of the same length"
   ]
  },
  {
   "cell_type": "markdown",
   "id": "f984b1f4-d288-4dc2-a93a-feac6d6f79bf",
   "metadata": {},
   "source": [
    "**Важно**, чтобы размеры списков и массивов были одинаковыми!"
   ]
  },
  {
   "cell_type": "code",
   "execution_count": 7,
   "id": "69050da9-eee5-4f40-91b2-c33deb612cb4",
   "metadata": {},
   "outputs": [],
   "source": [
    "data = {\n",
    "    'feature_1': [1, 2, 3],\n",
    "    'feature_2': np.array([5, 4, 3])\n",
    "}"
   ]
  },
  {
   "cell_type": "code",
   "execution_count": 8,
   "id": "e149cdd2-3cfd-4bad-80a2-ef3340a06a87",
   "metadata": {},
   "outputs": [
    {
     "data": {
      "text/html": [
       "<div>\n",
       "<style scoped>\n",
       "    .dataframe tbody tr th:only-of-type {\n",
       "        vertical-align: middle;\n",
       "    }\n",
       "\n",
       "    .dataframe tbody tr th {\n",
       "        vertical-align: top;\n",
       "    }\n",
       "\n",
       "    .dataframe thead th {\n",
       "        text-align: right;\n",
       "    }\n",
       "</style>\n",
       "<table border=\"1\" class=\"dataframe\">\n",
       "  <thead>\n",
       "    <tr style=\"text-align: right;\">\n",
       "      <th></th>\n",
       "      <th>feature_1</th>\n",
       "      <th>feature_2</th>\n",
       "    </tr>\n",
       "  </thead>\n",
       "  <tbody>\n",
       "    <tr>\n",
       "      <th>0</th>\n",
       "      <td>1</td>\n",
       "      <td>5</td>\n",
       "    </tr>\n",
       "    <tr>\n",
       "      <th>1</th>\n",
       "      <td>2</td>\n",
       "      <td>4</td>\n",
       "    </tr>\n",
       "    <tr>\n",
       "      <th>2</th>\n",
       "      <td>3</td>\n",
       "      <td>3</td>\n",
       "    </tr>\n",
       "  </tbody>\n",
       "</table>\n",
       "</div>"
      ],
      "text/plain": [
       "   feature_1  feature_2\n",
       "0          1          5\n",
       "1          2          4\n",
       "2          3          3"
      ]
     },
     "execution_count": 8,
     "metadata": {},
     "output_type": "execute_result"
    }
   ],
   "source": [
    "pd.DataFrame(data)"
   ]
  },
  {
   "cell_type": "markdown",
   "id": "b83245a7-fe17-4e24-ba2e-255c25d0226d",
   "metadata": {},
   "source": [
    "Индексы должны тоже соответствовать этой длине!"
   ]
  },
  {
   "cell_type": "code",
   "execution_count": 9,
   "id": "ea2118ad-21ff-45e8-aeb8-0267db464203",
   "metadata": {},
   "outputs": [
    {
     "data": {
      "text/html": [
       "<div>\n",
       "<style scoped>\n",
       "    .dataframe tbody tr th:only-of-type {\n",
       "        vertical-align: middle;\n",
       "    }\n",
       "\n",
       "    .dataframe tbody tr th {\n",
       "        vertical-align: top;\n",
       "    }\n",
       "\n",
       "    .dataframe thead th {\n",
       "        text-align: right;\n",
       "    }\n",
       "</style>\n",
       "<table border=\"1\" class=\"dataframe\">\n",
       "  <thead>\n",
       "    <tr style=\"text-align: right;\">\n",
       "      <th></th>\n",
       "      <th>feature_1</th>\n",
       "      <th>feature_2</th>\n",
       "    </tr>\n",
       "  </thead>\n",
       "  <tbody>\n",
       "    <tr>\n",
       "      <th>a</th>\n",
       "      <td>1</td>\n",
       "      <td>5</td>\n",
       "    </tr>\n",
       "    <tr>\n",
       "      <th>b</th>\n",
       "      <td>2</td>\n",
       "      <td>4</td>\n",
       "    </tr>\n",
       "    <tr>\n",
       "      <th>c</th>\n",
       "      <td>3</td>\n",
       "      <td>3</td>\n",
       "    </tr>\n",
       "  </tbody>\n",
       "</table>\n",
       "</div>"
      ],
      "text/plain": [
       "   feature_1  feature_2\n",
       "a          1          5\n",
       "b          2          4\n",
       "c          3          3"
      ]
     },
     "execution_count": 9,
     "metadata": {},
     "output_type": "execute_result"
    }
   ],
   "source": [
    "pd.DataFrame(data, index=['a', 'b', 'c'])"
   ]
  },
  {
   "cell_type": "markdown",
   "id": "ae5381c9-cc4e-47e2-a0c2-b93fec1c334b",
   "metadata": {},
   "source": [
    "#### 3. Создаем через **список dicts**"
   ]
  },
  {
   "cell_type": "code",
   "execution_count": 10,
   "id": "0897644c-0ad6-466b-b9a5-e7bbcb573093",
   "metadata": {},
   "outputs": [
    {
     "data": {
      "text/html": [
       "<div>\n",
       "<style scoped>\n",
       "    .dataframe tbody tr th:only-of-type {\n",
       "        vertical-align: middle;\n",
       "    }\n",
       "\n",
       "    .dataframe tbody tr th {\n",
       "        vertical-align: top;\n",
       "    }\n",
       "\n",
       "    .dataframe thead th {\n",
       "        text-align: right;\n",
       "    }\n",
       "</style>\n",
       "<table border=\"1\" class=\"dataframe\">\n",
       "  <thead>\n",
       "    <tr style=\"text-align: right;\">\n",
       "      <th></th>\n",
       "      <th>feature_1</th>\n",
       "      <th>feature_2</th>\n",
       "      <th>feature_3</th>\n",
       "    </tr>\n",
       "  </thead>\n",
       "  <tbody>\n",
       "    <tr>\n",
       "      <th>0</th>\n",
       "      <td>1</td>\n",
       "      <td>2</td>\n",
       "      <td>NaN</td>\n",
       "    </tr>\n",
       "    <tr>\n",
       "      <th>1</th>\n",
       "      <td>5</td>\n",
       "      <td>10</td>\n",
       "      <td>20.0</td>\n",
       "    </tr>\n",
       "  </tbody>\n",
       "</table>\n",
       "</div>"
      ],
      "text/plain": [
       "   feature_1  feature_2  feature_3\n",
       "0          1          2        NaN\n",
       "1          5         10       20.0"
      ]
     },
     "execution_count": 10,
     "metadata": {},
     "output_type": "execute_result"
    }
   ],
   "source": [
    "data = [\n",
    "    {'feature_1': 1, 'feature_2': 2},\n",
    "    {'feature_1': 5, 'feature_2': 10, 'feature_3': 20}\n",
    "]\n",
    "\n",
    "pd.DataFrame(data)"
   ]
  },
  {
   "cell_type": "markdown",
   "id": "8be731b3-7042-46e0-ae62-80971403c6fb",
   "metadata": {},
   "source": [
    "**Передадим индексы и названия колонок**"
   ]
  },
  {
   "cell_type": "code",
   "execution_count": 11,
   "id": "077e1924-8708-4829-8b1e-73d153006f8d",
   "metadata": {},
   "outputs": [
    {
     "data": {
      "text/html": [
       "<div>\n",
       "<style scoped>\n",
       "    .dataframe tbody tr th:only-of-type {\n",
       "        vertical-align: middle;\n",
       "    }\n",
       "\n",
       "    .dataframe tbody tr th {\n",
       "        vertical-align: top;\n",
       "    }\n",
       "\n",
       "    .dataframe thead th {\n",
       "        text-align: right;\n",
       "    }\n",
       "</style>\n",
       "<table border=\"1\" class=\"dataframe\">\n",
       "  <thead>\n",
       "    <tr style=\"text-align: right;\">\n",
       "      <th></th>\n",
       "      <th>feature_1</th>\n",
       "      <th>feature_3</th>\n",
       "    </tr>\n",
       "  </thead>\n",
       "  <tbody>\n",
       "    <tr>\n",
       "      <th>index_1</th>\n",
       "      <td>1</td>\n",
       "      <td>NaN</td>\n",
       "    </tr>\n",
       "    <tr>\n",
       "      <th>index_2</th>\n",
       "      <td>5</td>\n",
       "      <td>20.0</td>\n",
       "    </tr>\n",
       "  </tbody>\n",
       "</table>\n",
       "</div>"
      ],
      "text/plain": [
       "         feature_1  feature_3\n",
       "index_1          1        NaN\n",
       "index_2          5       20.0"
      ]
     },
     "execution_count": 11,
     "metadata": {},
     "output_type": "execute_result"
    }
   ],
   "source": [
    "pd.DataFrame(data, index=['index_1', 'index_2'], columns=['feature_1', 'feature_3'])"
   ]
  },
  {
   "cell_type": "markdown",
   "id": "f639f66d-1d72-4c5c-973a-5ced8e45baef",
   "metadata": {
    "jp-MarkdownHeadingCollapsed": true
   },
   "source": [
    "### Задача на сегодня"
   ]
  },
  {
   "cell_type": "code",
   "execution_count": 12,
   "id": "36c7b5db-e4b2-4c9c-886d-1e68083c4280",
   "metadata": {},
   "outputs": [
    {
     "name": "stdout",
     "output_type": "stream",
     "text": [
      "--2024-03-24 18:13:25--  https://drive.google.com/uc?id=17xDAUwRdJVbpZNi1toPbAQitVrBVHFt6\n",
      "Распознаётся drive.google.com (drive.google.com)… 216.58.215.110, 2a00:1450:401b:80d::200e\n",
      "Подключение к drive.google.com (drive.google.com)|216.58.215.110|:443... соединение установлено.\n",
      "HTTP-запрос отправлен. Ожидание ответа… 303 See Other\n",
      "Адрес: https://drive.usercontent.google.com/download?id=17xDAUwRdJVbpZNi1toPbAQitVrBVHFt6 [переход]\n",
      "--2024-03-24 18:13:25--  https://drive.usercontent.google.com/download?id=17xDAUwRdJVbpZNi1toPbAQitVrBVHFt6\n",
      "Распознаётся drive.usercontent.google.com (drive.usercontent.google.com)… 142.250.186.193, 2a00:1450:401b:80d::2001\n",
      "Подключение к drive.usercontent.google.com (drive.usercontent.google.com)|142.250.186.193|:443... соединение установлено.\n",
      "HTTP-запрос отправлен. Ожидание ответа… 200 OK\n",
      "Длина: 10000 (9,8K) [application/octet-stream]\n",
      "Сохранение в: «data.txt»\n",
      "\n",
      "data.txt            100%[===================>]   9,77K  --.-KB/s    за 0s      \n",
      "\n",
      "2024-03-24 18:13:26 (20,2 MB/s) - «data.txt» сохранён [10000/10000]\n",
      "\n"
     ]
    }
   ],
   "source": [
    "!wget 'https://drive.google.com/uc?id=17xDAUwRdJVbpZNi1toPbAQitVrBVHFt6' -O data.txt"
   ]
  },
  {
   "cell_type": "markdown",
   "id": "18b56bb4-54f3-4b3a-b616-1a6e7ce9a00c",
   "metadata": {},
   "source": [
    "#### Загрузим тесктовые данные в numpy.array"
   ]
  },
  {
   "cell_type": "code",
   "execution_count": 13,
   "id": "aa4db7d7-12d2-437a-b6f8-b0b5eb58b17a",
   "metadata": {},
   "outputs": [
    {
     "data": {
      "text/plain": [
       "numpy.ndarray"
      ]
     },
     "execution_count": 13,
     "metadata": {},
     "output_type": "execute_result"
    }
   ],
   "source": [
    "data = np.loadtxt('data.txt')\n",
    "type(data)"
   ]
  },
  {
   "cell_type": "code",
   "execution_count": 14,
   "id": "bdbe98e9-46ae-4138-81aa-ff4fed852a27",
   "metadata": {},
   "outputs": [
    {
     "data": {
      "text/plain": [
       "(100, 4)"
      ]
     },
     "execution_count": 14,
     "metadata": {},
     "output_type": "execute_result"
    }
   ],
   "source": [
    "data.shape"
   ]
  },
  {
   "cell_type": "markdown",
   "id": "87796495-e8a6-48b3-b85b-3b3058bed79f",
   "metadata": {},
   "source": [
    "#### Создадим датафрейм"
   ]
  },
  {
   "cell_type": "code",
   "execution_count": 15,
   "id": "ec462336-cd32-4b10-91bd-69e078cbc748",
   "metadata": {},
   "outputs": [
    {
     "data": {
      "text/html": [
       "<div>\n",
       "<style scoped>\n",
       "    .dataframe tbody tr th:only-of-type {\n",
       "        vertical-align: middle;\n",
       "    }\n",
       "\n",
       "    .dataframe tbody tr th {\n",
       "        vertical-align: top;\n",
       "    }\n",
       "\n",
       "    .dataframe thead th {\n",
       "        text-align: right;\n",
       "    }\n",
       "</style>\n",
       "<table border=\"1\" class=\"dataframe\">\n",
       "  <thead>\n",
       "    <tr style=\"text-align: right;\">\n",
       "      <th></th>\n",
       "      <th>0</th>\n",
       "      <th>1</th>\n",
       "      <th>2</th>\n",
       "      <th>3</th>\n",
       "    </tr>\n",
       "  </thead>\n",
       "  <tbody>\n",
       "    <tr>\n",
       "      <th>0</th>\n",
       "      <td>38.0</td>\n",
       "      <td>741.0</td>\n",
       "      <td>2.0</td>\n",
       "      <td>0.0</td>\n",
       "    </tr>\n",
       "    <tr>\n",
       "      <th>1</th>\n",
       "      <td>32.0</td>\n",
       "      <td>630.0</td>\n",
       "      <td>11.0</td>\n",
       "      <td>0.0</td>\n",
       "    </tr>\n",
       "    <tr>\n",
       "      <th>2</th>\n",
       "      <td>52.0</td>\n",
       "      <td>2730.0</td>\n",
       "      <td>7.0</td>\n",
       "      <td>1.0</td>\n",
       "    </tr>\n",
       "    <tr>\n",
       "      <th>3</th>\n",
       "      <td>33.0</td>\n",
       "      <td>552.0</td>\n",
       "      <td>2.0</td>\n",
       "      <td>0.0</td>\n",
       "    </tr>\n",
       "    <tr>\n",
       "      <th>4</th>\n",
       "      <td>35.0</td>\n",
       "      <td>409.0</td>\n",
       "      <td>5.0</td>\n",
       "      <td>0.0</td>\n",
       "    </tr>\n",
       "    <tr>\n",
       "      <th>...</th>\n",
       "      <td>...</td>\n",
       "      <td>...</td>\n",
       "      <td>...</td>\n",
       "      <td>...</td>\n",
       "    </tr>\n",
       "    <tr>\n",
       "      <th>95</th>\n",
       "      <td>40.0</td>\n",
       "      <td>1088.0</td>\n",
       "      <td>10.0</td>\n",
       "      <td>0.0</td>\n",
       "    </tr>\n",
       "    <tr>\n",
       "      <th>96</th>\n",
       "      <td>31.0</td>\n",
       "      <td>745.0</td>\n",
       "      <td>3.0</td>\n",
       "      <td>0.0</td>\n",
       "    </tr>\n",
       "    <tr>\n",
       "      <th>97</th>\n",
       "      <td>31.0</td>\n",
       "      <td>782.0</td>\n",
       "      <td>4.0</td>\n",
       "      <td>0.0</td>\n",
       "    </tr>\n",
       "    <tr>\n",
       "      <th>98</th>\n",
       "      <td>38.0</td>\n",
       "      <td>793.0</td>\n",
       "      <td>4.0</td>\n",
       "      <td>0.0</td>\n",
       "    </tr>\n",
       "    <tr>\n",
       "      <th>99</th>\n",
       "      <td>38.0</td>\n",
       "      <td>800.0</td>\n",
       "      <td>8.0</td>\n",
       "      <td>0.0</td>\n",
       "    </tr>\n",
       "  </tbody>\n",
       "</table>\n",
       "<p>100 rows × 4 columns</p>\n",
       "</div>"
      ],
      "text/plain": [
       "       0       1     2    3\n",
       "0   38.0   741.0   2.0  0.0\n",
       "1   32.0   630.0  11.0  0.0\n",
       "2   52.0  2730.0   7.0  1.0\n",
       "3   33.0   552.0   2.0  0.0\n",
       "4   35.0   409.0   5.0  0.0\n",
       "..   ...     ...   ...  ...\n",
       "95  40.0  1088.0  10.0  0.0\n",
       "96  31.0   745.0   3.0  0.0\n",
       "97  31.0   782.0   4.0  0.0\n",
       "98  38.0   793.0   4.0  0.0\n",
       "99  38.0   800.0   8.0  0.0\n",
       "\n",
       "[100 rows x 4 columns]"
      ]
     },
     "execution_count": 15,
     "metadata": {},
     "output_type": "execute_result"
    }
   ],
   "source": [
    "df = pd.DataFrame(data)\n",
    "df"
   ]
  },
  {
   "cell_type": "markdown",
   "id": "ecabdf26-3c3a-4df5-9def-e210bd0551be",
   "metadata": {},
   "source": [
    "#### Изменим названия колонок"
   ]
  },
  {
   "cell_type": "code",
   "execution_count": 16,
   "id": "eeba5749-5515-4bfa-8b7f-54f16778eb9a",
   "metadata": {},
   "outputs": [],
   "source": [
    "pd.set_option('display.max_rows', 6)"
   ]
  },
  {
   "cell_type": "code",
   "execution_count": 17,
   "id": "322f1605-f5eb-4a3b-a03e-a5d2c65cd0f1",
   "metadata": {},
   "outputs": [
    {
     "data": {
      "text/html": [
       "<div>\n",
       "<style scoped>\n",
       "    .dataframe tbody tr th:only-of-type {\n",
       "        vertical-align: middle;\n",
       "    }\n",
       "\n",
       "    .dataframe tbody tr th {\n",
       "        vertical-align: top;\n",
       "    }\n",
       "\n",
       "    .dataframe thead th {\n",
       "        text-align: right;\n",
       "    }\n",
       "</style>\n",
       "<table border=\"1\" class=\"dataframe\">\n",
       "  <thead>\n",
       "    <tr style=\"text-align: right;\">\n",
       "      <th></th>\n",
       "      <th>age</th>\n",
       "      <th>sum</th>\n",
       "      <th>num_purchases</th>\n",
       "      <th>is_interested</th>\n",
       "    </tr>\n",
       "  </thead>\n",
       "  <tbody>\n",
       "    <tr>\n",
       "      <th>0</th>\n",
       "      <td>38.0</td>\n",
       "      <td>741.0</td>\n",
       "      <td>2.0</td>\n",
       "      <td>0.0</td>\n",
       "    </tr>\n",
       "    <tr>\n",
       "      <th>1</th>\n",
       "      <td>32.0</td>\n",
       "      <td>630.0</td>\n",
       "      <td>11.0</td>\n",
       "      <td>0.0</td>\n",
       "    </tr>\n",
       "    <tr>\n",
       "      <th>2</th>\n",
       "      <td>52.0</td>\n",
       "      <td>2730.0</td>\n",
       "      <td>7.0</td>\n",
       "      <td>1.0</td>\n",
       "    </tr>\n",
       "    <tr>\n",
       "      <th>...</th>\n",
       "      <td>...</td>\n",
       "      <td>...</td>\n",
       "      <td>...</td>\n",
       "      <td>...</td>\n",
       "    </tr>\n",
       "    <tr>\n",
       "      <th>97</th>\n",
       "      <td>31.0</td>\n",
       "      <td>782.0</td>\n",
       "      <td>4.0</td>\n",
       "      <td>0.0</td>\n",
       "    </tr>\n",
       "    <tr>\n",
       "      <th>98</th>\n",
       "      <td>38.0</td>\n",
       "      <td>793.0</td>\n",
       "      <td>4.0</td>\n",
       "      <td>0.0</td>\n",
       "    </tr>\n",
       "    <tr>\n",
       "      <th>99</th>\n",
       "      <td>38.0</td>\n",
       "      <td>800.0</td>\n",
       "      <td>8.0</td>\n",
       "      <td>0.0</td>\n",
       "    </tr>\n",
       "  </tbody>\n",
       "</table>\n",
       "<p>100 rows × 4 columns</p>\n",
       "</div>"
      ],
      "text/plain": [
       "     age     sum  num_purchases  is_interested\n",
       "0   38.0   741.0            2.0            0.0\n",
       "1   32.0   630.0           11.0            0.0\n",
       "2   52.0  2730.0            7.0            1.0\n",
       "..   ...     ...            ...            ...\n",
       "97  31.0   782.0            4.0            0.0\n",
       "98  38.0   793.0            4.0            0.0\n",
       "99  38.0   800.0            8.0            0.0\n",
       "\n",
       "[100 rows x 4 columns]"
      ]
     },
     "execution_count": 17,
     "metadata": {},
     "output_type": "execute_result"
    }
   ],
   "source": [
    "df.columns = ['age', 'sum', 'num_purchases', 'is_interested']\n",
    "df"
   ]
  },
  {
   "cell_type": "markdown",
   "id": "2cd6dbbd-ab1d-40ea-95da-5d726577e9f4",
   "metadata": {
    "jp-MarkdownHeadingCollapsed": true
   },
   "source": [
    "### Полезные методы"
   ]
  },
  {
   "cell_type": "code",
   "execution_count": 18,
   "id": "3a5cf9ea-2130-4ece-b5eb-7e8204e2869f",
   "metadata": {},
   "outputs": [
    {
     "data": {
      "text/html": [
       "<div>\n",
       "<style scoped>\n",
       "    .dataframe tbody tr th:only-of-type {\n",
       "        vertical-align: middle;\n",
       "    }\n",
       "\n",
       "    .dataframe tbody tr th {\n",
       "        vertical-align: top;\n",
       "    }\n",
       "\n",
       "    .dataframe thead th {\n",
       "        text-align: right;\n",
       "    }\n",
       "</style>\n",
       "<table border=\"1\" class=\"dataframe\">\n",
       "  <thead>\n",
       "    <tr style=\"text-align: right;\">\n",
       "      <th></th>\n",
       "      <th>age</th>\n",
       "      <th>sum</th>\n",
       "      <th>num_purchases</th>\n",
       "      <th>is_interested</th>\n",
       "    </tr>\n",
       "  </thead>\n",
       "  <tbody>\n",
       "    <tr>\n",
       "      <th>0</th>\n",
       "      <td>38.0</td>\n",
       "      <td>741.0</td>\n",
       "      <td>2.0</td>\n",
       "      <td>0.0</td>\n",
       "    </tr>\n",
       "    <tr>\n",
       "      <th>1</th>\n",
       "      <td>32.0</td>\n",
       "      <td>630.0</td>\n",
       "      <td>11.0</td>\n",
       "      <td>0.0</td>\n",
       "    </tr>\n",
       "    <tr>\n",
       "      <th>2</th>\n",
       "      <td>52.0</td>\n",
       "      <td>2730.0</td>\n",
       "      <td>7.0</td>\n",
       "      <td>1.0</td>\n",
       "    </tr>\n",
       "    <tr>\n",
       "      <th>3</th>\n",
       "      <td>33.0</td>\n",
       "      <td>552.0</td>\n",
       "      <td>2.0</td>\n",
       "      <td>0.0</td>\n",
       "    </tr>\n",
       "    <tr>\n",
       "      <th>4</th>\n",
       "      <td>35.0</td>\n",
       "      <td>409.0</td>\n",
       "      <td>5.0</td>\n",
       "      <td>0.0</td>\n",
       "    </tr>\n",
       "  </tbody>\n",
       "</table>\n",
       "</div>"
      ],
      "text/plain": [
       "    age     sum  num_purchases  is_interested\n",
       "0  38.0   741.0            2.0            0.0\n",
       "1  32.0   630.0           11.0            0.0\n",
       "2  52.0  2730.0            7.0            1.0\n",
       "3  33.0   552.0            2.0            0.0\n",
       "4  35.0   409.0            5.0            0.0"
      ]
     },
     "execution_count": 18,
     "metadata": {},
     "output_type": "execute_result"
    }
   ],
   "source": [
    "df.head()"
   ]
  },
  {
   "cell_type": "code",
   "execution_count": 19,
   "id": "39eaabb6-1059-4167-9be4-998dfbaf2dc0",
   "metadata": {},
   "outputs": [
    {
     "data": {
      "text/html": [
       "<div>\n",
       "<style scoped>\n",
       "    .dataframe tbody tr th:only-of-type {\n",
       "        vertical-align: middle;\n",
       "    }\n",
       "\n",
       "    .dataframe tbody tr th {\n",
       "        vertical-align: top;\n",
       "    }\n",
       "\n",
       "    .dataframe thead th {\n",
       "        text-align: right;\n",
       "    }\n",
       "</style>\n",
       "<table border=\"1\" class=\"dataframe\">\n",
       "  <thead>\n",
       "    <tr style=\"text-align: right;\">\n",
       "      <th></th>\n",
       "      <th>age</th>\n",
       "      <th>sum</th>\n",
       "      <th>num_purchases</th>\n",
       "      <th>is_interested</th>\n",
       "    </tr>\n",
       "  </thead>\n",
       "  <tbody>\n",
       "    <tr>\n",
       "      <th>95</th>\n",
       "      <td>40.0</td>\n",
       "      <td>1088.0</td>\n",
       "      <td>10.0</td>\n",
       "      <td>0.0</td>\n",
       "    </tr>\n",
       "    <tr>\n",
       "      <th>96</th>\n",
       "      <td>31.0</td>\n",
       "      <td>745.0</td>\n",
       "      <td>3.0</td>\n",
       "      <td>0.0</td>\n",
       "    </tr>\n",
       "    <tr>\n",
       "      <th>97</th>\n",
       "      <td>31.0</td>\n",
       "      <td>782.0</td>\n",
       "      <td>4.0</td>\n",
       "      <td>0.0</td>\n",
       "    </tr>\n",
       "    <tr>\n",
       "      <th>98</th>\n",
       "      <td>38.0</td>\n",
       "      <td>793.0</td>\n",
       "      <td>4.0</td>\n",
       "      <td>0.0</td>\n",
       "    </tr>\n",
       "    <tr>\n",
       "      <th>99</th>\n",
       "      <td>38.0</td>\n",
       "      <td>800.0</td>\n",
       "      <td>8.0</td>\n",
       "      <td>0.0</td>\n",
       "    </tr>\n",
       "  </tbody>\n",
       "</table>\n",
       "</div>"
      ],
      "text/plain": [
       "     age     sum  num_purchases  is_interested\n",
       "95  40.0  1088.0           10.0            0.0\n",
       "96  31.0   745.0            3.0            0.0\n",
       "97  31.0   782.0            4.0            0.0\n",
       "98  38.0   793.0            4.0            0.0\n",
       "99  38.0   800.0            8.0            0.0"
      ]
     },
     "execution_count": 19,
     "metadata": {},
     "output_type": "execute_result"
    }
   ],
   "source": [
    "df.tail()"
   ]
  },
  {
   "cell_type": "code",
   "execution_count": 20,
   "id": "2bdffafc-62de-47f1-bd26-1a1b69e45395",
   "metadata": {},
   "outputs": [
    {
     "data": {
      "text/html": [
       "<div>\n",
       "<style scoped>\n",
       "    .dataframe tbody tr th:only-of-type {\n",
       "        vertical-align: middle;\n",
       "    }\n",
       "\n",
       "    .dataframe tbody tr th {\n",
       "        vertical-align: top;\n",
       "    }\n",
       "\n",
       "    .dataframe thead th {\n",
       "        text-align: right;\n",
       "    }\n",
       "</style>\n",
       "<table border=\"1\" class=\"dataframe\">\n",
       "  <thead>\n",
       "    <tr style=\"text-align: right;\">\n",
       "      <th></th>\n",
       "      <th>age</th>\n",
       "      <th>sum</th>\n",
       "      <th>num_purchases</th>\n",
       "      <th>is_interested</th>\n",
       "    </tr>\n",
       "  </thead>\n",
       "  <tbody>\n",
       "    <tr>\n",
       "      <th>56</th>\n",
       "      <td>34.0</td>\n",
       "      <td>407.0</td>\n",
       "      <td>9.0</td>\n",
       "      <td>0.0</td>\n",
       "    </tr>\n",
       "  </tbody>\n",
       "</table>\n",
       "</div>"
      ],
      "text/plain": [
       "     age    sum  num_purchases  is_interested\n",
       "56  34.0  407.0            9.0            0.0"
      ]
     },
     "execution_count": 20,
     "metadata": {},
     "output_type": "execute_result"
    }
   ],
   "source": [
    "df.sample()"
   ]
  },
  {
   "cell_type": "code",
   "execution_count": 21,
   "id": "c3fb08b1-c203-497e-b18a-3bb06a513b70",
   "metadata": {},
   "outputs": [
    {
     "data": {
      "text/html": [
       "<div>\n",
       "<style scoped>\n",
       "    .dataframe tbody tr th:only-of-type {\n",
       "        vertical-align: middle;\n",
       "    }\n",
       "\n",
       "    .dataframe tbody tr th {\n",
       "        vertical-align: top;\n",
       "    }\n",
       "\n",
       "    .dataframe thead th {\n",
       "        text-align: right;\n",
       "    }\n",
       "</style>\n",
       "<table border=\"1\" class=\"dataframe\">\n",
       "  <thead>\n",
       "    <tr style=\"text-align: right;\">\n",
       "      <th></th>\n",
       "      <th>age</th>\n",
       "      <th>sum</th>\n",
       "      <th>num_purchases</th>\n",
       "      <th>is_interested</th>\n",
       "    </tr>\n",
       "  </thead>\n",
       "  <tbody>\n",
       "    <tr>\n",
       "      <th>21</th>\n",
       "      <td>29.0</td>\n",
       "      <td>1156.0</td>\n",
       "      <td>4.0</td>\n",
       "      <td>0.0</td>\n",
       "    </tr>\n",
       "    <tr>\n",
       "      <th>93</th>\n",
       "      <td>30.0</td>\n",
       "      <td>992.0</td>\n",
       "      <td>4.0</td>\n",
       "      <td>0.0</td>\n",
       "    </tr>\n",
       "    <tr>\n",
       "      <th>94</th>\n",
       "      <td>30.0</td>\n",
       "      <td>893.0</td>\n",
       "      <td>3.0</td>\n",
       "      <td>0.0</td>\n",
       "    </tr>\n",
       "    <tr>\n",
       "      <th>...</th>\n",
       "      <td>...</td>\n",
       "      <td>...</td>\n",
       "      <td>...</td>\n",
       "      <td>...</td>\n",
       "    </tr>\n",
       "    <tr>\n",
       "      <th>67</th>\n",
       "      <td>34.0</td>\n",
       "      <td>373.0</td>\n",
       "      <td>2.0</td>\n",
       "      <td>0.0</td>\n",
       "    </tr>\n",
       "    <tr>\n",
       "      <th>79</th>\n",
       "      <td>33.0</td>\n",
       "      <td>543.0</td>\n",
       "      <td>3.0</td>\n",
       "      <td>0.0</td>\n",
       "    </tr>\n",
       "    <tr>\n",
       "      <th>61</th>\n",
       "      <td>41.0</td>\n",
       "      <td>1272.0</td>\n",
       "      <td>5.0</td>\n",
       "      <td>0.0</td>\n",
       "    </tr>\n",
       "  </tbody>\n",
       "</table>\n",
       "<p>50 rows × 4 columns</p>\n",
       "</div>"
      ],
      "text/plain": [
       "     age     sum  num_purchases  is_interested\n",
       "21  29.0  1156.0            4.0            0.0\n",
       "93  30.0   992.0            4.0            0.0\n",
       "94  30.0   893.0            3.0            0.0\n",
       "..   ...     ...            ...            ...\n",
       "67  34.0   373.0            2.0            0.0\n",
       "79  33.0   543.0            3.0            0.0\n",
       "61  41.0  1272.0            5.0            0.0\n",
       "\n",
       "[50 rows x 4 columns]"
      ]
     },
     "execution_count": 21,
     "metadata": {},
     "output_type": "execute_result"
    }
   ],
   "source": [
    "df.sample(frac=.5)"
   ]
  },
  {
   "cell_type": "code",
   "execution_count": 22,
   "id": "024a6d2c-d52b-4c63-a666-e61cc570d191",
   "metadata": {},
   "outputs": [
    {
     "data": {
      "text/html": [
       "<div>\n",
       "<style scoped>\n",
       "    .dataframe tbody tr th:only-of-type {\n",
       "        vertical-align: middle;\n",
       "    }\n",
       "\n",
       "    .dataframe tbody tr th {\n",
       "        vertical-align: top;\n",
       "    }\n",
       "\n",
       "    .dataframe thead th {\n",
       "        text-align: right;\n",
       "    }\n",
       "</style>\n",
       "<table border=\"1\" class=\"dataframe\">\n",
       "  <thead>\n",
       "    <tr style=\"text-align: right;\">\n",
       "      <th></th>\n",
       "      <th>age</th>\n",
       "      <th>sum</th>\n",
       "      <th>num_purchases</th>\n",
       "      <th>is_interested</th>\n",
       "    </tr>\n",
       "  </thead>\n",
       "  <tbody>\n",
       "    <tr>\n",
       "      <th>count</th>\n",
       "      <td>100.000000</td>\n",
       "      <td>100.000000</td>\n",
       "      <td>100.000000</td>\n",
       "      <td>100.000000</td>\n",
       "    </tr>\n",
       "    <tr>\n",
       "      <th>mean</th>\n",
       "      <td>35.140000</td>\n",
       "      <td>1030.400000</td>\n",
       "      <td>4.360000</td>\n",
       "      <td>0.170000</td>\n",
       "    </tr>\n",
       "    <tr>\n",
       "      <th>std</th>\n",
       "      <td>6.576696</td>\n",
       "      <td>586.787729</td>\n",
       "      <td>2.263099</td>\n",
       "      <td>0.377525</td>\n",
       "    </tr>\n",
       "    <tr>\n",
       "      <th>...</th>\n",
       "      <td>...</td>\n",
       "      <td>...</td>\n",
       "      <td>...</td>\n",
       "      <td>...</td>\n",
       "    </tr>\n",
       "    <tr>\n",
       "      <th>50%</th>\n",
       "      <td>34.000000</td>\n",
       "      <td>900.500000</td>\n",
       "      <td>4.000000</td>\n",
       "      <td>0.000000</td>\n",
       "    </tr>\n",
       "    <tr>\n",
       "      <th>75%</th>\n",
       "      <td>40.000000</td>\n",
       "      <td>1328.750000</td>\n",
       "      <td>5.000000</td>\n",
       "      <td>0.000000</td>\n",
       "    </tr>\n",
       "    <tr>\n",
       "      <th>max</th>\n",
       "      <td>52.000000</td>\n",
       "      <td>3159.000000</td>\n",
       "      <td>11.000000</td>\n",
       "      <td>1.000000</td>\n",
       "    </tr>\n",
       "  </tbody>\n",
       "</table>\n",
       "<p>8 rows × 4 columns</p>\n",
       "</div>"
      ],
      "text/plain": [
       "              age          sum  num_purchases  is_interested\n",
       "count  100.000000   100.000000     100.000000     100.000000\n",
       "mean    35.140000  1030.400000       4.360000       0.170000\n",
       "std      6.576696   586.787729       2.263099       0.377525\n",
       "...           ...          ...            ...            ...\n",
       "50%     34.000000   900.500000       4.000000       0.000000\n",
       "75%     40.000000  1328.750000       5.000000       0.000000\n",
       "max     52.000000  3159.000000      11.000000       1.000000\n",
       "\n",
       "[8 rows x 4 columns]"
      ]
     },
     "execution_count": 22,
     "metadata": {},
     "output_type": "execute_result"
    }
   ],
   "source": [
    "df.describe()"
   ]
  },
  {
   "cell_type": "code",
   "execution_count": 23,
   "id": "fedf1876-edd1-421d-aa2c-43e8323e0ff8",
   "metadata": {},
   "outputs": [
    {
     "name": "stdout",
     "output_type": "stream",
     "text": [
      "<class 'pandas.core.frame.DataFrame'>\n",
      "RangeIndex: 100 entries, 0 to 99\n",
      "Data columns (total 4 columns):\n",
      " #   Column         Non-Null Count  Dtype  \n",
      "---  ------         --------------  -----  \n",
      " 0   age            100 non-null    float64\n",
      " 1   sum            100 non-null    float64\n",
      " 2   num_purchases  100 non-null    float64\n",
      " 3   is_interested  100 non-null    float64\n",
      "dtypes: float64(4)\n",
      "memory usage: 3.3 KB\n"
     ]
    }
   ],
   "source": [
    "df.info()"
   ]
  },
  {
   "cell_type": "markdown",
   "id": "b798809d-cb13-4f05-aa03-45e76e43967d",
   "metadata": {
    "jp-MarkdownHeadingCollapsed": true
   },
   "source": [
    "### Атрибуты датафрейма"
   ]
  },
  {
   "cell_type": "code",
   "execution_count": 24,
   "id": "29063ae2-a997-43df-942a-9c19183e266a",
   "metadata": {},
   "outputs": [
    {
     "data": {
      "text/plain": [
       "(100, 4)"
      ]
     },
     "execution_count": 24,
     "metadata": {},
     "output_type": "execute_result"
    }
   ],
   "source": [
    "df.shape"
   ]
  },
  {
   "cell_type": "code",
   "execution_count": 25,
   "id": "06d7ca9f-b719-4f00-80bb-83de26906df8",
   "metadata": {},
   "outputs": [
    {
     "data": {
      "text/plain": [
       "Index(['age', 'sum', 'num_purchases', 'is_interested'], dtype='object')"
      ]
     },
     "execution_count": 25,
     "metadata": {},
     "output_type": "execute_result"
    }
   ],
   "source": [
    "df.columns"
   ]
  },
  {
   "cell_type": "code",
   "execution_count": 26,
   "id": "146b1347-a390-4d7f-9fc3-f4588bd7bd31",
   "metadata": {},
   "outputs": [
    {
     "data": {
      "text/plain": [
       "RangeIndex(start=0, stop=100, step=1)"
      ]
     },
     "execution_count": 26,
     "metadata": {},
     "output_type": "execute_result"
    }
   ],
   "source": [
    "df.index"
   ]
  },
  {
   "cell_type": "code",
   "execution_count": 27,
   "id": "08ca2702-76d9-4f01-8163-34a67dc41dd3",
   "metadata": {},
   "outputs": [
    {
     "data": {
      "text/plain": [
       "False"
      ]
     },
     "execution_count": 27,
     "metadata": {},
     "output_type": "execute_result"
    }
   ],
   "source": [
    "df.empty"
   ]
  },
  {
   "cell_type": "code",
   "execution_count": 28,
   "id": "070868fa-a33f-430f-b373-9fb63a6e65f2",
   "metadata": {},
   "outputs": [
    {
     "data": {
      "text/plain": [
       "age              float64\n",
       "sum              float64\n",
       "num_purchases    float64\n",
       "is_interested    float64\n",
       "dtype: object"
      ]
     },
     "execution_count": 28,
     "metadata": {},
     "output_type": "execute_result"
    }
   ],
   "source": [
    "df.dtypes"
   ]
  },
  {
   "cell_type": "markdown",
   "id": "97071fb8-1a25-4d0d-87cd-cd5d0a1e597f",
   "metadata": {
    "jp-MarkdownHeadingCollapsed": true
   },
   "source": [
    "### Как изменить тип данных признаки в датафрейме?"
   ]
  },
  {
   "cell_type": "markdown",
   "id": "13fa2932-e0fc-4908-aa42-bc85ddbf4862",
   "metadata": {},
   "source": [
    "#### Возьмём одну колонку из нашего датафрейма и поменяем в ней тип данных на **int**"
   ]
  },
  {
   "cell_type": "code",
   "execution_count": 29,
   "id": "591f3268-24f2-4fd1-806b-e69292498af5",
   "metadata": {},
   "outputs": [
    {
     "data": {
      "text/plain": [
       "0     0.0\n",
       "1     0.0\n",
       "2     1.0\n",
       "     ... \n",
       "97    0.0\n",
       "98    0.0\n",
       "99    0.0\n",
       "Name: is_interested, Length: 100, dtype: float64"
      ]
     },
     "execution_count": 29,
     "metadata": {},
     "output_type": "execute_result"
    }
   ],
   "source": [
    "df['is_interested']"
   ]
  },
  {
   "cell_type": "markdown",
   "id": "726340f0-1b6c-43a0-96ba-1bc35b1804cd",
   "metadata": {},
   "source": [
    "Поменяем тип данных признака **is_interested** на целочисленный"
   ]
  },
  {
   "cell_type": "code",
   "execution_count": 30,
   "id": "de8601e7-4367-452c-9025-5598600d76b8",
   "metadata": {},
   "outputs": [
    {
     "data": {
      "text/plain": [
       "0     0\n",
       "1     0\n",
       "2     1\n",
       "     ..\n",
       "97    0\n",
       "98    0\n",
       "99    0\n",
       "Name: is_interested, Length: 100, dtype: int64"
      ]
     },
     "execution_count": 30,
     "metadata": {},
     "output_type": "execute_result"
    }
   ],
   "source": [
    "df['is_interested'].astype('int')"
   ]
  },
  {
   "cell_type": "code",
   "execution_count": 31,
   "id": "8e83ef4f-7177-4e21-b16c-4e1769601bda",
   "metadata": {},
   "outputs": [
    {
     "data": {
      "text/plain": [
       "age              float64\n",
       "sum              float64\n",
       "num_purchases    float64\n",
       "is_interested    float64\n",
       "dtype: object"
      ]
     },
     "execution_count": 31,
     "metadata": {},
     "output_type": "execute_result"
    }
   ],
   "source": [
    "df.dtypes"
   ]
  },
  {
   "cell_type": "markdown",
   "id": "7cacaf3f-f4c7-42e9-859e-e71ce50e3eac",
   "metadata": {},
   "source": [
    "Почему тип данных в колонке остался прежний? А потому, что мы явно не переопределили эту колонку"
   ]
  },
  {
   "cell_type": "code",
   "execution_count": 32,
   "id": "5fa2bdf9-d7fc-494e-96e7-0f9ad2cf2a32",
   "metadata": {},
   "outputs": [
    {
     "data": {
      "text/plain": [
       "0     0\n",
       "1     0\n",
       "2     1\n",
       "     ..\n",
       "97    0\n",
       "98    0\n",
       "99    0\n",
       "Name: is_interested, Length: 100, dtype: int64"
      ]
     },
     "execution_count": 32,
     "metadata": {},
     "output_type": "execute_result"
    }
   ],
   "source": [
    "df['is_interested'] = df['is_interested'].astype('int')\n",
    "df['is_interested']"
   ]
  },
  {
   "cell_type": "code",
   "execution_count": 33,
   "id": "b46a070b-7d87-472d-a2c1-4c4ec5fc7820",
   "metadata": {},
   "outputs": [
    {
     "data": {
      "text/plain": [
       "age              float64\n",
       "sum              float64\n",
       "num_purchases    float64\n",
       "is_interested      int64\n",
       "dtype: object"
      ]
     },
     "execution_count": 33,
     "metadata": {},
     "output_type": "execute_result"
    }
   ],
   "source": [
    "df.dtypes"
   ]
  },
  {
   "cell_type": "markdown",
   "id": "10fa5898-2dcd-40cd-803d-6ea92fbe02b0",
   "metadata": {},
   "source": [
    "Теперь всё в порядке"
   ]
  },
  {
   "cell_type": "markdown",
   "id": "8a818157-22cc-49f8-b416-58114a82927f",
   "metadata": {},
   "source": [
    "#### Изменим тип данных сразу в двух колонках датафрейма"
   ]
  },
  {
   "cell_type": "code",
   "execution_count": 34,
   "id": "92fa71fb-e81e-4383-8d60-9f69951a7e7c",
   "metadata": {},
   "outputs": [
    {
     "data": {
      "text/html": [
       "<div>\n",
       "<style scoped>\n",
       "    .dataframe tbody tr th:only-of-type {\n",
       "        vertical-align: middle;\n",
       "    }\n",
       "\n",
       "    .dataframe tbody tr th {\n",
       "        vertical-align: top;\n",
       "    }\n",
       "\n",
       "    .dataframe thead th {\n",
       "        text-align: right;\n",
       "    }\n",
       "</style>\n",
       "<table border=\"1\" class=\"dataframe\">\n",
       "  <thead>\n",
       "    <tr style=\"text-align: right;\">\n",
       "      <th></th>\n",
       "      <th>num_purchases</th>\n",
       "      <th>age</th>\n",
       "    </tr>\n",
       "  </thead>\n",
       "  <tbody>\n",
       "    <tr>\n",
       "      <th>0</th>\n",
       "      <td>2.0</td>\n",
       "      <td>38.0</td>\n",
       "    </tr>\n",
       "    <tr>\n",
       "      <th>1</th>\n",
       "      <td>11.0</td>\n",
       "      <td>32.0</td>\n",
       "    </tr>\n",
       "    <tr>\n",
       "      <th>2</th>\n",
       "      <td>7.0</td>\n",
       "      <td>52.0</td>\n",
       "    </tr>\n",
       "    <tr>\n",
       "      <th>...</th>\n",
       "      <td>...</td>\n",
       "      <td>...</td>\n",
       "    </tr>\n",
       "    <tr>\n",
       "      <th>97</th>\n",
       "      <td>4.0</td>\n",
       "      <td>31.0</td>\n",
       "    </tr>\n",
       "    <tr>\n",
       "      <th>98</th>\n",
       "      <td>4.0</td>\n",
       "      <td>38.0</td>\n",
       "    </tr>\n",
       "    <tr>\n",
       "      <th>99</th>\n",
       "      <td>8.0</td>\n",
       "      <td>38.0</td>\n",
       "    </tr>\n",
       "  </tbody>\n",
       "</table>\n",
       "<p>100 rows × 2 columns</p>\n",
       "</div>"
      ],
      "text/plain": [
       "    num_purchases   age\n",
       "0             2.0  38.0\n",
       "1            11.0  32.0\n",
       "2             7.0  52.0\n",
       "..            ...   ...\n",
       "97            4.0  31.0\n",
       "98            4.0  38.0\n",
       "99            8.0  38.0\n",
       "\n",
       "[100 rows x 2 columns]"
      ]
     },
     "execution_count": 34,
     "metadata": {},
     "output_type": "execute_result"
    }
   ],
   "source": [
    "df[['num_purchases', 'age']]"
   ]
  },
  {
   "cell_type": "code",
   "execution_count": 35,
   "id": "32d8ae39-e77d-4703-84af-1e798797cea0",
   "metadata": {},
   "outputs": [
    {
     "data": {
      "text/html": [
       "<div>\n",
       "<style scoped>\n",
       "    .dataframe tbody tr th:only-of-type {\n",
       "        vertical-align: middle;\n",
       "    }\n",
       "\n",
       "    .dataframe tbody tr th {\n",
       "        vertical-align: top;\n",
       "    }\n",
       "\n",
       "    .dataframe thead th {\n",
       "        text-align: right;\n",
       "    }\n",
       "</style>\n",
       "<table border=\"1\" class=\"dataframe\">\n",
       "  <thead>\n",
       "    <tr style=\"text-align: right;\">\n",
       "      <th></th>\n",
       "      <th>num_purchases</th>\n",
       "      <th>age</th>\n",
       "    </tr>\n",
       "  </thead>\n",
       "  <tbody>\n",
       "    <tr>\n",
       "      <th>0</th>\n",
       "      <td>2</td>\n",
       "      <td>38</td>\n",
       "    </tr>\n",
       "    <tr>\n",
       "      <th>1</th>\n",
       "      <td>11</td>\n",
       "      <td>32</td>\n",
       "    </tr>\n",
       "    <tr>\n",
       "      <th>2</th>\n",
       "      <td>7</td>\n",
       "      <td>52</td>\n",
       "    </tr>\n",
       "    <tr>\n",
       "      <th>...</th>\n",
       "      <td>...</td>\n",
       "      <td>...</td>\n",
       "    </tr>\n",
       "    <tr>\n",
       "      <th>97</th>\n",
       "      <td>4</td>\n",
       "      <td>31</td>\n",
       "    </tr>\n",
       "    <tr>\n",
       "      <th>98</th>\n",
       "      <td>4</td>\n",
       "      <td>38</td>\n",
       "    </tr>\n",
       "    <tr>\n",
       "      <th>99</th>\n",
       "      <td>8</td>\n",
       "      <td>38</td>\n",
       "    </tr>\n",
       "  </tbody>\n",
       "</table>\n",
       "<p>100 rows × 2 columns</p>\n",
       "</div>"
      ],
      "text/plain": [
       "    num_purchases  age\n",
       "0               2   38\n",
       "1              11   32\n",
       "2               7   52\n",
       "..            ...  ...\n",
       "97              4   31\n",
       "98              4   38\n",
       "99              8   38\n",
       "\n",
       "[100 rows x 2 columns]"
      ]
     },
     "execution_count": 35,
     "metadata": {},
     "output_type": "execute_result"
    }
   ],
   "source": [
    "df[['num_purchases', 'age']].astype('int')"
   ]
  },
  {
   "cell_type": "code",
   "execution_count": 36,
   "id": "2dc04479-b068-4400-8c0c-022b54e0bcfd",
   "metadata": {},
   "outputs": [
    {
     "data": {
      "text/plain": [
       "age              float64\n",
       "sum              float64\n",
       "num_purchases    float64\n",
       "is_interested      int64\n",
       "dtype: object"
      ]
     },
     "execution_count": 36,
     "metadata": {},
     "output_type": "execute_result"
    }
   ],
   "source": [
    "df.dtypes"
   ]
  },
  {
   "cell_type": "code",
   "execution_count": 37,
   "id": "ffb23314-87bd-4f92-91f4-37217845a82c",
   "metadata": {},
   "outputs": [],
   "source": [
    "df[['num_ruchases', 'age']] = df[['num_purchases', 'age']].astype('int')"
   ]
  },
  {
   "cell_type": "code",
   "execution_count": 38,
   "id": "0809d989-d00d-449d-b66b-c8148acf1da0",
   "metadata": {},
   "outputs": [
    {
     "data": {
      "text/plain": [
       "age                int64\n",
       "sum              float64\n",
       "num_purchases    float64\n",
       "is_interested      int64\n",
       "num_ruchases       int64\n",
       "dtype: object"
      ]
     },
     "execution_count": 38,
     "metadata": {},
     "output_type": "execute_result"
    }
   ],
   "source": [
    "df.dtypes"
   ]
  },
  {
   "cell_type": "markdown",
   "id": "6508c3e0-c7ce-4358-a85a-56ec25ac38f1",
   "metadata": {},
   "source": [
    "И вернем всё как было..."
   ]
  },
  {
   "cell_type": "code",
   "execution_count": 39,
   "id": "f94177ed-e76e-448b-8624-cd86ff367c3f",
   "metadata": {},
   "outputs": [
    {
     "data": {
      "text/plain": [
       "age              float64\n",
       "sum              float64\n",
       "num_purchases    float64\n",
       "is_interested      int64\n",
       "num_ruchases     float64\n",
       "dtype: object"
      ]
     },
     "execution_count": 39,
     "metadata": {},
     "output_type": "execute_result"
    }
   ],
   "source": [
    "df[['num_ruchases', 'age']] = df[['num_purchases', 'age']].astype('float')\n",
    "df.dtypes"
   ]
  },
  {
   "cell_type": "markdown",
   "id": "e6d45a83-40fa-426a-9e58-e5b8328dfe7d",
   "metadata": {
    "jp-MarkdownHeadingCollapsed": true
   },
   "source": [
    "### Полезные методы датафрейма и серии"
   ]
  },
  {
   "cell_type": "markdown",
   "id": "119ec3f5-5718-4385-9794-2b7ee2d70ed8",
   "metadata": {},
   "source": [
    "#### unique()"
   ]
  },
  {
   "cell_type": "code",
   "execution_count": 40,
   "id": "3e0881f9-40f3-496c-b076-b75e270d9ad7",
   "metadata": {},
   "outputs": [
    {
     "data": {
      "text/plain": [
       "array([ 2., 11.,  7.,  5.,  8.,  4.,  3., 10.,  6.,  9.])"
      ]
     },
     "execution_count": 40,
     "metadata": {},
     "output_type": "execute_result"
    }
   ],
   "source": [
    "df['num_purchases'].unique()"
   ]
  },
  {
   "cell_type": "markdown",
   "id": "a68eb6e1-aa22-418c-a018-94321ddc43d8",
   "metadata": {},
   "source": [
    "#### nunique()"
   ]
  },
  {
   "cell_type": "code",
   "execution_count": 42,
   "id": "18192bd6-d27f-474c-a94e-bece9e8ecfc9",
   "metadata": {},
   "outputs": [
    {
     "data": {
      "text/plain": [
       "10"
      ]
     },
     "execution_count": 42,
     "metadata": {},
     "output_type": "execute_result"
    }
   ],
   "source": [
    "df['num_purchases'].nunique()"
   ]
  },
  {
   "cell_type": "markdown",
   "id": "e762b64f-c2fc-442a-ae50-808b01d31451",
   "metadata": {},
   "source": [
    "Возвращает количество уникальных значений в столбце. Проверим:"
   ]
  },
  {
   "cell_type": "code",
   "execution_count": 44,
   "id": "6809d1bb-cb7d-473e-9cd4-9e3909256d0d",
   "metadata": {},
   "outputs": [
    {
     "data": {
      "text/plain": [
       "10"
      ]
     },
     "execution_count": 44,
     "metadata": {},
     "output_type": "execute_result"
    }
   ],
   "source": [
    "df['num_purchases'].unique().__len__()"
   ]
  },
  {
   "cell_type": "markdown",
   "id": "232733c6-73c2-48c5-a700-6fbaaaa746c2",
   "metadata": {},
   "source": [
    "Точно. Длина массива, полученного при помощи метода **unique()** равна 10"
   ]
  },
  {
   "cell_type": "markdown",
   "id": "310a5815-87c1-4c60-9c06-19ac32c25165",
   "metadata": {},
   "source": [
    "#### value_counts()"
   ]
  },
  {
   "cell_type": "markdown",
   "id": "07677c07-9a50-44f9-885b-33e659c23ed7",
   "metadata": {},
   "source": [
    "Применим к датафрейму:"
   ]
  },
  {
   "cell_type": "code",
   "execution_count": 45,
   "id": "3175b421-46ed-4e22-8274-9d9ada89a512",
   "metadata": {},
   "outputs": [
    {
     "data": {
      "text/plain": [
       "num_purchases\n",
       "2.0     23\n",
       "3.0     22\n",
       "4.0     17\n",
       "        ..\n",
       "9.0      5\n",
       "10.0     2\n",
       "11.0     1\n",
       "Name: count, Length: 10, dtype: int64"
      ]
     },
     "execution_count": 45,
     "metadata": {},
     "output_type": "execute_result"
    }
   ],
   "source": [
    "df.value_counts('num_purchases')"
   ]
  },
  {
   "cell_type": "markdown",
   "id": "c52f36ff-f78d-4636-8956-482ed4457f9d",
   "metadata": {},
   "source": [
    "Применим к серии:"
   ]
  },
  {
   "cell_type": "code",
   "execution_count": 47,
   "id": "cfd02bf1-813a-4bec-b670-42935b5b83c4",
   "metadata": {},
   "outputs": [
    {
     "data": {
      "text/plain": [
       "num_purchases\n",
       "2.0     23\n",
       "3.0     22\n",
       "4.0     17\n",
       "        ..\n",
       "9.0      5\n",
       "10.0     2\n",
       "11.0     1\n",
       "Name: count, Length: 10, dtype: int64"
      ]
     },
     "execution_count": 47,
     "metadata": {},
     "output_type": "execute_result"
    }
   ],
   "source": [
    "df['num_purchases'].value_counts()"
   ]
  },
  {
   "cell_type": "markdown",
   "id": "eb02d240-41e6-4e56-a243-ad054837e0d2",
   "metadata": {},
   "source": [
    "Подсчитае долю признака в столбце:"
   ]
  },
  {
   "cell_type": "code",
   "execution_count": 49,
   "id": "0bca849c-1296-4ed9-99ad-eae922a62a0d",
   "metadata": {},
   "outputs": [
    {
     "data": {
      "text/plain": [
       "num_purchases\n",
       "2.0     0.23\n",
       "3.0     0.22\n",
       "4.0     0.17\n",
       "        ... \n",
       "9.0     0.05\n",
       "10.0    0.02\n",
       "11.0    0.01\n",
       "Name: proportion, Length: 10, dtype: float64"
      ]
     },
     "execution_count": 49,
     "metadata": {},
     "output_type": "execute_result"
    }
   ],
   "source": [
    "df['num_purchases'].value_counts(normalize=True)"
   ]
  },
  {
   "cell_type": "markdown",
   "id": "ec04fa36-aa93-4134-b180-5bf254d1659f",
   "metadata": {
    "jp-MarkdownHeadingCollapsed": true
   },
   "source": [
    "### Методы агрегации"
   ]
  },
  {
   "cell_type": "code",
   "execution_count": 50,
   "id": "e2c89804-9f68-4613-b2b3-abc3189aee98",
   "metadata": {},
   "outputs": [
    {
     "data": {
      "text/plain": [
       "103040.0"
      ]
     },
     "execution_count": 50,
     "metadata": {},
     "output_type": "execute_result"
    }
   ],
   "source": [
    "df['sum'].sum()"
   ]
  },
  {
   "cell_type": "code",
   "execution_count": 51,
   "id": "592209e0-9043-4de2-a814-3c97cdc84f73",
   "metadata": {},
   "outputs": [
    {
     "data": {
      "text/plain": [
       "14.0"
      ]
     },
     "execution_count": 51,
     "metadata": {},
     "output_type": "execute_result"
    }
   ],
   "source": [
    "df['age'].min()"
   ]
  },
  {
   "cell_type": "code",
   "execution_count": 53,
   "id": "f8be82a8-a23d-45fb-be4e-a1a1e4b0e524",
   "metadata": {},
   "outputs": [
    {
     "data": {
      "text/plain": [
       "11.0"
      ]
     },
     "execution_count": 53,
     "metadata": {},
     "output_type": "execute_result"
    }
   ],
   "source": [
    "df['num_purchases'].max()"
   ]
  },
  {
   "cell_type": "code",
   "execution_count": 52,
   "id": "d9f25e8f-0d71-40bc-a184-16dc4f2c5c89",
   "metadata": {},
   "outputs": [
    {
     "data": {
      "text/plain": [
       "35.14"
      ]
     },
     "execution_count": 52,
     "metadata": {},
     "output_type": "execute_result"
    }
   ],
   "source": [
    "df['age'].mean()"
   ]
  },
  {
   "cell_type": "code",
   "execution_count": 56,
   "id": "f66abe11-76a8-4a45-b4e1-42f14ed3ea38",
   "metadata": {},
   "outputs": [
    {
     "data": {
      "text/plain": [
       "34.0"
      ]
     },
     "execution_count": 56,
     "metadata": {},
     "output_type": "execute_result"
    }
   ],
   "source": [
    "df['age'].median()"
   ]
  },
  {
   "cell_type": "code",
   "execution_count": 55,
   "id": "326ef89b-0f41-44fe-ba43-33bb0deb3f40",
   "metadata": {},
   "outputs": [
    {
     "data": {
      "text/plain": [
       "1"
      ]
     },
     "execution_count": 55,
     "metadata": {},
     "output_type": "execute_result"
    }
   ],
   "source": [
    "idx = df['num_purchases'].argmax()\n",
    "idx"
   ]
  },
  {
   "cell_type": "code",
   "execution_count": 58,
   "id": "55332de8-c666-4d39-9479-edc70b84fc83",
   "metadata": {},
   "outputs": [
    {
     "data": {
      "text/plain": [
       "0"
      ]
     },
     "execution_count": 58,
     "metadata": {},
     "output_type": "execute_result"
    }
   ],
   "source": [
    "idx = df['num_purchases'].argmin()\n",
    "idx"
   ]
  },
  {
   "cell_type": "markdown",
   "id": "26c25757-31ce-41fa-9ea3-10555b5000e8",
   "metadata": {},
   "source": [
    "### Взятие объекта по индексу"
   ]
  },
  {
   "cell_type": "markdown",
   "id": "a8ee70fa-080a-460d-b354-b0b7d864edf8",
   "metadata": {},
   "source": [
    "Используем метод **loc[]**"
   ]
  },
  {
   "cell_type": "code",
   "execution_count": 60,
   "id": "0683e881-49f3-414f-816e-23aba62d0e82",
   "metadata": {},
   "outputs": [
    {
     "data": {
      "text/plain": [
       "age               38.0\n",
       "sum              741.0\n",
       "num_purchases      2.0\n",
       "is_interested      0.0\n",
       "num_ruchases       2.0\n",
       "Name: 0, dtype: float64"
      ]
     },
     "execution_count": 60,
     "metadata": {},
     "output_type": "execute_result"
    }
   ],
   "source": [
    "df.loc[idx]"
   ]
  },
  {
   "cell_type": "markdown",
   "id": "5065cee6-51f7-463b-88d1-ca06d65a916e",
   "metadata": {},
   "source": [
    "Для примера создадим игрушечный датафрейм:"
   ]
  },
  {
   "cell_type": "code",
   "execution_count": 71,
   "id": "d977f5b7-4bae-453f-855c-94821ad1a619",
   "metadata": {},
   "outputs": [
    {
     "data": {
      "text/html": [
       "<div>\n",
       "<style scoped>\n",
       "    .dataframe tbody tr th:only-of-type {\n",
       "        vertical-align: middle;\n",
       "    }\n",
       "\n",
       "    .dataframe tbody tr th {\n",
       "        vertical-align: top;\n",
       "    }\n",
       "\n",
       "    .dataframe thead th {\n",
       "        text-align: right;\n",
       "    }\n",
       "</style>\n",
       "<table border=\"1\" class=\"dataframe\">\n",
       "  <thead>\n",
       "    <tr style=\"text-align: right;\">\n",
       "      <th></th>\n",
       "      <th>feature_1</th>\n",
       "      <th>feature_2</th>\n",
       "    </tr>\n",
       "  </thead>\n",
       "  <tbody>\n",
       "    <tr>\n",
       "      <th>9</th>\n",
       "      <td>1</td>\n",
       "      <td>one</td>\n",
       "    </tr>\n",
       "    <tr>\n",
       "      <th>5</th>\n",
       "      <td>2</td>\n",
       "      <td>two</td>\n",
       "    </tr>\n",
       "    <tr>\n",
       "      <th>2</th>\n",
       "      <td>3</td>\n",
       "      <td>three</td>\n",
       "    </tr>\n",
       "  </tbody>\n",
       "</table>\n",
       "</div>"
      ],
      "text/plain": [
       "   feature_1 feature_2\n",
       "9          1       one\n",
       "5          2       two\n",
       "2          3     three"
      ]
     },
     "execution_count": 71,
     "metadata": {},
     "output_type": "execute_result"
    }
   ],
   "source": [
    "toy_df = pd.DataFrame({\n",
    "    'feature_1': [1, 2, 3],\n",
    "    'feature_2': ['one', 'two', 'three']\n",
    "}, index=[9, 5, 2])\n",
    "\n",
    "toy_df"
   ]
  },
  {
   "cell_type": "code",
   "execution_count": 72,
   "id": "35d43b6a-a156-419d-8cba-25a7741f8180",
   "metadata": {},
   "outputs": [
    {
     "data": {
      "text/plain": [
       "feature_1      1\n",
       "feature_2    one\n",
       "Name: 9, dtype: object"
      ]
     },
     "execution_count": 72,
     "metadata": {},
     "output_type": "execute_result"
    }
   ],
   "source": [
    "toy_df.loc[9]"
   ]
  },
  {
   "cell_type": "markdown",
   "id": "8d183fe7-fc3a-49b7-81de-9c1732574b60",
   "metadata": {},
   "source": [
    "Если индекса в датафрейме нат, то вернется ошибка: **KeyError**"
   ]
  },
  {
   "cell_type": "code",
   "execution_count": 73,
   "id": "8fb5fdc3-ceca-4728-824c-3c2296dcbd4d",
   "metadata": {},
   "outputs": [
    {
     "name": "stdout",
     "output_type": "stream",
     "text": [
      "KeyError\n"
     ]
    }
   ],
   "source": [
    "try:\n",
    "    print(toy_df.loc[8])\n",
    "except:\n",
    "    print(\"KeyError\")"
   ]
  },
  {
   "cell_type": "code",
   "execution_count": 79,
   "id": "718d567e-545b-440d-99f9-823962cb380d",
   "metadata": {},
   "outputs": [
    {
     "data": {
      "text/html": [
       "<div>\n",
       "<style scoped>\n",
       "    .dataframe tbody tr th:only-of-type {\n",
       "        vertical-align: middle;\n",
       "    }\n",
       "\n",
       "    .dataframe tbody tr th {\n",
       "        vertical-align: top;\n",
       "    }\n",
       "\n",
       "    .dataframe thead th {\n",
       "        text-align: right;\n",
       "    }\n",
       "</style>\n",
       "<table border=\"1\" class=\"dataframe\">\n",
       "  <thead>\n",
       "    <tr style=\"text-align: right;\">\n",
       "      <th></th>\n",
       "      <th>feature_1</th>\n",
       "      <th>feature_2</th>\n",
       "    </tr>\n",
       "  </thead>\n",
       "  <tbody>\n",
       "    <tr>\n",
       "      <th>9</th>\n",
       "      <td>1</td>\n",
       "      <td>one</td>\n",
       "    </tr>\n",
       "    <tr>\n",
       "      <th>5</th>\n",
       "      <td>2</td>\n",
       "      <td>two</td>\n",
       "    </tr>\n",
       "  </tbody>\n",
       "</table>\n",
       "</div>"
      ],
      "text/plain": [
       "   feature_1 feature_2\n",
       "9          1       one\n",
       "5          2       two"
      ]
     },
     "execution_count": 79,
     "metadata": {},
     "output_type": "execute_result"
    }
   ],
   "source": [
    "toy_df.loc[:5]"
   ]
  },
  {
   "cell_type": "code",
   "execution_count": 80,
   "id": "f8f4ed77-876f-48d6-91dc-a6738c8d75af",
   "metadata": {},
   "outputs": [
    {
     "data": {
      "text/plain": [
       "'two'"
      ]
     },
     "execution_count": 80,
     "metadata": {},
     "output_type": "execute_result"
    }
   ],
   "source": [
    "toy_df.loc[5, 'feature_2']"
   ]
  },
  {
   "cell_type": "code",
   "execution_count": 82,
   "id": "84cdd1a5-fa78-4d6d-866f-7ab1e542a8b3",
   "metadata": {},
   "outputs": [
    {
     "name": "stdout",
     "output_type": "stream",
     "text": [
      "  feature_2  feature_1\n",
      "2     three          3\n",
      "9       one          1\n"
     ]
    }
   ],
   "source": [
    "print(toy_df.loc[[2, 9], ['feature_2', 'feature_1']])"
   ]
  },
  {
   "cell_type": "code",
   "execution_count": null,
   "id": "8adc389e-90c8-433a-9d2c-1c79cf869461",
   "metadata": {},
   "outputs": [],
   "source": []
  }
 ],
 "metadata": {
  "kernelspec": {
   "display_name": "Python 3 (ipykernel)",
   "language": "python",
   "name": "python3"
  },
  "language_info": {
   "codemirror_mode": {
    "name": "ipython",
    "version": 3
   },
   "file_extension": ".py",
   "mimetype": "text/x-python",
   "name": "python",
   "nbconvert_exporter": "python",
   "pygments_lexer": "ipython3",
   "version": "3.11.8"
  }
 },
 "nbformat": 4,
 "nbformat_minor": 5
}
