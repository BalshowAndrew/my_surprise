{
 "cells": [
  {
   "cell_type": "code",
   "execution_count": 2,
   "id": "0763e44e-52be-42dd-9982-21a94ad43647",
   "metadata": {},
   "outputs": [],
   "source": [
    "import pandas as pd\n",
    "import numpy as np"
   ]
  },
  {
   "cell_type": "markdown",
   "id": "7f1e5b26-3b10-47f4-85c7-3265db278ac8",
   "metadata": {},
   "source": [
    "## Series"
   ]
  },
  {
   "cell_type": "markdown",
   "id": "09772726-7797-4939-b524-7c6bc4e6930d",
   "metadata": {},
   "source": [
    "### Создаем Series"
   ]
  },
  {
   "cell_type": "markdown",
   "id": "03b7d483-7cc3-4d18-8a00-56e3d6653ce6",
   "metadata": {
    "jp-MarkdownHeadingCollapsed": true
   },
   "source": [
    "#### 1. Создадим через **array**:"
   ]
  },
  {
   "cell_type": "code",
   "execution_count": 3,
   "id": "b50437a3-8f82-437f-be9e-2f2e56d45920",
   "metadata": {},
   "outputs": [
    {
     "data": {
      "text/plain": [
       "array([4, 0, 2])"
      ]
     },
     "execution_count": 3,
     "metadata": {},
     "output_type": "execute_result"
    }
   ],
   "source": [
    "data = np.random.randint(5, size=(3))\n",
    "data"
   ]
  },
  {
   "cell_type": "code",
   "execution_count": 4,
   "id": "a4c4413e-1563-4c0c-9298-9aafef1870f8",
   "metadata": {},
   "outputs": [
    {
     "data": {
      "text/plain": [
       "a    4\n",
       "b    0\n",
       "c    2\n",
       "dtype: int64"
      ]
     },
     "execution_count": 4,
     "metadata": {},
     "output_type": "execute_result"
    }
   ],
   "source": [
    "s = pd.Series(data, index=['a', 'b', 'c'])\n",
    "s"
   ]
  },
  {
   "cell_type": "markdown",
   "id": "2d157f17-293b-45b0-9100-5782f02b83c5",
   "metadata": {},
   "source": [
    "#### 2. Создадим через **python list**:"
   ]
  },
  {
   "cell_type": "code",
   "execution_count": 5,
   "id": "c3fdaf11-364d-428c-a7c4-eab2a06c4e35",
   "metadata": {},
   "outputs": [
    {
     "data": {
      "text/plain": [
       "a    0\n",
       "b    3\n",
       "c    7\n",
       "dtype: int64"
      ]
     },
     "execution_count": 5,
     "metadata": {},
     "output_type": "execute_result"
    }
   ],
   "source": [
    "data = [0, 3, 7]\n",
    "s = pd.Series(data, index=['a', 'b', 'c'])\n",
    "s"
   ]
  },
  {
   "cell_type": "markdown",
   "id": "f04bc921-85a3-4ff9-83e7-3b91e97fc3cf",
   "metadata": {},
   "source": [
    "#### 3. Создадим через **python dict**"
   ]
  },
  {
   "cell_type": "code",
   "execution_count": 7,
   "id": "92ee1f69-fa4f-4ac1-a38e-6a5223727c00",
   "metadata": {},
   "outputs": [
    {
     "data": {
      "text/plain": [
       "c    1\n",
       "b    2\n",
       "a    3\n",
       "dtype: int64"
      ]
     },
     "execution_count": 7,
     "metadata": {},
     "output_type": "execute_result"
    }
   ],
   "source": [
    "data = {'c': 1, 'b': 2, 'a': 3}\n",
    "s = pd.Series(data)\n",
    "s"
   ]
  },
  {
   "cell_type": "code",
   "execution_count": 9,
   "id": "7f11583e-722b-437e-9abd-eb55db886506",
   "metadata": {},
   "outputs": [
    {
     "data": {
      "text/plain": [
       "a    3\n",
       "b    2\n",
       "c    1\n",
       "dtype: int64"
      ]
     },
     "execution_count": 9,
     "metadata": {},
     "output_type": "execute_result"
    }
   ],
   "source": [
    "# Меняем прядок серии, изменив порядок индексов:\n",
    "s = pd.Series(data, index=['a', 'b', 'c'])\n",
    "s"
   ]
  },
  {
   "cell_type": "code",
   "execution_count": 13,
   "id": "60ce3547-cb3d-44ea-84ee-c57b1dadbe92",
   "metadata": {},
   "outputs": [
    {
     "data": {
      "text/plain": [
       "a    3.0\n",
       "b    2.0\n",
       "x    NaN\n",
       "dtype: float64"
      ]
     },
     "execution_count": 13,
     "metadata": {},
     "output_type": "execute_result"
    }
   ],
   "source": [
    "# Если задать индекс, которого нет среди ключей в словаре,\n",
    "# то соответствующее этому индексу значение будет NaN\n",
    "s = pd.Series(data, index=['a', 'b', 'x'])\n",
    "s"
   ]
  },
  {
   "cell_type": "markdown",
   "id": "ec3be147-1dc3-45f9-ba89-b6552cd8fd3c",
   "metadata": {},
   "source": [
    "#### 4. Создадим через **скаляр**:"
   ]
  },
  {
   "cell_type": "code",
   "execution_count": 14,
   "id": "1bc3592c-67c9-4a57-bac6-35cb348dbc00",
   "metadata": {},
   "outputs": [
    {
     "data": {
      "text/plain": [
       "0    8\n",
       "dtype: int64"
      ]
     },
     "execution_count": 14,
     "metadata": {},
     "output_type": "execute_result"
    }
   ],
   "source": [
    "s = pd.Series(8)\n",
    "s"
   ]
  },
  {
   "cell_type": "code",
   "execution_count": 15,
   "id": "98a604dd-d361-4d19-94c8-ba0c4eff2682",
   "metadata": {},
   "outputs": [
    {
     "data": {
      "text/plain": [
       "a    8\n",
       "b    8\n",
       "c    8\n",
       "dtype: int64"
      ]
     },
     "execution_count": 15,
     "metadata": {},
     "output_type": "execute_result"
    }
   ],
   "source": [
    "s = pd.Series(8, index=['a', 'b', 'c'])\n",
    "s"
   ]
  },
  {
   "cell_type": "code",
   "execution_count": null,
   "id": "41b09a1e-b65f-406a-8963-34b8b70c2525",
   "metadata": {},
   "outputs": [],
   "source": []
  }
 ],
 "metadata": {
  "kernelspec": {
   "display_name": "Python 3 (ipykernel)",
   "language": "python",
   "name": "python3"
  },
  "language_info": {
   "codemirror_mode": {
    "name": "ipython",
    "version": 3
   },
   "file_extension": ".py",
   "mimetype": "text/x-python",
   "name": "python",
   "nbconvert_exporter": "python",
   "pygments_lexer": "ipython3",
   "version": "3.11.8"
  }
 },
 "nbformat": 4,
 "nbformat_minor": 5
}
