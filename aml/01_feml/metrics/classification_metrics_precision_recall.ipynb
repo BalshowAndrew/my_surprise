{
 "cells": [
  {
   "cell_type": "code",
   "execution_count": 1,
   "metadata": {
    "id": "oseC_nj55T5A"
   },
   "outputs": [],
   "source": [
    "import pandas as pd\n",
    "import numpy as np\n",
    "import matplotlib.pyplot as plt\n",
    "import seaborn as sns\n",
    "import matplotlib\n",
    "\n",
    "matplotlib.rcParams.update({'font.size': 14})"
   ]
  },
  {
   "cell_type": "markdown",
   "metadata": {
    "id": "OcJzuf5WJ6qd"
   },
   "source": [
    "Уже познакомились с метрикой для классификации accuracy, если не знакомились, то обязательно сделайте это прямо сейчас. [Ссылка](https://drive.google.com/file/d/1RSIGFmdzTLYEPCcZUWcWvO9-UW23Bm-K/view?usp=sharing) на ноутбук и [ссылка](https://youtu.be/CCH-1gJo_z0) на видео на ютубе."
   ]
  },
  {
   "cell_type": "markdown",
   "metadata": {
    "id": "GeVL9WAdKkGv"
   },
   "source": [
    "У метрики accuracy есть пара проблем:\n",
    "- На выборках с дисбалансом классов метрика необъективна\n",
    "- Невозможно давать вес для разных ошибок"
   ]
  },
  {
   "cell_type": "markdown",
   "metadata": {
    "id": "0zsy50ywK-87"
   },
   "source": [
    "Поэтому хочется ввести такую метрику, которая эти проблемы обходит стороной."
   ]
  },
  {
   "cell_type": "markdown",
   "metadata": {
    "id": "F1Sdqov32DLc"
   },
   "source": [
    "## Данные"
   ]
  },
  {
   "cell_type": "markdown",
   "metadata": {
    "id": "r93dpOiwLtOs"
   },
   "source": [
    "Давайте вспомним, какие были ошибки с моделью кредитного скоринга.\n",
    "\n",
    "0 классом помечаем клиентов, которые кредит не вернут, а 1 - которые вернут.\n",
    "Выборка без дисбаланса классов, 5 объектов с классом 0, а 5 - с классом 1.\n",
    "\n"
   ]
  },
  {
   "cell_type": "code",
   "execution_count": 2,
   "metadata": {
    "colab": {
     "base_uri": "https://localhost:8080/",
     "height": 359
    },
    "id": "NJhZlK0GLkJW",
    "outputId": "e28624e3-1a58-42d3-c1c2-db9c69209038"
   },
   "outputs": [
    {
     "data": {
      "text/html": [
       "<div>\n",
       "<style scoped>\n",
       "    .dataframe tbody tr th:only-of-type {\n",
       "        vertical-align: middle;\n",
       "    }\n",
       "\n",
       "    .dataframe tbody tr th {\n",
       "        vertical-align: top;\n",
       "    }\n",
       "\n",
       "    .dataframe thead th {\n",
       "        text-align: right;\n",
       "    }\n",
       "</style>\n",
       "<table border=\"1\" class=\"dataframe\">\n",
       "  <thead>\n",
       "    <tr style=\"text-align: right;\">\n",
       "      <th></th>\n",
       "      <th>clients</th>\n",
       "      <th>first_model</th>\n",
       "      <th>second_model</th>\n",
       "    </tr>\n",
       "  </thead>\n",
       "  <tbody>\n",
       "    <tr>\n",
       "      <th>0</th>\n",
       "      <td>0</td>\n",
       "      <td>0</td>\n",
       "      <td>0</td>\n",
       "    </tr>\n",
       "    <tr>\n",
       "      <th>1</th>\n",
       "      <td>0</td>\n",
       "      <td>0</td>\n",
       "      <td>0</td>\n",
       "    </tr>\n",
       "    <tr>\n",
       "      <th>2</th>\n",
       "      <td>0</td>\n",
       "      <td>1</td>\n",
       "      <td>0</td>\n",
       "    </tr>\n",
       "    <tr>\n",
       "      <th>3</th>\n",
       "      <td>0</td>\n",
       "      <td>1</td>\n",
       "      <td>0</td>\n",
       "    </tr>\n",
       "    <tr>\n",
       "      <th>4</th>\n",
       "      <td>0</td>\n",
       "      <td>1</td>\n",
       "      <td>0</td>\n",
       "    </tr>\n",
       "    <tr>\n",
       "      <th>5</th>\n",
       "      <td>1</td>\n",
       "      <td>1</td>\n",
       "      <td>1</td>\n",
       "    </tr>\n",
       "    <tr>\n",
       "      <th>6</th>\n",
       "      <td>1</td>\n",
       "      <td>1</td>\n",
       "      <td>1</td>\n",
       "    </tr>\n",
       "    <tr>\n",
       "      <th>7</th>\n",
       "      <td>1</td>\n",
       "      <td>1</td>\n",
       "      <td>0</td>\n",
       "    </tr>\n",
       "    <tr>\n",
       "      <th>8</th>\n",
       "      <td>1</td>\n",
       "      <td>1</td>\n",
       "      <td>0</td>\n",
       "    </tr>\n",
       "    <tr>\n",
       "      <th>9</th>\n",
       "      <td>1</td>\n",
       "      <td>1</td>\n",
       "      <td>0</td>\n",
       "    </tr>\n",
       "  </tbody>\n",
       "</table>\n",
       "</div>"
      ],
      "text/plain": [
       "   clients  first_model  second_model\n",
       "0        0            0             0\n",
       "1        0            0             0\n",
       "2        0            1             0\n",
       "3        0            1             0\n",
       "4        0            1             0\n",
       "5        1            1             1\n",
       "6        1            1             1\n",
       "7        1            1             0\n",
       "8        1            1             0\n",
       "9        1            1             0"
      ]
     },
     "execution_count": 2,
     "metadata": {},
     "output_type": "execute_result"
    }
   ],
   "source": [
    "clients = [0, 0, 0, 0, 0,\n",
    "           1, 1, 1, 1, 1]\n",
    "first_model_pred = [0, 0, 1, 1, 1,\n",
    "                    1, 1, 1, 1, 1]\n",
    "second_model_pred = [0, 0, 0, 0, 0,\n",
    "                     1, 1, 0, 0, 0]\n",
    "\n",
    "\n",
    "df = pd.DataFrame({\n",
    "    'clients': clients,\n",
    "    'first_model': first_model_pred,\n",
    "    'second_model': second_model_pred\n",
    "})\n",
    "\n",
    "df"
   ]
  },
  {
   "cell_type": "markdown",
   "metadata": {
    "id": "P2W7ZvbgLkJT"
   },
   "source": [
    "У нас получилось две модели с разными ошибками."
   ]
  },
  {
   "cell_type": "code",
   "execution_count": 3,
   "metadata": {
    "id": "Xf-SPUFoMNJR"
   },
   "outputs": [],
   "source": [
    "# Посмотрим правильность работы моделей\n",
    "df['first_model_right'] = df['clients'] == df['first_model']\n",
    "df['second_model_right'] = df['clients'] == df['second_model']"
   ]
  },
  {
   "cell_type": "markdown",
   "metadata": {
    "id": "HI2qGCriNwPe"
   },
   "source": [
    "Давайте будем считать 1 класс **целевым**, то есть относительно первого класса будем считать метрики качества.  \n",
    "\n",
    "В ситуации, когда модель предсказывает 1 класс, будем считать, что модель *сработала*, раз предсказала целевой класс.   \n",
    "А в ситуации, когда модель предсказывает 0 класс, будем говорить, что модель *не сработала*, то есть *пропустила* объект, не увидела в нём целевой класс."
   ]
  },
  {
   "cell_type": "code",
   "execution_count": 4,
   "metadata": {
    "colab": {
     "base_uri": "https://localhost:8080/",
     "height": 142
    },
    "id": "uJf6k8iTMePL",
    "outputId": "2e574183-3ef2-4102-bc20-bfddd78789e4"
   },
   "outputs": [
    {
     "data": {
      "text/html": [
       "<div>\n",
       "<style scoped>\n",
       "    .dataframe tbody tr th:only-of-type {\n",
       "        vertical-align: middle;\n",
       "    }\n",
       "\n",
       "    .dataframe tbody tr th {\n",
       "        vertical-align: top;\n",
       "    }\n",
       "\n",
       "    .dataframe thead th {\n",
       "        text-align: right;\n",
       "    }\n",
       "</style>\n",
       "<table border=\"1\" class=\"dataframe\">\n",
       "  <thead>\n",
       "    <tr style=\"text-align: right;\">\n",
       "      <th></th>\n",
       "      <th>clients</th>\n",
       "      <th>first_model</th>\n",
       "    </tr>\n",
       "  </thead>\n",
       "  <tbody>\n",
       "    <tr>\n",
       "      <th>2</th>\n",
       "      <td>0</td>\n",
       "      <td>1</td>\n",
       "    </tr>\n",
       "    <tr>\n",
       "      <th>3</th>\n",
       "      <td>0</td>\n",
       "      <td>1</td>\n",
       "    </tr>\n",
       "    <tr>\n",
       "      <th>4</th>\n",
       "      <td>0</td>\n",
       "      <td>1</td>\n",
       "    </tr>\n",
       "  </tbody>\n",
       "</table>\n",
       "</div>"
      ],
      "text/plain": [
       "   clients  first_model\n",
       "2        0            1\n",
       "3        0            1\n",
       "4        0            1"
      ]
     },
     "execution_count": 4,
     "metadata": {},
     "output_type": "execute_result"
    }
   ],
   "source": [
    "# Выведем ошибки первой модели\n",
    "\n",
    "df[~df['first_model_right']][['clients', 'first_model']]"
   ]
  },
  {
   "cell_type": "markdown",
   "metadata": {
    "id": "eVSXjCSwMePV"
   },
   "source": [
    "В этих ошибках первая модель одобрила кредит тем клиентам, которые его не погасят. На нулевой (нецелевой класс) предсказали первый (целевой), получается, *ложно сработали*.  \n",
    "Данная ошибка называется *ложное срабатывание* или же **False Positive**."
   ]
  },
  {
   "cell_type": "code",
   "execution_count": 5,
   "metadata": {
    "colab": {
     "base_uri": "https://localhost:8080/",
     "height": 142
    },
    "id": "AeKi4cjFMePX",
    "outputId": "1d29b711-4ff1-4b72-d7b6-4a0880ac7232"
   },
   "outputs": [
    {
     "data": {
      "text/html": [
       "<div>\n",
       "<style scoped>\n",
       "    .dataframe tbody tr th:only-of-type {\n",
       "        vertical-align: middle;\n",
       "    }\n",
       "\n",
       "    .dataframe tbody tr th {\n",
       "        vertical-align: top;\n",
       "    }\n",
       "\n",
       "    .dataframe thead th {\n",
       "        text-align: right;\n",
       "    }\n",
       "</style>\n",
       "<table border=\"1\" class=\"dataframe\">\n",
       "  <thead>\n",
       "    <tr style=\"text-align: right;\">\n",
       "      <th></th>\n",
       "      <th>clients</th>\n",
       "      <th>second_model</th>\n",
       "    </tr>\n",
       "  </thead>\n",
       "  <tbody>\n",
       "    <tr>\n",
       "      <th>7</th>\n",
       "      <td>1</td>\n",
       "      <td>0</td>\n",
       "    </tr>\n",
       "    <tr>\n",
       "      <th>8</th>\n",
       "      <td>1</td>\n",
       "      <td>0</td>\n",
       "    </tr>\n",
       "    <tr>\n",
       "      <th>9</th>\n",
       "      <td>1</td>\n",
       "      <td>0</td>\n",
       "    </tr>\n",
       "  </tbody>\n",
       "</table>\n",
       "</div>"
      ],
      "text/plain": [
       "   clients  second_model\n",
       "7        1             0\n",
       "8        1             0\n",
       "9        1             0"
      ]
     },
     "execution_count": 5,
     "metadata": {},
     "output_type": "execute_result"
    }
   ],
   "source": [
    "# Выведем ошибки второй модели\n",
    "\n",
    "df[~df['second_model_right']][['clients', 'second_model']]"
   ]
  },
  {
   "cell_type": "markdown",
   "metadata": {
    "id": "XLdUkkstMePb"
   },
   "source": [
    "Всё наоборот. В этих ошибках вторая модель не одобрила кредит тем клиентам, которые его могли оплатить. На объекты с первым (целевом классом) модель отвечает нулевым, то есть она *пропускает* объекты, не срабатывает на них.\n",
    "\n",
    "Данная ошибка называется *ложный пропуск* или же **False Negative**. Модель не стала выдавать кредиты людям, которые были в силах всё выплатить."
   ]
  },
  {
   "cell_type": "markdown",
   "metadata": {
    "id": "LnpCaZAkRhkP"
   },
   "source": [
    "Помимо ошибок есть ещё и хорошие срабатывания, когда модель на 1 класс отвечает первым классом:"
   ]
  },
  {
   "cell_type": "code",
   "execution_count": 6,
   "metadata": {
    "colab": {
     "base_uri": "https://localhost:8080/",
     "height": 111
    },
    "id": "y0Y-5H5MRqH0",
    "outputId": "479712bf-dc14-4e6b-c481-e6f235d64310"
   },
   "outputs": [
    {
     "data": {
      "text/html": [
       "<div>\n",
       "<style scoped>\n",
       "    .dataframe tbody tr th:only-of-type {\n",
       "        vertical-align: middle;\n",
       "    }\n",
       "\n",
       "    .dataframe tbody tr th {\n",
       "        vertical-align: top;\n",
       "    }\n",
       "\n",
       "    .dataframe thead th {\n",
       "        text-align: right;\n",
       "    }\n",
       "</style>\n",
       "<table border=\"1\" class=\"dataframe\">\n",
       "  <thead>\n",
       "    <tr style=\"text-align: right;\">\n",
       "      <th></th>\n",
       "      <th>clients</th>\n",
       "      <th>second_model</th>\n",
       "    </tr>\n",
       "  </thead>\n",
       "  <tbody>\n",
       "    <tr>\n",
       "      <th>5</th>\n",
       "      <td>1</td>\n",
       "      <td>1</td>\n",
       "    </tr>\n",
       "    <tr>\n",
       "      <th>6</th>\n",
       "      <td>1</td>\n",
       "      <td>1</td>\n",
       "    </tr>\n",
       "  </tbody>\n",
       "</table>\n",
       "</div>"
      ],
      "text/plain": [
       "   clients  second_model\n",
       "5        1             1\n",
       "6        1             1"
      ]
     },
     "execution_count": 6,
     "metadata": {},
     "output_type": "execute_result"
    }
   ],
   "source": [
    "# Посмотрим на ситуации, когда на 1 класс модель отвечает верно\n",
    "\n",
    "df[(df['second_model_right']) & (df['clients'])][['clients', 'second_model']]"
   ]
  },
  {
   "cell_type": "markdown",
   "metadata": {
    "id": "IJQl50RfR9Cs"
   },
   "source": [
    "Такое верное поведение называется *истинное срабатывание* или же **True Positive**. Модель выдаёт кредит нужным людям."
   ]
  },
  {
   "cell_type": "markdown",
   "metadata": {
    "id": "KKr4bz9MSMbH"
   },
   "source": [
    "И вторая хорошая ситуация, с верными пропусками, когда модель на 0 класс отвечает нулевым классом:"
   ]
  },
  {
   "cell_type": "code",
   "execution_count": 7,
   "metadata": {
    "colab": {
     "base_uri": "https://localhost:8080/",
     "height": 204
    },
    "id": "_zkR03DjSMbI",
    "outputId": "8f7c52e3-5e17-4aeb-fc83-e3638510ddca"
   },
   "outputs": [
    {
     "data": {
      "text/html": [
       "<div>\n",
       "<style scoped>\n",
       "    .dataframe tbody tr th:only-of-type {\n",
       "        vertical-align: middle;\n",
       "    }\n",
       "\n",
       "    .dataframe tbody tr th {\n",
       "        vertical-align: top;\n",
       "    }\n",
       "\n",
       "    .dataframe thead th {\n",
       "        text-align: right;\n",
       "    }\n",
       "</style>\n",
       "<table border=\"1\" class=\"dataframe\">\n",
       "  <thead>\n",
       "    <tr style=\"text-align: right;\">\n",
       "      <th></th>\n",
       "      <th>clients</th>\n",
       "      <th>second_model</th>\n",
       "    </tr>\n",
       "  </thead>\n",
       "  <tbody>\n",
       "    <tr>\n",
       "      <th>0</th>\n",
       "      <td>0</td>\n",
       "      <td>0</td>\n",
       "    </tr>\n",
       "    <tr>\n",
       "      <th>1</th>\n",
       "      <td>0</td>\n",
       "      <td>0</td>\n",
       "    </tr>\n",
       "    <tr>\n",
       "      <th>2</th>\n",
       "      <td>0</td>\n",
       "      <td>0</td>\n",
       "    </tr>\n",
       "    <tr>\n",
       "      <th>3</th>\n",
       "      <td>0</td>\n",
       "      <td>0</td>\n",
       "    </tr>\n",
       "    <tr>\n",
       "      <th>4</th>\n",
       "      <td>0</td>\n",
       "      <td>0</td>\n",
       "    </tr>\n",
       "  </tbody>\n",
       "</table>\n",
       "</div>"
      ],
      "text/plain": [
       "   clients  second_model\n",
       "0        0             0\n",
       "1        0             0\n",
       "2        0             0\n",
       "3        0             0\n",
       "4        0             0"
      ]
     },
     "execution_count": 7,
     "metadata": {},
     "output_type": "execute_result"
    }
   ],
   "source": [
    "# Посмотрим на ситуации, когда на 0 класс модель отвечает верно\n",
    "\n",
    "df[(df['second_model_right']) & ~(df['clients'])][['clients', 'second_model']]"
   ]
  },
  {
   "cell_type": "markdown",
   "metadata": {
    "id": "QJOSbVuGSMbK"
   },
   "source": [
    "Такое верное поведение называется *истинный пропуск* или же **True Negative**. Модель не выдаёт кредит плохим клиентам."
   ]
  },
  {
   "cell_type": "markdown",
   "metadata": {
    "id": "d3usgUWRdx3X"
   },
   "source": [
    "## Матрица ошибок (Confusion Matrix)"
   ]
  },
  {
   "cell_type": "markdown",
   "metadata": {
    "id": "LlhY7FloRboI"
   },
   "source": [
    "Оформим всё в матрицу:\n",
    "\n",
    "|  <empty>   | $$y = 1$$ | $$y = 0$$ |\n",
    "--- | --- | ---\n",
    "| __$$a(x) = 1$$__  |  True Positive TP    |  False Positive  FP   |\n",
    "| __$$a(x) = 0$$__ |   False Negative FN    |   True Negative TN   |\n",
    "\n",
    "\n",
    "В матрице сверху отложены истинные ответы, слева - ответы алгоритма. Когда алгоритм относит объект к классу \"1\", говорим, что он *срабатывает*, а когда к \"0\", - *пропускает*.\n",
    "- Если алгоритм сработал (предсказал 1) и объект действительно относится к классу \"1\", получаем верное срабатывание/верный положительный ответ (**True Positive, TP**) - ВСЁ ВЕРНО\n",
    "- Если алгоритм сработал (предсказал 1), а объект не относится к классу \"1\", это ложное срабатывание (**False Positive, FP**) - ОШИБКА\n",
    "- Если алгоритм пропускает объект (предсказал 0), а его истинный класс \"1\", это ложный пропуск/ложный негативные ответ (**False Negative, FN**) - ОШИБКА\n",
    "- Если алгоритм пропускает объект (предсказал 0), а истинный класс объекта \"0\", то это истинный пропуск (**True Negative, TN**) - ВСЁ ВЕРНО"
   ]
  },
  {
   "cell_type": "markdown",
   "metadata": {
    "id": "-DibMejbblb2"
   },
   "source": [
    "Можем для нашей задачи для первой модели построить эту матрицу ошибок, она есть в `sklearn'e` в модуле `metrics` и называется `confusion_matrix`.\n",
    "\n"
   ]
  },
  {
   "cell_type": "code",
   "execution_count": 8,
   "metadata": {
    "colab": {
     "base_uri": "https://localhost:8080/"
    },
    "id": "kHToZL4ubk1K",
    "outputId": "7ecce2af-af5a-47d9-d727-748efb45c6e4"
   },
   "outputs": [
    {
     "data": {
      "text/plain": [
       "array([[2, 3],\n",
       "       [0, 5]])"
      ]
     },
     "execution_count": 8,
     "metadata": {},
     "output_type": "execute_result"
    }
   ],
   "source": [
    "from sklearn.metrics import confusion_matrix\n",
    "\n",
    "confusion_matrix(df['clients'], df['first_model'])"
   ]
  },
  {
   "cell_type": "code",
   "execution_count": 14,
   "metadata": {},
   "outputs": [
    {
     "data": {
      "text/plain": [
       "(2, 3, 0, 5)"
      ]
     },
     "execution_count": 14,
     "metadata": {},
     "output_type": "execute_result"
    }
   ],
   "source": [
    "# значения таблицы можно получить и таким образом\n",
    "tn, fp, fn, tp = confusion_matrix(df['clients'], df['first_model']).ravel()\n",
    "(tn, fp, fn, tp)"
   ]
  },
  {
   "cell_type": "markdown",
   "metadata": {
    "id": "ukqfL0_1b9Fa"
   },
   "source": [
    "Но здесь легко запутаться, где истинные значения, где предсказания модели, где нулевой класс, а где первый, поэтому лучше визуализировать матрицу ошибок через heatmap."
   ]
  },
  {
   "cell_type": "code",
   "execution_count": 9,
   "metadata": {
    "colab": {
     "base_uri": "https://localhost:8080/",
     "height": 307
    },
    "id": "cpo4D77DcE4-",
    "outputId": "08d900a0-64c1-439a-9d24-4239905f1cb0"
   },
   "outputs": [
    {
     "data": {
      "image/png": "[encoded data removed]",
      "text/plain": [
       "<Figure size 640x480 with 2 Axes>"
      ]
     },
     "metadata": {},
     "output_type": "display_data"
    }
   ],
   "source": [
    "cm = confusion_matrix(df['clients'], df['first_model'])\n",
    "sns.heatmap(cm, annot=True)\n",
    "\n",
    "plt.title('confusion matrix')\n",
    "plt.xlabel('prediction')\n",
    "plt.ylabel('groud truth');"
   ]
  },
  {
   "cell_type": "markdown",
   "metadata": {
    "id": "RUSMtY5WdkVW"
   },
   "source": [
    "И теперь видим, что TN у нас 2 штуки, TP - 5 штук, а ошибок FP 3 штуки, когда на истинный нулевой класс модель ответила 1 классом."
   ]
  },
  {
   "cell_type": "markdown",
   "metadata": {
    "id": "Kn6DE98TUc-V"
   },
   "source": [
    "На этих TP, TN, FP, FN основываются две хорошие метрики - Precision и Recall."
   ]
  },
  {
   "cell_type": "markdown",
   "metadata": {
    "id": "BFuWVgnmUi6k"
   },
   "source": [
    "**Точность (precision)** представляет из себя *долю истинных срабатываний* от общего количества срабатываний. Она показывает, насколько можно доверять алгоритму классификации в случае срабатывания\n",
    "\n",
    "$$precision(a, X) = \\frac{TP}{TP+FP}.$$\n",
    "\n",
    "**Полнота (recall)** считается как *доля объектов, истинно относящихся к классу \"1\"*, которые алгоритм отнес к этому классу\n",
    "\n",
    "$$recall(a, X) = \\frac{TP}{TP+FN},$$\n",
    "\n",
    "здесь $TP+FN$ будут составлять весь список объектов класса \"1\".\n",
    "\n",
    "\n",
    "Метрики могут изменяться от 0 до 1, где 0 - модель ниразу не попала правильно, все её предсказания ошибочные, а 1 - модель всё предсказала идеально."
   ]
  },
  {
   "cell_type": "markdown",
   "metadata": {
    "id": "XmsM42XTZClb"
   },
   "source": [
    "Есть очень хорошая картинка, с помощью которой можно продемонстрировать, как подсчитываются метрики для классификации.  \n",
    "- Левая прямоугольная затемненная область - это область целевых объектов, это наши клиенты с 1 классом\n",
    "- Правая светлая прямоугольная область - область нерелевантных объектов с 0 классом, когда клиенты нам не возвращают кредиты\n",
    "- То, что выделено в окружность - это объекты, на которых модель сработала, предсказала 1 класс\n",
    "- А всё, что не вошло в окружность - это объекты, которые модель пропустила.\n",
    "\n",
    "<img src='https://hsto.org/webt/so/oy/7k/sooy7k2lckgmsla2lgugjlisvh8.png' width=700>"
   ]
  },
  {
   "cell_type": "markdown",
   "metadata": {
    "id": "dJeqjDa9Uu6i"
   },
   "source": [
    "И теперь пройдемся по каждой метрики в отдельности."
   ]
  },
  {
   "cell_type": "markdown",
   "metadata": {
    "id": "2tRoCPawUzeT"
   },
   "source": [
    "## Precision"
   ]
  },
  {
   "cell_type": "markdown",
   "metadata": {
    "id": "14Ca8CUTa3aX"
   },
   "source": [
    "**Точность (precision)** отвечает за *чистоту классификации*, рассчитывается, как истинные срабатывания, деленные на все срабатывания вообще.\n",
    "\n",
    "$$precision(a, X) = \\frac{TP}{TP+FP}$$\n",
    "\n",
    "В идеале, когда знаменатель равен числителю, в этом случае метрика будет равна 1. В метрике precision минизируются ошибки *ложного срабатывания* (**False Positive**), хорошо, когда таких ошибок вообще нет, тогда классифицироваться как целевой класс будут только нужные нам объекты."
   ]
  },
  {
   "cell_type": "markdown",
   "metadata": {
    "id": "8iDU7o8zem37"
   },
   "source": [
    "Посчитаем precision для первого класса для двух моделей."
   ]
  },
  {
   "cell_type": "markdown",
   "metadata": {
    "id": "_Xz7_9YOeyKK"
   },
   "source": [
    "### Первая модель"
   ]
  },
  {
   "cell_type": "markdown",
   "metadata": {
    "id": "tdESkaametwZ"
   },
   "source": [
    "Сначала руками с помощью матрицы ошибок:"
   ]
  },
  {
   "cell_type": "code",
   "execution_count": 16,
   "metadata": {
    "colab": {
     "base_uri": "https://localhost:8080/",
     "height": 359
    },
    "id": "RH5FRZHlepw4",
    "outputId": "a1af2ca9-a250-4e29-d781-8e08a6f60084"
   },
   "outputs": [
    {
     "data": {
      "text/html": [
       "<div>\n",
       "<style scoped>\n",
       "    .dataframe tbody tr th:only-of-type {\n",
       "        vertical-align: middle;\n",
       "    }\n",
       "\n",
       "    .dataframe tbody tr th {\n",
       "        vertical-align: top;\n",
       "    }\n",
       "\n",
       "    .dataframe thead th {\n",
       "        text-align: right;\n",
       "    }\n",
       "</style>\n",
       "<table border=\"1\" class=\"dataframe\">\n",
       "  <thead>\n",
       "    <tr style=\"text-align: right;\">\n",
       "      <th></th>\n",
       "      <th>clients</th>\n",
       "      <th>first_model</th>\n",
       "    </tr>\n",
       "  </thead>\n",
       "  <tbody>\n",
       "    <tr>\n",
       "      <th>0</th>\n",
       "      <td>0</td>\n",
       "      <td>0</td>\n",
       "    </tr>\n",
       "    <tr>\n",
       "      <th>1</th>\n",
       "      <td>0</td>\n",
       "      <td>0</td>\n",
       "    </tr>\n",
       "    <tr>\n",
       "      <th>2</th>\n",
       "      <td>0</td>\n",
       "      <td>1</td>\n",
       "    </tr>\n",
       "    <tr>\n",
       "      <th>3</th>\n",
       "      <td>0</td>\n",
       "      <td>1</td>\n",
       "    </tr>\n",
       "    <tr>\n",
       "      <th>4</th>\n",
       "      <td>0</td>\n",
       "      <td>1</td>\n",
       "    </tr>\n",
       "    <tr>\n",
       "      <th>5</th>\n",
       "      <td>1</td>\n",
       "      <td>1</td>\n",
       "    </tr>\n",
       "    <tr>\n",
       "      <th>6</th>\n",
       "      <td>1</td>\n",
       "      <td>1</td>\n",
       "    </tr>\n",
       "    <tr>\n",
       "      <th>7</th>\n",
       "      <td>1</td>\n",
       "      <td>1</td>\n",
       "    </tr>\n",
       "    <tr>\n",
       "      <th>8</th>\n",
       "      <td>1</td>\n",
       "      <td>1</td>\n",
       "    </tr>\n",
       "    <tr>\n",
       "      <th>9</th>\n",
       "      <td>1</td>\n",
       "      <td>1</td>\n",
       "    </tr>\n",
       "  </tbody>\n",
       "</table>\n",
       "</div>"
      ],
      "text/plain": [
       "   clients  first_model\n",
       "0        0            0\n",
       "1        0            0\n",
       "2        0            1\n",
       "3        0            1\n",
       "4        0            1\n",
       "5        1            1\n",
       "6        1            1\n",
       "7        1            1\n",
       "8        1            1\n",
       "9        1            1"
      ]
     },
     "execution_count": 16,
     "metadata": {},
     "output_type": "execute_result"
    }
   ],
   "source": [
    "df[['clients', 'first_model']]"
   ]
  },
  {
   "cell_type": "code",
   "execution_count": 17,
   "metadata": {
    "colab": {
     "base_uri": "https://localhost:8080/"
    },
    "id": "U8u_lcLHe6eo",
    "outputId": "053ad3ae-a01d-421a-f6a5-c3b7530c88a2"
   },
   "outputs": [
    {
     "data": {
      "text/plain": [
       "0.625"
      ]
     },
     "execution_count": 17,
     "metadata": {},
     "output_type": "execute_result"
    }
   ],
   "source": [
    "cm = confusion_matrix(df['clients'], df['first_model'])\n",
    "tp = cm[1][1]\n",
    "fp = cm[0][1]\n",
    "\n",
    "precision_1_model = tp / (tp + fp)\n",
    "precision_1_model"
   ]
  },
  {
   "cell_type": "markdown",
   "metadata": {
    "id": "HtIGqfXXfVaT"
   },
   "source": [
    "А теперь и с помощью функции `precision_score` из `sklearn`."
   ]
  },
  {
   "cell_type": "code",
   "execution_count": 18,
   "metadata": {
    "colab": {
     "base_uri": "https://localhost:8080/"
    },
    "id": "DWyFgdQXfa3P",
    "outputId": "fb550986-f761-4b5d-c556-9d2654d8ae7e"
   },
   "outputs": [
    {
     "data": {
      "text/plain": [
       "0.625"
      ]
     },
     "execution_count": 18,
     "metadata": {},
     "output_type": "execute_result"
    }
   ],
   "source": [
    "from sklearn.metrics import precision_score\n",
    "\n",
    "precision_score(df['clients'], df['first_model'])"
   ]
  },
  {
   "cell_type": "markdown",
   "metadata": {
    "id": "HloETfJpfj-I"
   },
   "source": [
    "Метрика равна 0.625, мы верно классифицировали 5 объектов, а всего отнесли к первому классу 8 объектов, что и дало нам значение $\\frac{5}{8} = 0.625$"
   ]
  },
  {
   "cell_type": "markdown",
   "metadata": {
    "id": "UrSZpN7We0SZ"
   },
   "source": [
    "### Вторая модель"
   ]
  },
  {
   "cell_type": "markdown",
   "metadata": {
    "id": "yKuy8hSKf5On"
   },
   "source": [
    "Сначала руками с помощью матрицы ошибок:"
   ]
  },
  {
   "cell_type": "code",
   "execution_count": 19,
   "metadata": {
    "colab": {
     "base_uri": "https://localhost:8080/",
     "height": 359
    },
    "id": "WRrAIJ_Qe19X",
    "outputId": "c29690be-f177-4ca0-ac2f-5b4038eff4fc"
   },
   "outputs": [
    {
     "data": {
      "text/html": [
       "<div>\n",
       "<style scoped>\n",
       "    .dataframe tbody tr th:only-of-type {\n",
       "        vertical-align: middle;\n",
       "    }\n",
       "\n",
       "    .dataframe tbody tr th {\n",
       "        vertical-align: top;\n",
       "    }\n",
       "\n",
       "    .dataframe thead th {\n",
       "        text-align: right;\n",
       "    }\n",
       "</style>\n",
       "<table border=\"1\" class=\"dataframe\">\n",
       "  <thead>\n",
       "    <tr style=\"text-align: right;\">\n",
       "      <th></th>\n",
       "      <th>clients</th>\n",
       "      <th>second_model</th>\n",
       "    </tr>\n",
       "  </thead>\n",
       "  <tbody>\n",
       "    <tr>\n",
       "      <th>0</th>\n",
       "      <td>0</td>\n",
       "      <td>0</td>\n",
       "    </tr>\n",
       "    <tr>\n",
       "      <th>1</th>\n",
       "      <td>0</td>\n",
       "      <td>0</td>\n",
       "    </tr>\n",
       "    <tr>\n",
       "      <th>2</th>\n",
       "      <td>0</td>\n",
       "      <td>0</td>\n",
       "    </tr>\n",
       "    <tr>\n",
       "      <th>3</th>\n",
       "      <td>0</td>\n",
       "      <td>0</td>\n",
       "    </tr>\n",
       "    <tr>\n",
       "      <th>4</th>\n",
       "      <td>0</td>\n",
       "      <td>0</td>\n",
       "    </tr>\n",
       "    <tr>\n",
       "      <th>5</th>\n",
       "      <td>1</td>\n",
       "      <td>1</td>\n",
       "    </tr>\n",
       "    <tr>\n",
       "      <th>6</th>\n",
       "      <td>1</td>\n",
       "      <td>1</td>\n",
       "    </tr>\n",
       "    <tr>\n",
       "      <th>7</th>\n",
       "      <td>1</td>\n",
       "      <td>0</td>\n",
       "    </tr>\n",
       "    <tr>\n",
       "      <th>8</th>\n",
       "      <td>1</td>\n",
       "      <td>0</td>\n",
       "    </tr>\n",
       "    <tr>\n",
       "      <th>9</th>\n",
       "      <td>1</td>\n",
       "      <td>0</td>\n",
       "    </tr>\n",
       "  </tbody>\n",
       "</table>\n",
       "</div>"
      ],
      "text/plain": [
       "   clients  second_model\n",
       "0        0             0\n",
       "1        0             0\n",
       "2        0             0\n",
       "3        0             0\n",
       "4        0             0\n",
       "5        1             1\n",
       "6        1             1\n",
       "7        1             0\n",
       "8        1             0\n",
       "9        1             0"
      ]
     },
     "execution_count": 19,
     "metadata": {},
     "output_type": "execute_result"
    }
   ],
   "source": [
    "df[['clients', 'second_model']]"
   ]
  },
  {
   "cell_type": "code",
   "execution_count": 20,
   "metadata": {
    "colab": {
     "base_uri": "https://localhost:8080/"
    },
    "id": "sAV_s-Adf5Or",
    "outputId": "c2d5fe7e-df53-483a-987b-96a874e499d2"
   },
   "outputs": [
    {
     "data": {
      "text/plain": [
       "1.0"
      ]
     },
     "execution_count": 20,
     "metadata": {},
     "output_type": "execute_result"
    }
   ],
   "source": [
    "cm = confusion_matrix(df['clients'], df['second_model'])\n",
    "tp = cm[1][1]\n",
    "fp = cm[0][1]\n",
    "\n",
    "precision_2_model = tp / (tp + fp)\n",
    "precision_2_model"
   ]
  },
  {
   "cell_type": "markdown",
   "metadata": {
    "id": "i3PejX7Ff5Os"
   },
   "source": [
    "А теперь и с помощью функции `precision_score` из `sklearn`."
   ]
  },
  {
   "cell_type": "code",
   "execution_count": 21,
   "metadata": {
    "colab": {
     "base_uri": "https://localhost:8080/"
    },
    "id": "t8Uu1Sq5f5Ot",
    "outputId": "d30c81dc-185d-45fa-a0e9-5f8afb0c6600"
   },
   "outputs": [
    {
     "data": {
      "text/plain": [
       "1.0"
      ]
     },
     "execution_count": 21,
     "metadata": {},
     "output_type": "execute_result"
    }
   ],
   "source": [
    "from sklearn.metrics import precision_score\n",
    "\n",
    "precision_score(df['clients'], df['second_model'])"
   ]
  },
  {
   "cell_type": "markdown",
   "metadata": {
    "id": "NoQnj_9lf5Ou"
   },
   "source": [
    "Метрика равна 1, мы верно классифицировали два объектов из двух, которые модель отнесла к 1 классу, получается precision = $\\frac{2}{2} = 1$."
   ]
  },
  {
   "cell_type": "markdown",
   "metadata": {
    "id": "emPQu739gKAs"
   },
   "source": [
    "Теперь две модели не кажутся такими одинаковыми, как были при подсчете метрики accuracy, по метрики precision выигрывает вторая модель, т.к. у неё нет *ложных срабатываний* **False Positive**, модель выдает кредиты только проверенным людям, поэтому и получилась очень *чистая* работа классификации."
   ]
  },
  {
   "cell_type": "markdown",
   "metadata": {
    "id": "aOiBltREeEVc"
   },
   "source": [
    "## Recall"
   ]
  },
  {
   "cell_type": "markdown",
   "metadata": {
    "id": "m_Vhpt9agbwx"
   },
   "source": [
    "Посмотрим, как дела обстоят с другой метрикой."
   ]
  },
  {
   "cell_type": "markdown",
   "metadata": {
    "id": "1znK87Z_gj7U"
   },
   "source": [
    "\n",
    "**Полнота (recall)** отвечает за *количество классификаций*, рассчитывается, как истинные срабатывания, деленные на объекты целевого класса.\n",
    "\n",
    "\n",
    "$$recall(a, X) = \\frac{TP}{TP+FN}$$\n",
    "\n",
    "\n",
    "В идеале, когда знаменатель равен числителю, в этом случае метрика будет равна 1. В метрике recall минизируются ошибки *ложного пропуска* (**False Negative**), хорошо, когда таких ошибок нет, тогда мы найдем все возможные объекты целевого класса и никого не пропустим."
   ]
  },
  {
   "cell_type": "markdown",
   "metadata": {
    "id": "diysBoREvsbe"
   },
   "source": [
    "Посчитаем recall для первого класса для двух моделей."
   ]
  },
  {
   "cell_type": "markdown",
   "metadata": {
    "id": "VTQN1EdSvscj"
   },
   "source": [
    "### Первая модель"
   ]
  },
  {
   "cell_type": "markdown",
   "metadata": {
    "id": "ZOkuAKI7vscm"
   },
   "source": [
    "Сначала руками с помощью матрицы ошибок:"
   ]
  },
  {
   "cell_type": "code",
   "execution_count": 22,
   "metadata": {
    "colab": {
     "base_uri": "https://localhost:8080/",
     "height": 359
    },
    "id": "C-BcbV_avscq",
    "outputId": "389677c6-c71d-4775-c442-0a0133ab0585"
   },
   "outputs": [
    {
     "data": {
      "text/html": [
       "<div>\n",
       "<style scoped>\n",
       "    .dataframe tbody tr th:only-of-type {\n",
       "        vertical-align: middle;\n",
       "    }\n",
       "\n",
       "    .dataframe tbody tr th {\n",
       "        vertical-align: top;\n",
       "    }\n",
       "\n",
       "    .dataframe thead th {\n",
       "        text-align: right;\n",
       "    }\n",
       "</style>\n",
       "<table border=\"1\" class=\"dataframe\">\n",
       "  <thead>\n",
       "    <tr style=\"text-align: right;\">\n",
       "      <th></th>\n",
       "      <th>clients</th>\n",
       "      <th>first_model</th>\n",
       "    </tr>\n",
       "  </thead>\n",
       "  <tbody>\n",
       "    <tr>\n",
       "      <th>0</th>\n",
       "      <td>0</td>\n",
       "      <td>0</td>\n",
       "    </tr>\n",
       "    <tr>\n",
       "      <th>1</th>\n",
       "      <td>0</td>\n",
       "      <td>0</td>\n",
       "    </tr>\n",
       "    <tr>\n",
       "      <th>2</th>\n",
       "      <td>0</td>\n",
       "      <td>1</td>\n",
       "    </tr>\n",
       "    <tr>\n",
       "      <th>3</th>\n",
       "      <td>0</td>\n",
       "      <td>1</td>\n",
       "    </tr>\n",
       "    <tr>\n",
       "      <th>4</th>\n",
       "      <td>0</td>\n",
       "      <td>1</td>\n",
       "    </tr>\n",
       "    <tr>\n",
       "      <th>5</th>\n",
       "      <td>1</td>\n",
       "      <td>1</td>\n",
       "    </tr>\n",
       "    <tr>\n",
       "      <th>6</th>\n",
       "      <td>1</td>\n",
       "      <td>1</td>\n",
       "    </tr>\n",
       "    <tr>\n",
       "      <th>7</th>\n",
       "      <td>1</td>\n",
       "      <td>1</td>\n",
       "    </tr>\n",
       "    <tr>\n",
       "      <th>8</th>\n",
       "      <td>1</td>\n",
       "      <td>1</td>\n",
       "    </tr>\n",
       "    <tr>\n",
       "      <th>9</th>\n",
       "      <td>1</td>\n",
       "      <td>1</td>\n",
       "    </tr>\n",
       "  </tbody>\n",
       "</table>\n",
       "</div>"
      ],
      "text/plain": [
       "   clients  first_model\n",
       "0        0            0\n",
       "1        0            0\n",
       "2        0            1\n",
       "3        0            1\n",
       "4        0            1\n",
       "5        1            1\n",
       "6        1            1\n",
       "7        1            1\n",
       "8        1            1\n",
       "9        1            1"
      ]
     },
     "execution_count": 22,
     "metadata": {},
     "output_type": "execute_result"
    }
   ],
   "source": [
    "df[['clients', 'first_model']]"
   ]
  },
  {
   "cell_type": "code",
   "execution_count": 23,
   "metadata": {
    "colab": {
     "base_uri": "https://localhost:8080/"
    },
    "id": "9H0f0eUavscv",
    "outputId": "ef43a117-e013-4d94-c236-30e02eaa7454"
   },
   "outputs": [
    {
     "data": {
      "text/plain": [
       "1.0"
      ]
     },
     "execution_count": 23,
     "metadata": {},
     "output_type": "execute_result"
    }
   ],
   "source": [
    "cm = confusion_matrix(df['clients'], df['first_model'])\n",
    "tp = cm[1][1]\n",
    "fn = cm[1][0]\n",
    "\n",
    "recall_1_model = tp / (tp + fn)\n",
    "recall_1_model"
   ]
  },
  {
   "cell_type": "markdown",
   "metadata": {
    "id": "0VhDHM97vscy"
   },
   "source": [
    "А теперь и с помощью функции `recall_score` из `sklearn`."
   ]
  },
  {
   "cell_type": "code",
   "execution_count": 24,
   "metadata": {
    "colab": {
     "base_uri": "https://localhost:8080/"
    },
    "id": "cQ89q_ugvscz",
    "outputId": "b14b770c-8898-4703-883f-7434c468ed51"
   },
   "outputs": [
    {
     "data": {
      "text/plain": [
       "1.0"
      ]
     },
     "execution_count": 24,
     "metadata": {},
     "output_type": "execute_result"
    }
   ],
   "source": [
    "from sklearn.metrics import recall_score\n",
    "\n",
    "recall_score(df['clients'], df['first_model'])"
   ]
  },
  {
   "cell_type": "markdown",
   "metadata": {
    "id": "WRAw2noovsc2"
   },
   "source": [
    "Метрика равна 1, мы верно отнесли к 1 классу пять объектов из пяти, то есть нашли все объекты целевого класса, которые могли, по итогу и получили значение равное $\\frac{5}{5} = 1$"
   ]
  },
  {
   "cell_type": "markdown",
   "metadata": {
    "id": "Jc3fMtr5vsc4"
   },
   "source": [
    "### Вторая модель"
   ]
  },
  {
   "cell_type": "markdown",
   "metadata": {
    "id": "R7t-C3Ddvsc6"
   },
   "source": [
    "Сначала руками с помощью матрицы ошибок:"
   ]
  },
  {
   "cell_type": "code",
   "execution_count": 25,
   "metadata": {
    "colab": {
     "base_uri": "https://localhost:8080/",
     "height": 359
    },
    "id": "xwQC-ElAvsc7",
    "outputId": "3708d2ba-434e-43c4-c4ab-1a1ac7a2fd42"
   },
   "outputs": [
    {
     "data": {
      "text/html": [
       "<div>\n",
       "<style scoped>\n",
       "    .dataframe tbody tr th:only-of-type {\n",
       "        vertical-align: middle;\n",
       "    }\n",
       "\n",
       "    .dataframe tbody tr th {\n",
       "        vertical-align: top;\n",
       "    }\n",
       "\n",
       "    .dataframe thead th {\n",
       "        text-align: right;\n",
       "    }\n",
       "</style>\n",
       "<table border=\"1\" class=\"dataframe\">\n",
       "  <thead>\n",
       "    <tr style=\"text-align: right;\">\n",
       "      <th></th>\n",
       "      <th>clients</th>\n",
       "      <th>second_model</th>\n",
       "    </tr>\n",
       "  </thead>\n",
       "  <tbody>\n",
       "    <tr>\n",
       "      <th>0</th>\n",
       "      <td>0</td>\n",
       "      <td>0</td>\n",
       "    </tr>\n",
       "    <tr>\n",
       "      <th>1</th>\n",
       "      <td>0</td>\n",
       "      <td>0</td>\n",
       "    </tr>\n",
       "    <tr>\n",
       "      <th>2</th>\n",
       "      <td>0</td>\n",
       "      <td>0</td>\n",
       "    </tr>\n",
       "    <tr>\n",
       "      <th>3</th>\n",
       "      <td>0</td>\n",
       "      <td>0</td>\n",
       "    </tr>\n",
       "    <tr>\n",
       "      <th>4</th>\n",
       "      <td>0</td>\n",
       "      <td>0</td>\n",
       "    </tr>\n",
       "    <tr>\n",
       "      <th>5</th>\n",
       "      <td>1</td>\n",
       "      <td>1</td>\n",
       "    </tr>\n",
       "    <tr>\n",
       "      <th>6</th>\n",
       "      <td>1</td>\n",
       "      <td>1</td>\n",
       "    </tr>\n",
       "    <tr>\n",
       "      <th>7</th>\n",
       "      <td>1</td>\n",
       "      <td>0</td>\n",
       "    </tr>\n",
       "    <tr>\n",
       "      <th>8</th>\n",
       "      <td>1</td>\n",
       "      <td>0</td>\n",
       "    </tr>\n",
       "    <tr>\n",
       "      <th>9</th>\n",
       "      <td>1</td>\n",
       "      <td>0</td>\n",
       "    </tr>\n",
       "  </tbody>\n",
       "</table>\n",
       "</div>"
      ],
      "text/plain": [
       "   clients  second_model\n",
       "0        0             0\n",
       "1        0             0\n",
       "2        0             0\n",
       "3        0             0\n",
       "4        0             0\n",
       "5        1             1\n",
       "6        1             1\n",
       "7        1             0\n",
       "8        1             0\n",
       "9        1             0"
      ]
     },
     "execution_count": 25,
     "metadata": {},
     "output_type": "execute_result"
    }
   ],
   "source": [
    "df[['clients', 'second_model']]"
   ]
  },
  {
   "cell_type": "code",
   "execution_count": 26,
   "metadata": {
    "colab": {
     "base_uri": "https://localhost:8080/"
    },
    "id": "e2B2Mmecvsc-",
    "outputId": "fb21dcee-b47f-40d7-d220-2698eb62a241"
   },
   "outputs": [
    {
     "data": {
      "text/plain": [
       "0.4"
      ]
     },
     "execution_count": 26,
     "metadata": {},
     "output_type": "execute_result"
    }
   ],
   "source": [
    "cm = confusion_matrix(df['clients'], df['second_model'])\n",
    "tp = cm[1][1]\n",
    "fn = cm[1][0]\n",
    "\n",
    "recall_2_model = tp / (tp + fn)\n",
    "recall_2_model"
   ]
  },
  {
   "cell_type": "markdown",
   "metadata": {
    "id": "-ac2ZzfTvsc_"
   },
   "source": [
    "А теперь и с помощью функции `recall_score` из `sklearn`."
   ]
  },
  {
   "cell_type": "code",
   "execution_count": 27,
   "metadata": {
    "colab": {
     "base_uri": "https://localhost:8080/"
    },
    "id": "Cm9DG4CsvsdA",
    "outputId": "3255389d-77bf-45bc-8650-3fda11c35d19"
   },
   "outputs": [
    {
     "data": {
      "text/plain": [
       "0.4"
      ]
     },
     "execution_count": 27,
     "metadata": {},
     "output_type": "execute_result"
    }
   ],
   "source": [
    "from sklearn.metrics import recall_score\n",
    "\n",
    "recall_score(df['clients'], df['second_model'])"
   ]
  },
  {
   "cell_type": "markdown",
   "metadata": {
    "id": "iOYuV2xtvsdC"
   },
   "source": [
    "Метрика равна 0.4, мы верно отнесли к целевому классу только два объекта из пяти возможных, то есть допустили 3 ошибки ложного пропуска false negative и получили метрику recall равную $\\frac{2}{5} = 0.4$."
   ]
  },
  {
   "cell_type": "markdown",
   "metadata": {
    "id": "uvC9XVESvsdD"
   },
   "source": [
    "И снова модели не кажутся одинаковыми, их метрики recall сильно отличаются, теперь выигрышней смотрится первая модель, т.к. у неё нет *ложных пропусков* **False Negative**, модель выдала кредиты всем проверенным людям и никого не оставила без денег."
   ]
  },
  {
   "cell_type": "markdown",
   "metadata": {
    "id": "Fz3VJtYBw3Gq"
   },
   "source": [
    "## Сравнение моделей"
   ]
  },
  {
   "cell_type": "markdown",
   "metadata": {
    "id": "nsmj0Cquw7gA"
   },
   "source": [
    "Сравним наши две модели по предсказанию 1 класса на 10 объектах:\n",
    "\n",
    "|  <empty>   | first model | second model |\n",
    "--- | --- | ---\n",
    "| __precision__  |  0.625    |  1   |\n",
    "| __recall__ |   1    |   0.4   |\n",
    "\n",
    "У одной хороший recall, а у другой хороший precision, вот теперь можно смотреть на стратегию банка и принимать решение, что ему более важно:\n",
    "- Если банку хочется **больше заработать**, то лучше выдавать кредиты *всем* людям, которые способны его вернуть, то есть ищем модель с максимальным *recall* - а это первая модель.\n",
    "- Если банку хочется **меньше потерять**, то лучше выдавать кредиты *только* надежным людям, а значит ищем модель с лучшим *precision* - это вторая модель.\n"
   ]
  },
  {
   "cell_type": "markdown",
   "metadata": {
    "id": "3-WSNS2RzUYz"
   },
   "source": [
    "## Примеры задач"
   ]
  },
  {
   "cell_type": "markdown",
   "metadata": {
    "id": "d7L6ROIozZPh"
   },
   "source": [
    "В разных задачах и на разных данных хочется не получать разные ошибки, сейчас посмотрим, в каких задачах максимизируется recall, а в каких precision."
   ]
  },
  {
   "cell_type": "markdown",
   "metadata": {
    "id": "yBh1JN7jb8a2"
   },
   "source": [
    "### Классификация на АЭС"
   ]
  },
  {
   "cell_type": "markdown",
   "metadata": {
    "id": "tpsGv711zrsV"
   },
   "source": [
    "Представим, что мы обучили модель на классификацию людей при входе на критически важный объект - атомная электростанция.\n",
    "\n",
    "\n",
    "<img src='https://static.wikia.nocookie.net/dark-netflix/images/9/9a/AKW_Winden_1987.jpg/revision/latest?cb=20201231042434' width=500>\n",
    "\n",
    "- Если человек является сотрудником, то модель должна выдавать ему класс 1 и открывать двери на станцию\n",
    "- А если человек не наш сотрудник, то модель должна его классифицировать, как класс 0 и не пускать на наш объект.\n",
    "\n",
    "В этой ситуации, мы хотим сто процентов быть уверенными в том, что наша система пропускает только сотрудников этой АЭС, а не всех подряд.\n",
    "\n",
    "*Подумайте, какую метрику здесь нужно максимизировать?*"
   ]
  },
  {
   "cell_type": "markdown",
   "metadata": {
    "id": "VHSnhuw1I2AF"
   },
   "source": [
    "Здесь хочется минимизировать *ложные срабатывания* **False Positive** - эти те случаи, где модель в чужом человеке с улицы увидела сотрудника АЭС. Поэтому в этой задаче классификации людей на *свой/чужой*, лучше максимизировать метрику *precision* - чистоту классификации.  \n",
    "\n",
    "Есть и обратная сторона такой системы, каких-то своих настоящих сотрудников данная система может не признать, то есть допустить ошибку *ложного пропуска* **False Negative**, но такие ошибки для нас некритичны, гораздо критичней ошибки *ложного срабатывания* **False Positive**, в которых мы можем случайно запустить на станцию чужака."
   ]
  },
  {
   "cell_type": "markdown",
   "metadata": {
    "id": "K4bxyAHGb_tr"
   },
   "source": [
    "### Классификация заболевания"
   ]
  },
  {
   "cell_type": "markdown",
   "metadata": {
    "id": "MZ-JxpigcbWU"
   },
   "source": [
    "А теперь пример из медицины, обучили модель на классификацию заболевания людей.\n",
    "\n",
    "<img src='https://www.dolmanlaw.com/wp-content/uploads/2018/08/Florida-Medical-Malpractice-due-to-Misdiagnosis-and-Failure-to-Diagnose.jpg' width=500>\n",
    "\n",
    "\n",
    "- Если у человека есть заболевание, то модель выдаст класс 1\n",
    "- А если у человека нет заболевания, то модель предскажет класс 0\n",
    "\n",
    "В ситуации, когда дело касается здоровья, лучше находить всех потенциально больных людей, чтобы как можно раньше начать лечение, а если модель случайно отнесла здорового человека в класс больного, то на следующих этапах обследований обнаружим, что человек здоровый.\n",
    "\n",
    "*И снова подумайте, какую метрику здесь нужно максимизировать?*"
   ]
  },
  {
   "cell_type": "markdown",
   "metadata": {
    "id": "C8pBA7OIdmOd"
   },
   "source": [
    "Здесь хочется минимизировать *ложные пропуски* **False Negative** - эти те ситуации, где модель в больном человеке *не нашла* заболевание. Поэтому в этой задаче классификации людей на *больной/здоровый*, лучше максимизировать метрику *recall*, которая отвечает за количество классификаций.  \n",
    "\n",
    "И снова другая сторона медали - каких-то здоровых людей данная модель может посчитать больными, то есть допустить ошибку *ложного срабатывания* **False Positive**, такие ошибки для нас неважно, ведь гораздо важнее ошибки *ложного пропуска* **False Negative**, в которых мы можем пропустить больного человека и не начать его лечить."
   ]
  },
  {
   "cell_type": "markdown",
   "metadata": {
    "id": "Tjoh1wsMy-pV"
   },
   "source": [
    "Иногда нам хочется снижать две ошибки одновременно, чтобы и **False Positive** не было, да и чтобы **False Negative** не случались, в этом случае мы можем пользоваться метрикой *F-score*, которая из себя представляет объединение Recall и Precision, про неё поговорим в этом [ноутбуке]() и [видео]()."
   ]
  },
  {
   "cell_type": "markdown",
   "metadata": {
    "id": "IoHK1woXcHkk"
   },
   "source": [
    "## Summary"
   ]
  },
  {
   "cell_type": "markdown",
   "metadata": {
    "id": "R4KYbNBiKOIo"
   },
   "source": [
    "<table>\n",
    "\n",
    "<tr>\n",
    "<td>\n",
    "Метрика\n",
    "</td>\n",
    "\n",
    "<td>\n",
    "Формула\n",
    "</td>\n",
    "\n",
    "<td>\n",
    "Диапазоны значений\n",
    "</td>\n",
    "\n",
    "<td>\n",
    "Идеальное значение\n",
    "</td>\n",
    "</tr>\n",
    "\n",
    "<tr>\n",
    "<td>\n",
    "Precision\n",
    "</td>\n",
    "\n",
    "<td>\n",
    "$$precision = \\frac{TP}{TP + FP}$$\n",
    "\n",
    "</td>\n",
    "\n",
    "<td>\n",
    "[0, 1]\n",
    "</td>\n",
    "\n",
    "<td>\n",
    "1\n",
    "</td>\n",
    "</tr>\n",
    "<td>\n",
    "Recall\n",
    "</td>\n",
    "\n",
    "<td>\n",
    "$$recall = \\frac{TP}{TP + FN}$$\n",
    "\n",
    "</td>\n",
    "\n",
    "<td>\n",
    "[0, 1]\n",
    "</td>\n",
    "\n",
    "<td>\n",
    "1\n",
    "</td>\n",
    "</tr>\n",
    "\n",
    "<table>"
   ]
  },
  {
   "cell_type": "markdown",
   "metadata": {
    "id": "QW0xL8P8hkxY"
   },
   "source": [
    "В этом занятии посмотрели на метрики для задачи классификации, которые учитывают разные ошибки - Precision и Recall.\n",
    "\n",
    "**Precision** хороша для\n",
    "- Задач, где важна *чистота* классификации\n",
    "- Где нам не нужны ошибки *False Positive*\n",
    "\n",
    "**Recall** хорош для\n",
    "- Задач, где важно *количество* классиифкаций\n",
    "- Где нам не нужны ошибки *False Negative*\n",
    "\n",
    "\n",
    "\n",
    "В целом, метрики используются для того, чтобы получить цифру оценки качества работы обученной модели, чтобы уже заранее знать, чего ожидать от модели, когда ей будем давать реальные данные, а также метрики можем использовать для обнаружения переобучения/недообучения. Про них разговор ведется в этом [ноутбуке](https://colab.research.google.com/drive/1MNpLMZGJCBwdNjY_PgJIKHtll6zvUEyU?usp=sharing) и в этом [видео](https://youtu.be/m7P7bnLxIc4).\n",
    "\n",
    "Про остальные метрики для задачи классификации можно посмотреть здесь:\n",
    "1. Accuracy. [ноутбук](https://colab.research.google.com/drive/1RSIGFmdzTLYEPCcZUWcWvO9-UW23Bm-K), [видео](https://youtu.be/CCH-1gJo_z0)\n",
    "2. Precision, Recall. [ноутбук](https://colab.research.google.com/drive/179Jm_Y2F7SnVgBK-1wj9YpsjWXb71DBN?usp=sharing) и [видео](https://youtu.be/AfnBHL832Eg).\n",
    "3. F-score. [ноутбук](https://colab.research.google.com/drive/1kcB1gNIqh3fJhz5XMtEtlwpfgnj-LO_c?usp=sharing), [видео](https://youtu.be/PeE3Fkt5W3Q)"
   ]
  },
  {
   "cell_type": "markdown",
   "metadata": {
    "id": "i_KecPjmWOe2"
   },
   "source": [
    "Муррр ♥"
   ]
  }
 ],
 "metadata": {
  "colab": {
   "provenance": []
  },
  "kernelspec": {
   "display_name": "Python 3 (ipykernel)",
   "language": "python",
   "name": "python3"
  },
  "language_info": {
   "codemirror_mode": {
    "name": "ipython",
    "version": 3
   },
   "file_extension": ".py",
   "mimetype": "text/x-python",
   "name": "python",
   "nbconvert_exporter": "python",
   "pygments_lexer": "ipython3",
   "version": "3.11.7"
  }
 },
 "nbformat": 4,
 "nbformat_minor": 4
}
