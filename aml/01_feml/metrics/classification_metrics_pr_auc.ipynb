{
 "cells": [
  {
   "cell_type": "code",
   "execution_count": 1,
   "id": "fc305717-d7df-4974-8010-d895fe73fd92",
   "metadata": {},
   "outputs": [],
   "source": [
    "import pandas as pd\n",
    "import numpy as np\n",
    "import matplotlib.pyplot as plt\n",
    "import seaborn as sns\n",
    "import matplotlib\n",
    "\n",
    "matplotlib.rcParams.update({'font.size': 14})\n",
    "pd.set_option('display.max_columns', 10)"
   ]
  },
  {
   "cell_type": "markdown",
   "id": "72c0477c-626c-4783-b03e-db60793ed739",
   "metadata": {},
   "source": [
    "## Получение данных"
   ]
  },
  {
   "cell_type": "code",
   "execution_count": 2,
   "id": "f486d00a-7ae4-472d-84cd-4154d53882d9",
   "metadata": {},
   "outputs": [
    {
     "name": "stdout",
     "output_type": "stream",
     "text": [
      ".. _breast_cancer_dataset:\n",
      "\n",
      "Breast cancer wisconsin (diagnostic) dataset\n",
      "--------------------------------------------\n",
      "\n",
      "**Data Set Characteristics:**\n",
      "\n",
      ":Number of Instances: 569\n",
      "\n",
      ":Number of Attributes: 30 numeric, predictive attributes and the class\n",
      "\n",
      ":Attribute Information:\n",
      "    - radius (mean of distances from center to points on the perimeter)\n",
      "    - texture (standard deviation of gray-scale values)\n",
      "    - perimeter\n",
      "    - area\n",
      "    - smoothness (local variation in radius lengths)\n",
      "    - compactness (perimeter^2 / area - 1.0)\n",
      "    - concavity (severity of concave portions of the contour)\n",
      "    - concave points (number of concave portions of the contour)\n",
      "    - symmetry\n",
      "    - fractal dimension (\"coastline approximation\" - 1)\n",
      "\n",
      "    The mean, standard error, and \"worst\" or largest (mean of the three\n",
      "    worst/largest values) of these features were computed for each image,\n",
      "    resulting in 30 features.  For instance, field 0 is Mean Radius, field\n",
      "    10 is Radius SE, field 20 is Worst Radius.\n",
      "\n",
      "    - class:\n",
      "            - WDBC-Malignant\n",
      "            - WDBC-Benign\n",
      "\n",
      ":Summary Statistics:\n",
      "\n",
      "===================================== ====== ======\n",
      "                                        Min    Max\n",
      "===================================== ====== ======\n",
      "radius (mean):                        6.981  28.11\n",
      "texture (mean):                       9.71   39.28\n",
      "perimeter (mean):                     43.79  188.5\n",
      "area (mean):                          143.5  2501.0\n",
      "smoothness (mean):                    0.053  0.163\n",
      "compactness (mean):                   0.019  0.345\n",
      "concavity (mean):                     0.0    0.427\n",
      "concave points (mean):                0.0    0.201\n",
      "symmetry (mean):                      0.106  0.304\n",
      "fractal dimension (mean):             0.05   0.097\n",
      "radius (standard error):              0.112  2.873\n",
      "texture (standard error):             0.36   4.885\n",
      "perimeter (standard error):           0.757  21.98\n",
      "area (standard error):                6.802  542.2\n",
      "smoothness (standard error):          0.002  0.031\n",
      "compactness (standard error):         0.002  0.135\n",
      "concavity (standard error):           0.0    0.396\n",
      "concave points (standard error):      0.0    0.053\n",
      "symmetry (standard error):            0.008  0.079\n",
      "fractal dimension (standard error):   0.001  0.03\n",
      "radius (worst):                       7.93   36.04\n",
      "texture (worst):                      12.02  49.54\n",
      "perimeter (worst):                    50.41  251.2\n",
      "area (worst):                         185.2  4254.0\n",
      "smoothness (worst):                   0.071  0.223\n",
      "compactness (worst):                  0.027  1.058\n",
      "concavity (worst):                    0.0    1.252\n",
      "concave points (worst):               0.0    0.291\n",
      "symmetry (worst):                     0.156  0.664\n",
      "fractal dimension (worst):            0.055  0.208\n",
      "===================================== ====== ======\n",
      "\n",
      ":Missing Attribute Values: None\n",
      "\n",
      ":Class Distribution: 212 - Malignant, 357 - Benign\n",
      "\n",
      ":Creator:  Dr. William H. Wolberg, W. Nick Street, Olvi L. Mangasarian\n",
      "\n",
      ":Donor: Nick Street\n",
      "\n",
      ":Date: November, 1995\n",
      "\n",
      "This is a copy of UCI ML Breast Cancer Wisconsin (Diagnostic) datasets.\n",
      "https://goo.gl/U2Uwz2\n",
      "\n",
      "Features are computed from a digitized image of a fine needle\n",
      "aspirate (FNA) of a breast mass.  They describe\n",
      "characteristics of the cell nuclei present in the image.\n",
      "\n",
      "Separating plane described above was obtained using\n",
      "Multisurface Method-Tree (MSM-T) [K. P. Bennett, \"Decision Tree\n",
      "Construction Via Linear Programming.\" Proceedings of the 4th\n",
      "Midwest Artificial Intelligence and Cognitive Science Society,\n",
      "pp. 97-101, 1992], a classification method which uses linear\n",
      "programming to construct a decision tree.  Relevant features\n",
      "were selected using an exhaustive search in the space of 1-4\n",
      "features and 1-3 separating planes.\n",
      "\n",
      "The actual linear program used to obtain the separating plane\n",
      "in the 3-dimensional space is that described in:\n",
      "[K. P. Bennett and O. L. Mangasarian: \"Robust Linear\n",
      "Programming Discrimination of Two Linearly Inseparable Sets\",\n",
      "Optimization Methods and Software 1, 1992, 23-34].\n",
      "\n",
      "This database is also available through the UW CS ftp server:\n",
      "\n",
      "ftp ftp.cs.wisc.edu\n",
      "cd math-prog/cpo-dataset/machine-learn/WDBC/\n",
      "\n",
      "|details-start|\n",
      "**References**\n",
      "|details-split|\n",
      "\n",
      "- W.N. Street, W.H. Wolberg and O.L. Mangasarian. Nuclear feature extraction\n",
      "  for breast tumor diagnosis. IS&T/SPIE 1993 International Symposium on\n",
      "  Electronic Imaging: Science and Technology, volume 1905, pages 861-870,\n",
      "  San Jose, CA, 1993.\n",
      "- O.L. Mangasarian, W.N. Street and W.H. Wolberg. Breast cancer diagnosis and\n",
      "  prognosis via linear programming. Operations Research, 43(4), pages 570-577,\n",
      "  July-August 1995.\n",
      "- W.H. Wolberg, W.N. Street, and O.L. Mangasarian. Machine learning techniques\n",
      "  to diagnose breast cancer from fine-needle aspirates. Cancer Letters 77 (1994)\n",
      "  163-171.\n",
      "\n",
      "|details-end|\n",
      "\n"
     ]
    }
   ],
   "source": [
    "from sklearn.datasets import load_breast_cancer\n",
    "\n",
    "\n",
    "data = load_breast_cancer()\n",
    "\n",
    "print(data['DESCR'])"
   ]
  },
  {
   "cell_type": "code",
   "execution_count": 3,
   "id": "23cb7986-9922-480f-af0c-be194e2c3bca",
   "metadata": {},
   "outputs": [
    {
     "data": {
      "text/html": [
       "<div>\n",
       "<style scoped>\n",
       "    .dataframe tbody tr th:only-of-type {\n",
       "        vertical-align: middle;\n",
       "    }\n",
       "\n",
       "    .dataframe tbody tr th {\n",
       "        vertical-align: top;\n",
       "    }\n",
       "\n",
       "    .dataframe thead th {\n",
       "        text-align: right;\n",
       "    }\n",
       "</style>\n",
       "<table border=\"1\" class=\"dataframe\">\n",
       "  <thead>\n",
       "    <tr style=\"text-align: right;\">\n",
       "      <th></th>\n",
       "      <th>mean radius</th>\n",
       "      <th>mean texture</th>\n",
       "      <th>mean perimeter</th>\n",
       "      <th>mean area</th>\n",
       "      <th>mean smoothness</th>\n",
       "      <th>...</th>\n",
       "      <th>worst compactness</th>\n",
       "      <th>worst concavity</th>\n",
       "      <th>worst concave points</th>\n",
       "      <th>worst symmetry</th>\n",
       "      <th>worst fractal dimension</th>\n",
       "    </tr>\n",
       "  </thead>\n",
       "  <tbody>\n",
       "    <tr>\n",
       "      <th>0</th>\n",
       "      <td>17.99</td>\n",
       "      <td>10.38</td>\n",
       "      <td>122.80</td>\n",
       "      <td>1001.0</td>\n",
       "      <td>0.11840</td>\n",
       "      <td>...</td>\n",
       "      <td>0.66560</td>\n",
       "      <td>0.7119</td>\n",
       "      <td>0.2654</td>\n",
       "      <td>0.4601</td>\n",
       "      <td>0.11890</td>\n",
       "    </tr>\n",
       "    <tr>\n",
       "      <th>1</th>\n",
       "      <td>20.57</td>\n",
       "      <td>17.77</td>\n",
       "      <td>132.90</td>\n",
       "      <td>1326.0</td>\n",
       "      <td>0.08474</td>\n",
       "      <td>...</td>\n",
       "      <td>0.18660</td>\n",
       "      <td>0.2416</td>\n",
       "      <td>0.1860</td>\n",
       "      <td>0.2750</td>\n",
       "      <td>0.08902</td>\n",
       "    </tr>\n",
       "    <tr>\n",
       "      <th>2</th>\n",
       "      <td>19.69</td>\n",
       "      <td>21.25</td>\n",
       "      <td>130.00</td>\n",
       "      <td>1203.0</td>\n",
       "      <td>0.10960</td>\n",
       "      <td>...</td>\n",
       "      <td>0.42450</td>\n",
       "      <td>0.4504</td>\n",
       "      <td>0.2430</td>\n",
       "      <td>0.3613</td>\n",
       "      <td>0.08758</td>\n",
       "    </tr>\n",
       "    <tr>\n",
       "      <th>3</th>\n",
       "      <td>11.42</td>\n",
       "      <td>20.38</td>\n",
       "      <td>77.58</td>\n",
       "      <td>386.1</td>\n",
       "      <td>0.14250</td>\n",
       "      <td>...</td>\n",
       "      <td>0.86630</td>\n",
       "      <td>0.6869</td>\n",
       "      <td>0.2575</td>\n",
       "      <td>0.6638</td>\n",
       "      <td>0.17300</td>\n",
       "    </tr>\n",
       "    <tr>\n",
       "      <th>4</th>\n",
       "      <td>20.29</td>\n",
       "      <td>14.34</td>\n",
       "      <td>135.10</td>\n",
       "      <td>1297.0</td>\n",
       "      <td>0.10030</td>\n",
       "      <td>...</td>\n",
       "      <td>0.20500</td>\n",
       "      <td>0.4000</td>\n",
       "      <td>0.1625</td>\n",
       "      <td>0.2364</td>\n",
       "      <td>0.07678</td>\n",
       "    </tr>\n",
       "    <tr>\n",
       "      <th>...</th>\n",
       "      <td>...</td>\n",
       "      <td>...</td>\n",
       "      <td>...</td>\n",
       "      <td>...</td>\n",
       "      <td>...</td>\n",
       "      <td>...</td>\n",
       "      <td>...</td>\n",
       "      <td>...</td>\n",
       "      <td>...</td>\n",
       "      <td>...</td>\n",
       "      <td>...</td>\n",
       "    </tr>\n",
       "    <tr>\n",
       "      <th>564</th>\n",
       "      <td>21.56</td>\n",
       "      <td>22.39</td>\n",
       "      <td>142.00</td>\n",
       "      <td>1479.0</td>\n",
       "      <td>0.11100</td>\n",
       "      <td>...</td>\n",
       "      <td>0.21130</td>\n",
       "      <td>0.4107</td>\n",
       "      <td>0.2216</td>\n",
       "      <td>0.2060</td>\n",
       "      <td>0.07115</td>\n",
       "    </tr>\n",
       "    <tr>\n",
       "      <th>565</th>\n",
       "      <td>20.13</td>\n",
       "      <td>28.25</td>\n",
       "      <td>131.20</td>\n",
       "      <td>1261.0</td>\n",
       "      <td>0.09780</td>\n",
       "      <td>...</td>\n",
       "      <td>0.19220</td>\n",
       "      <td>0.3215</td>\n",
       "      <td>0.1628</td>\n",
       "      <td>0.2572</td>\n",
       "      <td>0.06637</td>\n",
       "    </tr>\n",
       "    <tr>\n",
       "      <th>566</th>\n",
       "      <td>16.60</td>\n",
       "      <td>28.08</td>\n",
       "      <td>108.30</td>\n",
       "      <td>858.1</td>\n",
       "      <td>0.08455</td>\n",
       "      <td>...</td>\n",
       "      <td>0.30940</td>\n",
       "      <td>0.3403</td>\n",
       "      <td>0.1418</td>\n",
       "      <td>0.2218</td>\n",
       "      <td>0.07820</td>\n",
       "    </tr>\n",
       "    <tr>\n",
       "      <th>567</th>\n",
       "      <td>20.60</td>\n",
       "      <td>29.33</td>\n",
       "      <td>140.10</td>\n",
       "      <td>1265.0</td>\n",
       "      <td>0.11780</td>\n",
       "      <td>...</td>\n",
       "      <td>0.86810</td>\n",
       "      <td>0.9387</td>\n",
       "      <td>0.2650</td>\n",
       "      <td>0.4087</td>\n",
       "      <td>0.12400</td>\n",
       "    </tr>\n",
       "    <tr>\n",
       "      <th>568</th>\n",
       "      <td>7.76</td>\n",
       "      <td>24.54</td>\n",
       "      <td>47.92</td>\n",
       "      <td>181.0</td>\n",
       "      <td>0.05263</td>\n",
       "      <td>...</td>\n",
       "      <td>0.06444</td>\n",
       "      <td>0.0000</td>\n",
       "      <td>0.0000</td>\n",
       "      <td>0.2871</td>\n",
       "      <td>0.07039</td>\n",
       "    </tr>\n",
       "  </tbody>\n",
       "</table>\n",
       "<p>569 rows × 30 columns</p>\n",
       "</div>"
      ],
      "text/plain": [
       "     mean radius  mean texture  mean perimeter  mean area  mean smoothness  \\\n",
       "0          17.99         10.38          122.80     1001.0          0.11840   \n",
       "1          20.57         17.77          132.90     1326.0          0.08474   \n",
       "2          19.69         21.25          130.00     1203.0          0.10960   \n",
       "3          11.42         20.38           77.58      386.1          0.14250   \n",
       "4          20.29         14.34          135.10     1297.0          0.10030   \n",
       "..           ...           ...             ...        ...              ...   \n",
       "564        21.56         22.39          142.00     1479.0          0.11100   \n",
       "565        20.13         28.25          131.20     1261.0          0.09780   \n",
       "566        16.60         28.08          108.30      858.1          0.08455   \n",
       "567        20.60         29.33          140.10     1265.0          0.11780   \n",
       "568         7.76         24.54           47.92      181.0          0.05263   \n",
       "\n",
       "     ...  worst compactness  worst concavity  worst concave points  \\\n",
       "0    ...            0.66560           0.7119                0.2654   \n",
       "1    ...            0.18660           0.2416                0.1860   \n",
       "2    ...            0.42450           0.4504                0.2430   \n",
       "3    ...            0.86630           0.6869                0.2575   \n",
       "4    ...            0.20500           0.4000                0.1625   \n",
       "..   ...                ...              ...                   ...   \n",
       "564  ...            0.21130           0.4107                0.2216   \n",
       "565  ...            0.19220           0.3215                0.1628   \n",
       "566  ...            0.30940           0.3403                0.1418   \n",
       "567  ...            0.86810           0.9387                0.2650   \n",
       "568  ...            0.06444           0.0000                0.0000   \n",
       "\n",
       "     worst symmetry  worst fractal dimension  \n",
       "0            0.4601                  0.11890  \n",
       "1            0.2750                  0.08902  \n",
       "2            0.3613                  0.08758  \n",
       "3            0.6638                  0.17300  \n",
       "4            0.2364                  0.07678  \n",
       "..              ...                      ...  \n",
       "564          0.2060                  0.07115  \n",
       "565          0.2572                  0.06637  \n",
       "566          0.2218                  0.07820  \n",
       "567          0.4087                  0.12400  \n",
       "568          0.2871                  0.07039  \n",
       "\n",
       "[569 rows x 30 columns]"
      ]
     },
     "execution_count": 3,
     "metadata": {},
     "output_type": "execute_result"
    }
   ],
   "source": [
    "X = pd.DataFrame(data['data'], columns=data['feature_names'])\n",
    "y = pd.Series(data['target'])\n",
    "\n",
    "X"
   ]
  },
  {
   "cell_type": "code",
   "execution_count": 4,
   "id": "f87d77b0-141d-4714-8696-f192c848ab29",
   "metadata": {},
   "outputs": [
    {
     "data": {
      "text/plain": [
       "1    357\n",
       "0    212\n",
       "Name: count, dtype: int64"
      ]
     },
     "execution_count": 4,
     "metadata": {},
     "output_type": "execute_result"
    }
   ],
   "source": [
    "y.value_counts()"
   ]
  },
  {
   "cell_type": "code",
   "execution_count": 5,
   "id": "6c8dcc35-f3c0-4d4d-8d30-7a56339178bf",
   "metadata": {},
   "outputs": [],
   "source": [
    "from sklearn.model_selection import train_test_split\n",
    "\n",
    "\n",
    "np.random.seed(5)\n",
    "features = np.random.randint(X.shape[1], size=2)\n",
    "\n",
    "\n",
    "X_train, X_test, y_train, y_test = train_test_split(X.iloc[:, features], y, test_size=9, random_state=4)"
   ]
  },
  {
   "cell_type": "code",
   "execution_count": 6,
   "id": "fa4a68ae-f0a2-4378-b0d4-d8d78768209a",
   "metadata": {},
   "outputs": [
    {
     "data": {
      "text/html": [
       "<div>\n",
       "<style scoped>\n",
       "    .dataframe tbody tr th:only-of-type {\n",
       "        vertical-align: middle;\n",
       "    }\n",
       "\n",
       "    .dataframe tbody tr th {\n",
       "        vertical-align: top;\n",
       "    }\n",
       "\n",
       "    .dataframe thead th {\n",
       "        text-align: right;\n",
       "    }\n",
       "</style>\n",
       "<table border=\"1\" class=\"dataframe\">\n",
       "  <thead>\n",
       "    <tr style=\"text-align: right;\">\n",
       "      <th></th>\n",
       "      <th>mean area</th>\n",
       "      <th>smoothness error</th>\n",
       "    </tr>\n",
       "  </thead>\n",
       "  <tbody>\n",
       "    <tr>\n",
       "      <th>340</th>\n",
       "      <td>641.2</td>\n",
       "      <td>0.004577</td>\n",
       "    </tr>\n",
       "    <tr>\n",
       "      <th>382</th>\n",
       "      <td>447.8</td>\n",
       "      <td>0.005042</td>\n",
       "    </tr>\n",
       "    <tr>\n",
       "      <th>300</th>\n",
       "      <td>1217.0</td>\n",
       "      <td>0.006056</td>\n",
       "    </tr>\n",
       "    <tr>\n",
       "      <th>262</th>\n",
       "      <td>947.8</td>\n",
       "      <td>0.006717</td>\n",
       "    </tr>\n",
       "    <tr>\n",
       "      <th>363</th>\n",
       "      <td>838.1</td>\n",
       "      <td>0.007257</td>\n",
       "    </tr>\n",
       "    <tr>\n",
       "      <th>157</th>\n",
       "      <td>880.2</td>\n",
       "      <td>0.003443</td>\n",
       "    </tr>\n",
       "    <tr>\n",
       "      <th>120</th>\n",
       "      <td>403.3</td>\n",
       "      <td>0.006040</td>\n",
       "    </tr>\n",
       "    <tr>\n",
       "      <th>139</th>\n",
       "      <td>384.8</td>\n",
       "      <td>0.011270</td>\n",
       "    </tr>\n",
       "    <tr>\n",
       "      <th>99</th>\n",
       "      <td>642.5</td>\n",
       "      <td>0.008005</td>\n",
       "    </tr>\n",
       "  </tbody>\n",
       "</table>\n",
       "</div>"
      ],
      "text/plain": [
       "     mean area  smoothness error\n",
       "340      641.2          0.004577\n",
       "382      447.8          0.005042\n",
       "300     1217.0          0.006056\n",
       "262      947.8          0.006717\n",
       "363      838.1          0.007257\n",
       "157      880.2          0.003443\n",
       "120      403.3          0.006040\n",
       "139      384.8          0.011270\n",
       "99       642.5          0.008005"
      ]
     },
     "execution_count": 6,
     "metadata": {},
     "output_type": "execute_result"
    }
   ],
   "source": [
    "X_test"
   ]
  },
  {
   "cell_type": "code",
   "execution_count": 7,
   "id": "7970ebf9-1a0f-4572-ad01-b1dc193919eb",
   "metadata": {},
   "outputs": [
    {
     "data": {
      "text/plain": [
       "340    1\n",
       "382    1\n",
       "300    0\n",
       "262    0\n",
       "363    1\n",
       "157    1\n",
       "120    1\n",
       "139    1\n",
       "99     0\n",
       "dtype: int64"
      ]
     },
     "execution_count": 7,
     "metadata": {},
     "output_type": "execute_result"
    }
   ],
   "source": [
    "y_test"
   ]
  },
  {
   "cell_type": "markdown",
   "id": "a63c1d12-f5b7-48d8-b1ed-190b4b5cea81",
   "metadata": {},
   "source": [
    "## Обучение модели"
   ]
  },
  {
   "cell_type": "code",
   "execution_count": 8,
   "id": "ae4f378c-b477-48af-8a4a-9127fb9d2f99",
   "metadata": {},
   "outputs": [
    {
     "data": {
      "text/html": [
       "<style>#sk-container-id-1 {\n",
       "  /* Definition of color scheme common for light and dark mode */\n",
       "  --sklearn-color-text: black;\n",
       "  --sklearn-color-line: gray;\n",
       "  /* Definition of color scheme for unfitted estimators */\n",
       "  --sklearn-color-unfitted-level-0: #fff5e6;\n",
       "  --sklearn-color-unfitted-level-1: #f6e4d2;\n",
       "  --sklearn-color-unfitted-level-2: #ffe0b3;\n",
       "  --sklearn-color-unfitted-level-3: chocolate;\n",
       "  /* Definition of color scheme for fitted estimators */\n",
       "  --sklearn-color-fitted-level-0: #f0f8ff;\n",
       "  --sklearn-color-fitted-level-1: #d4ebff;\n",
       "  --sklearn-color-fitted-level-2: #b3dbfd;\n",
       "  --sklearn-color-fitted-level-3: cornflowerblue;\n",
       "\n",
       "  /* Specific color for light theme */\n",
       "  --sklearn-color-text-on-default-background: var(--sg-text-color, var(--theme-code-foreground, var(--jp-content-font-color1, black)));\n",
       "  --sklearn-color-background: var(--sg-background-color, var(--theme-background, var(--jp-layout-color0, white)));\n",
       "  --sklearn-color-border-box: var(--sg-text-color, var(--theme-code-foreground, var(--jp-content-font-color1, black)));\n",
       "  --sklearn-color-icon: #696969;\n",
       "\n",
       "  @media (prefers-color-scheme: dark) {\n",
       "    /* Redefinition of color scheme for dark theme */\n",
       "    --sklearn-color-text-on-default-background: var(--sg-text-color, var(--theme-code-foreground, var(--jp-content-font-color1, white)));\n",
       "    --sklearn-color-background: var(--sg-background-color, var(--theme-background, var(--jp-layout-color0, #111)));\n",
       "    --sklearn-color-border-box: var(--sg-text-color, var(--theme-code-foreground, var(--jp-content-font-color1, white)));\n",
       "    --sklearn-color-icon: #878787;\n",
       "  }\n",
       "}\n",
       "\n",
       "#sk-container-id-1 {\n",
       "  color: var(--sklearn-color-text);\n",
       "}\n",
       "\n",
       "#sk-container-id-1 pre {\n",
       "  padding: 0;\n",
       "}\n",
       "\n",
       "#sk-container-id-1 input.sk-hidden--visually {\n",
       "  border: 0;\n",
       "  clip: rect(1px 1px 1px 1px);\n",
       "  clip: rect(1px, 1px, 1px, 1px);\n",
       "  height: 1px;\n",
       "  margin: -1px;\n",
       "  overflow: hidden;\n",
       "  padding: 0;\n",
       "  position: absolute;\n",
       "  width: 1px;\n",
       "}\n",
       "\n",
       "#sk-container-id-1 div.sk-dashed-wrapped {\n",
       "  border: 1px dashed var(--sklearn-color-line);\n",
       "  margin: 0 0.4em 0.5em 0.4em;\n",
       "  box-sizing: border-box;\n",
       "  padding-bottom: 0.4em;\n",
       "  background-color: var(--sklearn-color-background);\n",
       "}\n",
       "\n",
       "#sk-container-id-1 div.sk-container {\n",
       "  /* jupyter's `normalize.less` sets `[hidden] { display: none; }`\n",
       "     but bootstrap.min.css set `[hidden] { display: none !important; }`\n",
       "     so we also need the `!important` here to be able to override the\n",
       "     default hidden behavior on the sphinx rendered scikit-learn.org.\n",
       "     See: https://github.com/scikit-learn/scikit-learn/issues/21755 */\n",
       "  display: inline-block !important;\n",
       "  position: relative;\n",
       "}\n",
       "\n",
       "#sk-container-id-1 div.sk-text-repr-fallback {\n",
       "  display: none;\n",
       "}\n",
       "\n",
       "div.sk-parallel-item,\n",
       "div.sk-serial,\n",
       "div.sk-item {\n",
       "  /* draw centered vertical line to link estimators */\n",
       "  background-image: linear-gradient(var(--sklearn-color-text-on-default-background), var(--sklearn-color-text-on-default-background));\n",
       "  background-size: 2px 100%;\n",
       "  background-repeat: no-repeat;\n",
       "  background-position: center center;\n",
       "}\n",
       "\n",
       "/* Parallel-specific style estimator block */\n",
       "\n",
       "#sk-container-id-1 div.sk-parallel-item::after {\n",
       "  content: \"\";\n",
       "  width: 100%;\n",
       "  border-bottom: 2px solid var(--sklearn-color-text-on-default-background);\n",
       "  flex-grow: 1;\n",
       "}\n",
       "\n",
       "#sk-container-id-1 div.sk-parallel {\n",
       "  display: flex;\n",
       "  align-items: stretch;\n",
       "  justify-content: center;\n",
       "  background-color: var(--sklearn-color-background);\n",
       "  position: relative;\n",
       "}\n",
       "\n",
       "#sk-container-id-1 div.sk-parallel-item {\n",
       "  display: flex;\n",
       "  flex-direction: column;\n",
       "}\n",
       "\n",
       "#sk-container-id-1 div.sk-parallel-item:first-child::after {\n",
       "  align-self: flex-end;\n",
       "  width: 50%;\n",
       "}\n",
       "\n",
       "#sk-container-id-1 div.sk-parallel-item:last-child::after {\n",
       "  align-self: flex-start;\n",
       "  width: 50%;\n",
       "}\n",
       "\n",
       "#sk-container-id-1 div.sk-parallel-item:only-child::after {\n",
       "  width: 0;\n",
       "}\n",
       "\n",
       "/* Serial-specific style estimator block */\n",
       "\n",
       "#sk-container-id-1 div.sk-serial {\n",
       "  display: flex;\n",
       "  flex-direction: column;\n",
       "  align-items: center;\n",
       "  background-color: var(--sklearn-color-background);\n",
       "  padding-right: 1em;\n",
       "  padding-left: 1em;\n",
       "}\n",
       "\n",
       "\n",
       "/* Toggleable style: style used for estimator/Pipeline/ColumnTransformer box that is\n",
       "clickable and can be expanded/collapsed.\n",
       "- Pipeline and ColumnTransformer use this feature and define the default style\n",
       "- Estimators will overwrite some part of the style using the `sk-estimator` class\n",
       "*/\n",
       "\n",
       "/* Pipeline and ColumnTransformer style (default) */\n",
       "\n",
       "#sk-container-id-1 div.sk-toggleable {\n",
       "  /* Default theme specific background. It is overwritten whether we have a\n",
       "  specific estimator or a Pipeline/ColumnTransformer */\n",
       "  background-color: var(--sklearn-color-background);\n",
       "}\n",
       "\n",
       "/* Toggleable label */\n",
       "#sk-container-id-1 label.sk-toggleable__label {\n",
       "  cursor: pointer;\n",
       "  display: block;\n",
       "  width: 100%;\n",
       "  margin-bottom: 0;\n",
       "  padding: 0.5em;\n",
       "  box-sizing: border-box;\n",
       "  text-align: center;\n",
       "}\n",
       "\n",
       "#sk-container-id-1 label.sk-toggleable__label-arrow:before {\n",
       "  /* Arrow on the left of the label */\n",
       "  content: \"▸\";\n",
       "  float: left;\n",
       "  margin-right: 0.25em;\n",
       "  color: var(--sklearn-color-icon);\n",
       "}\n",
       "\n",
       "#sk-container-id-1 label.sk-toggleable__label-arrow:hover:before {\n",
       "  color: var(--sklearn-color-text);\n",
       "}\n",
       "\n",
       "/* Toggleable content - dropdown */\n",
       "\n",
       "#sk-container-id-1 div.sk-toggleable__content {\n",
       "  max-height: 0;\n",
       "  max-width: 0;\n",
       "  overflow: hidden;\n",
       "  text-align: left;\n",
       "  /* unfitted */\n",
       "  background-color: var(--sklearn-color-unfitted-level-0);\n",
       "}\n",
       "\n",
       "#sk-container-id-1 div.sk-toggleable__content.fitted {\n",
       "  /* fitted */\n",
       "  background-color: var(--sklearn-color-fitted-level-0);\n",
       "}\n",
       "\n",
       "#sk-container-id-1 div.sk-toggleable__content pre {\n",
       "  margin: 0.2em;\n",
       "  border-radius: 0.25em;\n",
       "  color: var(--sklearn-color-text);\n",
       "  /* unfitted */\n",
       "  background-color: var(--sklearn-color-unfitted-level-0);\n",
       "}\n",
       "\n",
       "#sk-container-id-1 div.sk-toggleable__content.fitted pre {\n",
       "  /* unfitted */\n",
       "  background-color: var(--sklearn-color-fitted-level-0);\n",
       "}\n",
       "\n",
       "#sk-container-id-1 input.sk-toggleable__control:checked~div.sk-toggleable__content {\n",
       "  /* Expand drop-down */\n",
       "  max-height: 200px;\n",
       "  max-width: 100%;\n",
       "  overflow: auto;\n",
       "}\n",
       "\n",
       "#sk-container-id-1 input.sk-toggleable__control:checked~label.sk-toggleable__label-arrow:before {\n",
       "  content: \"▾\";\n",
       "}\n",
       "\n",
       "/* Pipeline/ColumnTransformer-specific style */\n",
       "\n",
       "#sk-container-id-1 div.sk-label input.sk-toggleable__control:checked~label.sk-toggleable__label {\n",
       "  color: var(--sklearn-color-text);\n",
       "  background-color: var(--sklearn-color-unfitted-level-2);\n",
       "}\n",
       "\n",
       "#sk-container-id-1 div.sk-label.fitted input.sk-toggleable__control:checked~label.sk-toggleable__label {\n",
       "  background-color: var(--sklearn-color-fitted-level-2);\n",
       "}\n",
       "\n",
       "/* Estimator-specific style */\n",
       "\n",
       "/* Colorize estimator box */\n",
       "#sk-container-id-1 div.sk-estimator input.sk-toggleable__control:checked~label.sk-toggleable__label {\n",
       "  /* unfitted */\n",
       "  background-color: var(--sklearn-color-unfitted-level-2);\n",
       "}\n",
       "\n",
       "#sk-container-id-1 div.sk-estimator.fitted input.sk-toggleable__control:checked~label.sk-toggleable__label {\n",
       "  /* fitted */\n",
       "  background-color: var(--sklearn-color-fitted-level-2);\n",
       "}\n",
       "\n",
       "#sk-container-id-1 div.sk-label label.sk-toggleable__label,\n",
       "#sk-container-id-1 div.sk-label label {\n",
       "  /* The background is the default theme color */\n",
       "  color: var(--sklearn-color-text-on-default-background);\n",
       "}\n",
       "\n",
       "/* On hover, darken the color of the background */\n",
       "#sk-container-id-1 div.sk-label:hover label.sk-toggleable__label {\n",
       "  color: var(--sklearn-color-text);\n",
       "  background-color: var(--sklearn-color-unfitted-level-2);\n",
       "}\n",
       "\n",
       "/* Label box, darken color on hover, fitted */\n",
       "#sk-container-id-1 div.sk-label.fitted:hover label.sk-toggleable__label.fitted {\n",
       "  color: var(--sklearn-color-text);\n",
       "  background-color: var(--sklearn-color-fitted-level-2);\n",
       "}\n",
       "\n",
       "/* Estimator label */\n",
       "\n",
       "#sk-container-id-1 div.sk-label label {\n",
       "  font-family: monospace;\n",
       "  font-weight: bold;\n",
       "  display: inline-block;\n",
       "  line-height: 1.2em;\n",
       "}\n",
       "\n",
       "#sk-container-id-1 div.sk-label-container {\n",
       "  text-align: center;\n",
       "}\n",
       "\n",
       "/* Estimator-specific */\n",
       "#sk-container-id-1 div.sk-estimator {\n",
       "  font-family: monospace;\n",
       "  border: 1px dotted var(--sklearn-color-border-box);\n",
       "  border-radius: 0.25em;\n",
       "  box-sizing: border-box;\n",
       "  margin-bottom: 0.5em;\n",
       "  /* unfitted */\n",
       "  background-color: var(--sklearn-color-unfitted-level-0);\n",
       "}\n",
       "\n",
       "#sk-container-id-1 div.sk-estimator.fitted {\n",
       "  /* fitted */\n",
       "  background-color: var(--sklearn-color-fitted-level-0);\n",
       "}\n",
       "\n",
       "/* on hover */\n",
       "#sk-container-id-1 div.sk-estimator:hover {\n",
       "  /* unfitted */\n",
       "  background-color: var(--sklearn-color-unfitted-level-2);\n",
       "}\n",
       "\n",
       "#sk-container-id-1 div.sk-estimator.fitted:hover {\n",
       "  /* fitted */\n",
       "  background-color: var(--sklearn-color-fitted-level-2);\n",
       "}\n",
       "\n",
       "/* Specification for estimator info (e.g. \"i\" and \"?\") */\n",
       "\n",
       "/* Common style for \"i\" and \"?\" */\n",
       "\n",
       ".sk-estimator-doc-link,\n",
       "a:link.sk-estimator-doc-link,\n",
       "a:visited.sk-estimator-doc-link {\n",
       "  float: right;\n",
       "  font-size: smaller;\n",
       "  line-height: 1em;\n",
       "  font-family: monospace;\n",
       "  background-color: var(--sklearn-color-background);\n",
       "  border-radius: 1em;\n",
       "  height: 1em;\n",
       "  width: 1em;\n",
       "  text-decoration: none !important;\n",
       "  margin-left: 1ex;\n",
       "  /* unfitted */\n",
       "  border: var(--sklearn-color-unfitted-level-1) 1pt solid;\n",
       "  color: var(--sklearn-color-unfitted-level-1);\n",
       "}\n",
       "\n",
       ".sk-estimator-doc-link.fitted,\n",
       "a:link.sk-estimator-doc-link.fitted,\n",
       "a:visited.sk-estimator-doc-link.fitted {\n",
       "  /* fitted */\n",
       "  border: var(--sklearn-color-fitted-level-1) 1pt solid;\n",
       "  color: var(--sklearn-color-fitted-level-1);\n",
       "}\n",
       "\n",
       "/* On hover */\n",
       "div.sk-estimator:hover .sk-estimator-doc-link:hover,\n",
       ".sk-estimator-doc-link:hover,\n",
       "div.sk-label-container:hover .sk-estimator-doc-link:hover,\n",
       ".sk-estimator-doc-link:hover {\n",
       "  /* unfitted */\n",
       "  background-color: var(--sklearn-color-unfitted-level-3);\n",
       "  color: var(--sklearn-color-background);\n",
       "  text-decoration: none;\n",
       "}\n",
       "\n",
       "div.sk-estimator.fitted:hover .sk-estimator-doc-link.fitted:hover,\n",
       ".sk-estimator-doc-link.fitted:hover,\n",
       "div.sk-label-container:hover .sk-estimator-doc-link.fitted:hover,\n",
       ".sk-estimator-doc-link.fitted:hover {\n",
       "  /* fitted */\n",
       "  background-color: var(--sklearn-color-fitted-level-3);\n",
       "  color: var(--sklearn-color-background);\n",
       "  text-decoration: none;\n",
       "}\n",
       "\n",
       "/* Span, style for the box shown on hovering the info icon */\n",
       ".sk-estimator-doc-link span {\n",
       "  display: none;\n",
       "  z-index: 9999;\n",
       "  position: relative;\n",
       "  font-weight: normal;\n",
       "  right: .2ex;\n",
       "  padding: .5ex;\n",
       "  margin: .5ex;\n",
       "  width: min-content;\n",
       "  min-width: 20ex;\n",
       "  max-width: 50ex;\n",
       "  color: var(--sklearn-color-text);\n",
       "  box-shadow: 2pt 2pt 4pt #999;\n",
       "  /* unfitted */\n",
       "  background: var(--sklearn-color-unfitted-level-0);\n",
       "  border: .5pt solid var(--sklearn-color-unfitted-level-3);\n",
       "}\n",
       "\n",
       ".sk-estimator-doc-link.fitted span {\n",
       "  /* fitted */\n",
       "  background: var(--sklearn-color-fitted-level-0);\n",
       "  border: var(--sklearn-color-fitted-level-3);\n",
       "}\n",
       "\n",
       ".sk-estimator-doc-link:hover span {\n",
       "  display: block;\n",
       "}\n",
       "\n",
       "/* \"?\"-specific style due to the `<a>` HTML tag */\n",
       "\n",
       "#sk-container-id-1 a.estimator_doc_link {\n",
       "  float: right;\n",
       "  font-size: 1rem;\n",
       "  line-height: 1em;\n",
       "  font-family: monospace;\n",
       "  background-color: var(--sklearn-color-background);\n",
       "  border-radius: 1rem;\n",
       "  height: 1rem;\n",
       "  width: 1rem;\n",
       "  text-decoration: none;\n",
       "  /* unfitted */\n",
       "  color: var(--sklearn-color-unfitted-level-1);\n",
       "  border: var(--sklearn-color-unfitted-level-1) 1pt solid;\n",
       "}\n",
       "\n",
       "#sk-container-id-1 a.estimator_doc_link.fitted {\n",
       "  /* fitted */\n",
       "  border: var(--sklearn-color-fitted-level-1) 1pt solid;\n",
       "  color: var(--sklearn-color-fitted-level-1);\n",
       "}\n",
       "\n",
       "/* On hover */\n",
       "#sk-container-id-1 a.estimator_doc_link:hover {\n",
       "  /* unfitted */\n",
       "  background-color: var(--sklearn-color-unfitted-level-3);\n",
       "  color: var(--sklearn-color-background);\n",
       "  text-decoration: none;\n",
       "}\n",
       "\n",
       "#sk-container-id-1 a.estimator_doc_link.fitted:hover {\n",
       "  /* fitted */\n",
       "  background-color: var(--sklearn-color-fitted-level-3);\n",
       "}\n",
       "</style><div id=\"sk-container-id-1\" class=\"sk-top-container\"><div class=\"sk-text-repr-fallback\"><pre>DecisionTreeClassifier(max_depth=5, min_samples_leaf=5, random_state=1)</pre><b>In a Jupyter environment, please rerun this cell to show the HTML representation or trust the notebook. <br />On GitHub, the HTML representation is unable to render, please try loading this page with nbviewer.org.</b></div><div class=\"sk-container\" hidden><div class=\"sk-item\"><div class=\"sk-estimator fitted sk-toggleable\"><input class=\"sk-toggleable__control sk-hidden--visually\" id=\"sk-estimator-id-1\" type=\"checkbox\" checked><label for=\"sk-estimator-id-1\" class=\"sk-toggleable__label fitted sk-toggleable__label-arrow fitted\">&nbsp;&nbsp;DecisionTreeClassifier<a class=\"sk-estimator-doc-link fitted\" rel=\"noreferrer\" target=\"_blank\" href=\"https://scikit-learn.org/1.4/modules/generated/sklearn.tree.DecisionTreeClassifier.html\">?<span>Documentation for DecisionTreeClassifier</span></a><span class=\"sk-estimator-doc-link fitted\">i<span>Fitted</span></span></label><div class=\"sk-toggleable__content fitted\"><pre>DecisionTreeClassifier(max_depth=5, min_samples_leaf=5, random_state=1)</pre></div> </div></div></div></div>"
      ],
      "text/plain": [
       "DecisionTreeClassifier(max_depth=5, min_samples_leaf=5, random_state=1)"
      ]
     },
     "execution_count": 8,
     "metadata": {},
     "output_type": "execute_result"
    }
   ],
   "source": [
    "from sklearn.tree import DecisionTreeClassifier\n",
    "\n",
    "tree = DecisionTreeClassifier(random_state=1, max_depth=5, min_samples_leaf=5)\n",
    "\n",
    "tree.fit(X_train, y_train)"
   ]
  },
  {
   "cell_type": "markdown",
   "id": "7bc94fcd-072f-4d86-8909-807ac7220c3d",
   "metadata": {},
   "source": [
    "Наши модели машинного обучения на выходе могут давать метку класса, к которому принадлежит объект через метод predict."
   ]
  },
  {
   "cell_type": "code",
   "execution_count": 9,
   "id": "d6e8ce92-8734-439d-bfa3-b7b9dbb9ba37",
   "metadata": {},
   "outputs": [
    {
     "data": {
      "text/plain": [
       "array([1, 1, 0, 0, 0, 0, 1, 1, 1])"
      ]
     },
     "execution_count": 9,
     "metadata": {},
     "output_type": "execute_result"
    }
   ],
   "source": [
    "tree.predict(X_test)"
   ]
  },
  {
   "cell_type": "markdown",
   "id": "d3511f9c-a53d-4e18-bd6b-14a13930d8cc",
   "metadata": {},
   "source": [
    "А так же вероятность принадлежности к каждому классу через метод predict_proba."
   ]
  },
  {
   "cell_type": "code",
   "execution_count": 10,
   "id": "034b3b39-7a74-460a-b2b8-bb7b9417d871",
   "metadata": {},
   "outputs": [
    {
     "data": {
      "text/plain": [
       "array([[0.1509434 , 0.8490566 ],\n",
       "       [0.03125   , 0.96875   ],\n",
       "       [1.        , 0.        ],\n",
       "       [1.        , 0.        ],\n",
       "       [1.        , 0.        ],\n",
       "       [1.        , 0.        ],\n",
       "       [0.        , 1.        ],\n",
       "       [0.03370787, 0.96629213],\n",
       "       [0.45454545, 0.54545455]])"
      ]
     },
     "execution_count": 10,
     "metadata": {},
     "output_type": "execute_result"
    }
   ],
   "source": [
    "tree.predict_proba(X_test)"
   ]
  },
  {
   "cell_type": "markdown",
   "id": "a3717ae7-f853-414c-94fa-3433c83f68f9",
   "metadata": {},
   "source": [
    "Так как классов только два, то и видим 2 столбика, 1 столбик - это вероятность того, что объект является нулевым классом, а 2 столбик - это вероятность того, что объект первый класс.   \n",
    "В сумме вероятности дают 1.   \n",
    "\n",
    "К примеру, первый объект вероятней всего будет 1 классом (85% объект может быть 1 классом, и 15% объект может быть 0 классом), а третий объект со стопроцентной уверенностью будет 0 классом (нулевая вероятность быть 1 классом, и единичная вероятность быть 0 классом)\n",
    "\n",
    "Оперируя вероятностями мы можем самостоятельно принимать решения выше или ниже какой отметки, объект становится нулевым классом или первым. По умолчанию такая отсечка равна 0.5."
   ]
  },
  {
   "cell_type": "markdown",
   "id": "394e6b99-15cb-425f-b2f3-32d39738a13f",
   "metadata": {},
   "source": [
    "Убедимся в этом. Руками поставим соответствующие классы на объекты с вероятностями, которые больше 0.5. То есть, если вероятность быть 1 классом, больше или равна 50%, то мы ставим объекту класс 1, если предсказанная вероятность быть 1 классом меньше 50%, то ставим объекту метку класса 0. Для этого мы взяли только первый столбик."
   ]
  },
  {
   "cell_type": "code",
   "execution_count": 11,
   "id": "139e58ee-e0ea-4d60-89a2-c44201237bde",
   "metadata": {},
   "outputs": [
    {
     "data": {
      "text/plain": [
       "array([[0.1509434 , 0.8490566 ],\n",
       "       [0.03125   , 0.96875   ],\n",
       "       [1.        , 0.        ],\n",
       "       [1.        , 0.        ],\n",
       "       [1.        , 0.        ],\n",
       "       [1.        , 0.        ],\n",
       "       [0.        , 1.        ],\n",
       "       [0.03370787, 0.96629213],\n",
       "       [0.45454545, 0.54545455]])"
      ]
     },
     "execution_count": 11,
     "metadata": {},
     "output_type": "execute_result"
    }
   ],
   "source": [
    "pred_proba = tree.predict_proba(X_test)\n",
    "pred_proba"
   ]
  },
  {
   "cell_type": "code",
   "execution_count": 12,
   "id": "7fe54f26-8cff-492d-9fc8-6a0c619cf2a6",
   "metadata": {},
   "outputs": [
    {
     "data": {
      "text/plain": [
       "array([1, 1, 0, 0, 0, 0, 1, 1, 1])"
      ]
     },
     "execution_count": 12,
     "metadata": {},
     "output_type": "execute_result"
    }
   ],
   "source": [
    "np.where(pred_proba[:, 1] >= 0.5, 1, 0)"
   ]
  },
  {
   "cell_type": "code",
   "execution_count": 13,
   "id": "52f246e6-7d5a-43c5-bb23-03e6d8e691ed",
   "metadata": {},
   "outputs": [
    {
     "data": {
      "text/plain": [
       "array([1, 1, 0, 0, 0, 0, 1, 1, 1])"
      ]
     },
     "execution_count": 13,
     "metadata": {},
     "output_type": "execute_result"
    }
   ],
   "source": [
    "tree.predict(X_test)"
   ]
  },
  {
   "cell_type": "markdown",
   "id": "cab156da-c549-4273-bd05-644308ff4fb9",
   "metadata": {},
   "source": [
    "Получили точно такие же предсказанные метки классов, как и были после метода predict, значит точно, по умолчанию в методах predict стоит отсечка в 0.5."
   ]
  },
  {
   "cell_type": "markdown",
   "id": "ac97ea65-d68a-4579-94f1-7b3ac72d47c7",
   "metadata": {},
   "source": [
    "## Визуализация вероятностей"
   ]
  },
  {
   "cell_type": "markdown",
   "id": "96de60c7-b3ba-480b-b560-57207c0ef550",
   "metadata": {},
   "source": [
    "Визуализируем вероятности быть 1 классом наших 9 объектов, по оси абсцисс порядковый номер объектов, а по оси ординат вероятность быть первым классом и раскрасим их в зависимости от истинной метки класса.   \n",
    "Оранжевые - объекты 0 класса, синие - объекты 1 класса.\n",
    "\n",
    "При этом есть низкой вероятностью обладают объекты как первого класса, так и нулевого."
   ]
  },
  {
   "cell_type": "code",
   "execution_count": 14,
   "id": "550dd48c-f077-448e-9b68-4f40979a80c1",
   "metadata": {},
   "outputs": [
    {
     "data": {
      "image/png": "[encoded data removed]",
      "text/plain": [
       "<Figure size 640x480 with 1 Axes>"
      ]
     },
     "metadata": {},
     "output_type": "display_data"
    }
   ],
   "source": [
    "class_1 = pred_proba[:, 1][y_test == 1]\n",
    "class_0 = pred_proba[:, 1][y_test == 0]\n",
    "\n",
    "plt.scatter(np.arange(len(class_1)), class_1, label='class_1')\n",
    "plt.scatter(np.arange(len(class_1), len(class_1)+len(class_0)), class_0, label='class_0')\n",
    "plt.title('Вероятность быть 1 классом')\n",
    "plt.legend();"
   ]
  },
  {
   "cell_type": "markdown",
   "id": "9ed43b2a-d0d4-491c-9c21-c44244a7e23a",
   "metadata": {},
   "source": [
    "### Отсечка 0.5"
   ]
  },
  {
   "cell_type": "markdown",
   "id": "f6a8ddf0-e3c4-4df4-8153-8b1675fc1418",
   "metadata": {},
   "source": [
    "Как мы с вами определились, по умолчанию отсечка равна 0.5. Отрисуем её тоже.   \n",
    "По этой отсечке, у нас пять объектов будут классифицированы, как 1 класс, т.к. у них предсказанная вероятность больше 0.5, а четыре объекта будут классифицированы как 0 класс, т.к. их предсказанные вероятности меньше 0.5.  \n",
    "При этом два объекта первого класса мы ошибочно посчитали нулевыми классами, предсказали им маленькие вероятности (0), сделали ошибки ложного пропуска False Negative.  \n",
    "И ещё есть один объект с другой ошибкой - ложного срабатывания False Positive - это объект нулевого класса, который мы ошибочно посчитали объектом первого класса, т.к. ему предсказали большую вероятность быть первым классом (0.5454)."
   ]
  },
  {
   "cell_type": "code",
   "execution_count": 15,
   "id": "2e42d03b-221f-46e8-91ef-a57a67487b77",
   "metadata": {},
   "outputs": [
    {
     "data": {
      "image/png": "[encoded data removed]",
      "text/plain": [
       "<Figure size 640x480 with 1 Axes>"
      ]
     },
     "metadata": {},
     "output_type": "display_data"
    }
   ],
   "source": [
    "threshold = 0.5\n",
    "class_1 = pred_proba[:, 1][y_test == 1]\n",
    "class_0 = pred_proba[:, 1][y_test == 0]\n",
    "\n",
    "plt.scatter(np.arange(len(class_1)), class_1, label='class_1')\n",
    "plt.scatter(np.arange(len(class_1), len(class_1)+len(class_0)), class_0, label='class_0')\n",
    "plt.plot([-0.2, len(pred_proba[:, 1])], [threshold, threshold], c='b')\n",
    "plt.title('Вероятность быть 1 классом')\n",
    "plt.legend();"
   ]
  },
  {
   "cell_type": "markdown",
   "id": "3638acc9-f0a1-4131-9807-4aa05c6d39f7",
   "metadata": {},
   "source": [
    "Можем для такого случая отрисовать матрицу ошибок, получается 2 TN, 4 TP, 1 FP и 2 FN.   \n",
    "И выведем метрики точности и полноты, они довольно неплохие, но не идеальные."
   ]
  },
  {
   "cell_type": "code",
   "execution_count": 16,
   "id": "2b8db4aa-d29e-451e-9152-1e4984458dfa",
   "metadata": {},
   "outputs": [
    {
     "name": "stdout",
     "output_type": "stream",
     "text": [
      "Precision 0.8\n",
      "Recall 0.6666666666666666\n"
     ]
    },
    {
     "data": {
      "image/png": "[encoded data removed]",
      "text/plain": [
       "<Figure size 640x480 with 2 Axes>"
      ]
     },
     "metadata": {},
     "output_type": "display_data"
    }
   ],
   "source": [
    "from sklearn.metrics import confusion_matrix, recall_score, precision_score\n",
    "\n",
    "\n",
    "pred = np.where(pred_proba[:, 1] >= threshold, 1, 0)\n",
    "\n",
    "print('Precision', precision_score(y_test, pred))\n",
    "print('Recall', recall_score(y_test, pred))\n",
    "\n",
    "cm = confusion_matrix(y_test, pred)\n",
    "f = sns.heatmap(cm, annot=True)\n",
    "plt.ylabel('Groud truth')\n",
    "plt.xlabel('Prediction');"
   ]
  },
  {
   "cell_type": "markdown",
   "id": "079f5e9b-ad80-4389-a635-567b09c770e8",
   "metadata": {},
   "source": [
    "### Отсечка 0.6"
   ]
  },
  {
   "cell_type": "markdown",
   "id": "b7dd21eb-5fb4-4016-9ebf-506f1dc11422",
   "metadata": {},
   "source": [
    "Данную отсечку можем менять, как захотим.\n",
    "\n",
    "Если мы захотим увеличить чистоту классификации, то можем поднять отсечку, к примеру, до 0.6, в этом случае наша ошибка False Positive убирается, т.к. предсказанная вероятность теперь будет меньше. А значит больше нет ошибок ложного срабатывания и precision будет равен единице."
   ]
  },
  {
   "cell_type": "code",
   "execution_count": 17,
   "id": "707c43a4-90e2-4dd6-ae51-afb7a75e4724",
   "metadata": {},
   "outputs": [
    {
     "name": "stdout",
     "output_type": "stream",
     "text": [
      "Precision 1.0\n",
      "Recall 0.6666666666666666\n"
     ]
    },
    {
     "data": {
      "image/png": "[encoded data removed]",
      "text/plain": [
       "<Figure size 640x480 with 1 Axes>"
      ]
     },
     "metadata": {},
     "output_type": "display_data"
    }
   ],
   "source": [
    "threshold = 0.6\n",
    "\n",
    "class_1 = pred_proba[:, 1][y_test == 1]\n",
    "class_0 = pred_proba[:, 1][y_test == 0]\n",
    "\n",
    "pred = np.where(pred_proba[:, 1] >= threshold, 1, 0)\n",
    "\n",
    "print('Precision', precision_score(y_test, pred))\n",
    "print('Recall', recall_score(y_test, pred))\n",
    "\n",
    "plt.scatter(np.arange(len(class_1)), class_1, label='class_1')\n",
    "plt.scatter(np.arange(len(class_1), len(class_1)+len(class_0)), class_0, label='class_0')\n",
    "plt.plot([-0.2, len(pred_proba[:, 1])], [threshold, threshold], c='b')\n",
    "plt.title('Вероятность быть 1 классом')\n",
    "plt.legend();"
   ]
  },
  {
   "cell_type": "markdown",
   "id": "66de4cd6-1457-498a-9d6f-fc3da586cea3",
   "metadata": {},
   "source": [
    "Посчитаем матрицу ошибок и видим, что больше ошибок ложного срабатывания нет. А значит точность будет идеальной.Посчитаем матрицу ошибок и видим, что больше ошибок ложного срабатывания нет. А значит точность будет идеальной."
   ]
  },
  {
   "cell_type": "code",
   "execution_count": 18,
   "id": "13dab914-3d44-49f6-b629-27ac8c3d5cd0",
   "metadata": {},
   "outputs": [
    {
     "data": {
      "image/png": "[encoded data removed]",
      "text/plain": [
       "<Figure size 640x480 with 2 Axes>"
      ]
     },
     "metadata": {},
     "output_type": "display_data"
    }
   ],
   "source": [
    "cm = confusion_matrix(y_test, pred)\n",
    "f = sns.heatmap(cm, annot=True)\n",
    "plt.ylabel('Groud truth')\n",
    "plt.xlabel('Prediction');"
   ]
  },
  {
   "cell_type": "markdown",
   "id": "e296c5d9-ef03-4e64-ac1d-ddf5b1ed638f",
   "metadata": {},
   "source": [
    "### Отсечка 0"
   ]
  },
  {
   "cell_type": "markdown",
   "id": "c32488a1-a5c8-432c-9181-33341b105600",
   "metadata": {},
   "source": [
    "И можем сделать по-другому: снизить отсечку до 0, тем самым будем классифицировать, как первый класс все объекты. А значит мы найдём все объекты первого класса. Ошибок ложного пропуска больше нет, метрика Recall будет единичная."
   ]
  },
  {
   "cell_type": "code",
   "execution_count": 19,
   "id": "4bb22bbd-f9ed-47e1-9b87-b5fd763f26c1",
   "metadata": {},
   "outputs": [
    {
     "name": "stdout",
     "output_type": "stream",
     "text": [
      "Precision 0.6666666666666666\n",
      "Recall 1.0\n"
     ]
    },
    {
     "data": {
      "image/png": "[encoded data removed]",
      "text/plain": [
       "<Figure size 640x480 with 1 Axes>"
      ]
     },
     "metadata": {},
     "output_type": "display_data"
    }
   ],
   "source": [
    "threshold = 0\n",
    "\n",
    "class_1 = pred_proba[:, 1][y_test == 1]\n",
    "class_0 = pred_proba[:, 1][y_test == 0]\n",
    "\n",
    "pred = np.where(pred_proba[:, 1] >= threshold, 1, 0)\n",
    "\n",
    "print('Precision', precision_score(y_test, pred))\n",
    "print('Recall', recall_score(y_test, pred))\n",
    "\n",
    "plt.scatter(np.arange(len(class_1)), class_1, label='class_1')\n",
    "plt.scatter(np.arange(len(class_1), len(class_1)+len(class_0)), class_0, label='class_0')\n",
    "plt.plot([-0.2, len(pred_proba[:, 1])], [threshold, threshold], c='b')\n",
    "plt.title('Вероятность быть 1 классом')\n",
    "plt.legend();"
   ]
  },
  {
   "cell_type": "markdown",
   "id": "8c4451b5-3304-4277-8bad-d88234c03c68",
   "metadata": {},
   "source": [
    "Посчитаем матрицу ошибок и теперь ошибок ложного пропуска больше нет, ровно как и нет классификаций в нулевом классе."
   ]
  },
  {
   "cell_type": "code",
   "execution_count": 20,
   "id": "679dae2d-2434-40cb-9ccf-e19898ad53af",
   "metadata": {},
   "outputs": [
    {
     "data": {
      "image/png": "[encoded data removed]",
      "text/plain": [
       "<Figure size 640x480 with 2 Axes>"
      ]
     },
     "metadata": {},
     "output_type": "display_data"
    }
   ],
   "source": [
    "cm = confusion_matrix(y_test, pred)\n",
    "f = sns.heatmap(cm, annot=True)\n",
    "plt.ylabel('Groud truth')\n",
    "plt.xlabel('Prediction');"
   ]
  },
  {
   "cell_type": "markdown",
   "id": "b8093572-788d-4d9b-9b3b-85501842190b",
   "metadata": {},
   "source": [
    "## PR-кривая (PR-curve)"
   ]
  },
  {
   "cell_type": "markdown",
   "id": "10b909d9-2ef9-42e8-8b25-9aa300e9a038",
   "metadata": {},
   "source": [
    "На этих разных отсечках и строится метрика PR-кривая и PR-AUC. Из себя она представляет кривую, состоящую из точек с разными отсечками.  \n",
    "Ниже пример PR-кривой на обучающей выборке. Для неё выбираются разные отсечки и считаются метрики precision и recall, далее откладываются точки. Прямая начинается с точки (0, 1), где нулевой recall и где единичный precision.\n",
    "\n",
    "В идеале, когда PR-кривая проходит через точку (1, 1), где одновременно идеальный recall и такой же precision, но на реальных данных такого не встретишь, только на синтетических искусственных выборках."
   ]
  },
  {
   "cell_type": "code",
   "execution_count": 42,
   "id": "54ac7937-1477-459c-9e2b-7202bf2b8c2b",
   "metadata": {},
   "outputs": [
    {
     "data": {
      "image/png": "[encoded data removed]",
      "text/plain": [
       "<Figure size 640x480 with 1 Axes>"
      ]
     },
     "metadata": {},
     "output_type": "display_data"
    }
   ],
   "source": [
    "from sklearn.metrics import PrecisionRecallDisplay\n",
    "\n",
    "# обучающая выборка\n",
    "PrecisionRecallDisplay.from_estimator(tree, X_train, y_train)\n",
    "plt.show()"
   ]
  },
  {
   "cell_type": "code",
   "execution_count": 41,
   "id": "3c5d78b3-1dd2-4426-9e68-8ce117d9143a",
   "metadata": {},
   "outputs": [
    {
     "data": {
      "image/png": "[encoded data removed]",
      "text/plain": [
       "<Figure size 640x480 with 1 Axes>"
      ]
     },
     "metadata": {},
     "output_type": "display_data"
    }
   ],
   "source": [
    "# тестовая выборка\n",
    "PrecisionRecallDisplay.from_estimator(tree, X_test, y_test)\n",
    "plt.show()"
   ]
  },
  {
   "cell_type": "markdown",
   "id": "961ce718-30eb-4fc5-9439-74ca71b8e65b",
   "metadata": {},
   "source": [
    "## PR-AUC"
   ]
  },
  {
   "cell_type": "markdown",
   "id": "2dcac6af-e936-4840-8de1-398b4b58471c",
   "metadata": {},
   "source": [
    "Так же мы можем узнать площадь под данными кривыми, результаты тоже будет одинаковыми.  \n",
    "В данным случае считаем площадь через функцию `auc` (area under curve) из `sklearn`.\n",
    "\n",
    "Получаем одинаковые метрики PR-AUC по нашей задаче."
   ]
  },
  {
   "cell_type": "code",
   "execution_count": 38,
   "id": "d7c773c9-a5c5-4a03-b54b-deb213fd5ec5",
   "metadata": {},
   "outputs": [],
   "source": [
    "from sklearn.metrics import precision_recall_curve\n",
    "\n",
    "# обучабщая выборка\n",
    "pred_proba = tree.predict_proba(X_train)\n",
    "prc, recs, _ = precision_recall_curve(y_train, pred_proba[:, 1])"
   ]
  },
  {
   "cell_type": "code",
   "execution_count": 39,
   "id": "ed7cb199-6dd1-47bf-adeb-3f3db4fca78d",
   "metadata": {},
   "outputs": [
    {
     "data": {
      "text/plain": [
       "0.9807480243162616"
      ]
     },
     "execution_count": 39,
     "metadata": {},
     "output_type": "execute_result"
    }
   ],
   "source": [
    "from sklearn.metrics import auc\n",
    "\n",
    "auc(recs, prc)"
   ]
  },
  {
   "cell_type": "code",
   "execution_count": 40,
   "id": "62eb9761-fb6d-4efe-b038-441a419021c8",
   "metadata": {},
   "outputs": [
    {
     "data": {
      "text/plain": [
       "0.911111111111111"
      ]
     },
     "execution_count": 40,
     "metadata": {},
     "output_type": "execute_result"
    }
   ],
   "source": [
    "# тестовая выборка\n",
    "pred_proba = tree.predict_proba(X_test)\n",
    "prc, recs, _ = precision_recall_curve(y_test, pred_proba[:, 1])\n",
    "auc(recs, prc)"
   ]
  },
  {
   "cell_type": "code",
   "execution_count": 22,
   "id": "42740854-3711-4f3d-a055-557a25bf9992",
   "metadata": {},
   "outputs": [],
   "source": [
    "# from sklearn.metrics import precision_recall_curve\n",
    "\n",
    "# precision_recall_curve(tree, X_train, y_train)\n",
    "# plt.ylim([0, 1.1]);"
   ]
  },
  {
   "cell_type": "code",
   "execution_count": null,
   "id": "9b9e1210-5690-4006-89f9-38d28f1788a2",
   "metadata": {},
   "outputs": [],
   "source": []
  },
  {
   "cell_type": "code",
   "execution_count": 24,
   "id": "5f3b7580-421a-4dd9-af22-284e5c3a74d0",
   "metadata": {},
   "outputs": [
    {
     "data": {
      "text/plain": [
       "68     1\n",
       "70     0\n",
       "396    1\n",
       "471    1\n",
       "427    1\n",
       "      ..\n",
       "456    1\n",
       "360    1\n",
       "439    1\n",
       "174    1\n",
       "122    0\n",
       "Length: 560, dtype: int64"
      ]
     },
     "execution_count": 24,
     "metadata": {},
     "output_type": "execute_result"
    }
   ],
   "source": [
    "y_train"
   ]
  },
  {
   "cell_type": "code",
   "execution_count": 25,
   "id": "5dfbb188-5056-4725-afd2-27874311c6a7",
   "metadata": {},
   "outputs": [
    {
     "data": {
      "text/plain": [
       "(560,)"
      ]
     },
     "execution_count": 25,
     "metadata": {},
     "output_type": "execute_result"
    }
   ],
   "source": [
    "tree.predict(X_train).shape"
   ]
  },
  {
   "cell_type": "markdown",
   "id": "7d716a21-6ea3-426f-8106-07865a6b5ce7",
   "metadata": {},
   "source": [
    "Давайте посчитаем PR-кривую на тестовой выборке самостоятельно.\n",
    "\n",
    "Объединим предсказанные вероятности быть первым классом и истинные целевые значения в датафрейм и отсортируем по пробе, вначале маленькие вероятности, затем большие."
   ]
  },
  {
   "cell_type": "code",
   "execution_count": 26,
   "id": "9c9145fb-4660-4fcb-ad16-9674f928232e",
   "metadata": {},
   "outputs": [
    {
     "data": {
      "text/html": [
       "<div>\n",
       "<style scoped>\n",
       "    .dataframe tbody tr th:only-of-type {\n",
       "        vertical-align: middle;\n",
       "    }\n",
       "\n",
       "    .dataframe tbody tr th {\n",
       "        vertical-align: top;\n",
       "    }\n",
       "\n",
       "    .dataframe thead th {\n",
       "        text-align: right;\n",
       "    }\n",
       "</style>\n",
       "<table border=\"1\" class=\"dataframe\">\n",
       "  <thead>\n",
       "    <tr style=\"text-align: right;\">\n",
       "      <th></th>\n",
       "      <th>proba</th>\n",
       "      <th>label</th>\n",
       "    </tr>\n",
       "  </thead>\n",
       "  <tbody>\n",
       "    <tr>\n",
       "      <th>300</th>\n",
       "      <td>0.000000</td>\n",
       "      <td>0</td>\n",
       "    </tr>\n",
       "    <tr>\n",
       "      <th>262</th>\n",
       "      <td>0.000000</td>\n",
       "      <td>0</td>\n",
       "    </tr>\n",
       "    <tr>\n",
       "      <th>363</th>\n",
       "      <td>0.000000</td>\n",
       "      <td>1</td>\n",
       "    </tr>\n",
       "    <tr>\n",
       "      <th>157</th>\n",
       "      <td>0.000000</td>\n",
       "      <td>1</td>\n",
       "    </tr>\n",
       "    <tr>\n",
       "      <th>99</th>\n",
       "      <td>0.545455</td>\n",
       "      <td>0</td>\n",
       "    </tr>\n",
       "    <tr>\n",
       "      <th>340</th>\n",
       "      <td>0.849057</td>\n",
       "      <td>1</td>\n",
       "    </tr>\n",
       "    <tr>\n",
       "      <th>139</th>\n",
       "      <td>0.966292</td>\n",
       "      <td>1</td>\n",
       "    </tr>\n",
       "    <tr>\n",
       "      <th>382</th>\n",
       "      <td>0.968750</td>\n",
       "      <td>1</td>\n",
       "    </tr>\n",
       "    <tr>\n",
       "      <th>120</th>\n",
       "      <td>1.000000</td>\n",
       "      <td>1</td>\n",
       "    </tr>\n",
       "  </tbody>\n",
       "</table>\n",
       "</div>"
      ],
      "text/plain": [
       "        proba  label\n",
       "300  0.000000      0\n",
       "262  0.000000      0\n",
       "363  0.000000      1\n",
       "157  0.000000      1\n",
       "99   0.545455      0\n",
       "340  0.849057      1\n",
       "139  0.966292      1\n",
       "382  0.968750      1\n",
       "120  1.000000      1"
      ]
     },
     "execution_count": 26,
     "metadata": {},
     "output_type": "execute_result"
    }
   ],
   "source": [
    "df_pred = pd.DataFrame({\n",
    "    'proba': pred_proba[:, 1],\n",
    "    'label': y_test\n",
    "})\n",
    "\n",
    "df_pred = df_pred.sort_values(by='proba')\n",
    "df_pred"
   ]
  },
  {
   "cell_type": "markdown",
   "id": "a57fcb7d-2b16-4823-9815-c7d7a62a2bc5",
   "metadata": {},
   "source": [
    "В идеале должна существовать такая отсечка, выше которой находятся объекты только первого класса, а ниже находятся объекты нулевого класса, но в нашей задаче с такими предсказаниями не так, у нас такую границу провести не получится, всё равно будут либо ошибки ложного пропуска (FN), если поставим отсечку в 0.6, либо ошибки ложного срабатывания (FP), если поставим отсечку в 0."
   ]
  },
  {
   "cell_type": "markdown",
   "id": "cae6faea-566d-49b3-99eb-bf00b68c5ccc",
   "metadata": {},
   "source": [
    "### Отсечка 1"
   ]
  },
  {
   "cell_type": "markdown",
   "id": "d3310454-eb3e-4813-839d-f62599858da6",
   "metadata": {},
   "source": [
    "Все-таки переходим к построению PR-кривой и начнем с подсчета удачности метрик при самой высокой отсечке равной 1.  \n",
    "В этом случае у нас 8 из 9 объектов будут классифицированы, как нулевой класс, т.к. у них у всех предсказанная вероятность меньше 1 и только один объект с пробой в 1, будет отнесен моделью к первому классу."
   ]
  },
  {
   "cell_type": "code",
   "execution_count": 27,
   "id": "9f84fd6c-efd9-4256-9b5c-94dcec483801",
   "metadata": {},
   "outputs": [
    {
     "data": {
      "text/html": [
       "<div>\n",
       "<style scoped>\n",
       "    .dataframe tbody tr th:only-of-type {\n",
       "        vertical-align: middle;\n",
       "    }\n",
       "\n",
       "    .dataframe tbody tr th {\n",
       "        vertical-align: top;\n",
       "    }\n",
       "\n",
       "    .dataframe thead th {\n",
       "        text-align: right;\n",
       "    }\n",
       "</style>\n",
       "<table border=\"1\" class=\"dataframe\">\n",
       "  <thead>\n",
       "    <tr style=\"text-align: right;\">\n",
       "      <th></th>\n",
       "      <th>proba</th>\n",
       "      <th>label</th>\n",
       "      <th>pred_label</th>\n",
       "    </tr>\n",
       "  </thead>\n",
       "  <tbody>\n",
       "    <tr>\n",
       "      <th>300</th>\n",
       "      <td>0.000000</td>\n",
       "      <td>0</td>\n",
       "      <td>0</td>\n",
       "    </tr>\n",
       "    <tr>\n",
       "      <th>262</th>\n",
       "      <td>0.000000</td>\n",
       "      <td>0</td>\n",
       "      <td>0</td>\n",
       "    </tr>\n",
       "    <tr>\n",
       "      <th>363</th>\n",
       "      <td>0.000000</td>\n",
       "      <td>1</td>\n",
       "      <td>0</td>\n",
       "    </tr>\n",
       "    <tr>\n",
       "      <th>157</th>\n",
       "      <td>0.000000</td>\n",
       "      <td>1</td>\n",
       "      <td>0</td>\n",
       "    </tr>\n",
       "    <tr>\n",
       "      <th>99</th>\n",
       "      <td>0.545455</td>\n",
       "      <td>0</td>\n",
       "      <td>0</td>\n",
       "    </tr>\n",
       "    <tr>\n",
       "      <th>340</th>\n",
       "      <td>0.849057</td>\n",
       "      <td>1</td>\n",
       "      <td>0</td>\n",
       "    </tr>\n",
       "    <tr>\n",
       "      <th>139</th>\n",
       "      <td>0.966292</td>\n",
       "      <td>1</td>\n",
       "      <td>0</td>\n",
       "    </tr>\n",
       "    <tr>\n",
       "      <th>382</th>\n",
       "      <td>0.968750</td>\n",
       "      <td>1</td>\n",
       "      <td>0</td>\n",
       "    </tr>\n",
       "    <tr>\n",
       "      <th>120</th>\n",
       "      <td>1.000000</td>\n",
       "      <td>1</td>\n",
       "      <td>1</td>\n",
       "    </tr>\n",
       "  </tbody>\n",
       "</table>\n",
       "</div>"
      ],
      "text/plain": [
       "        proba  label  pred_label\n",
       "300  0.000000      0           0\n",
       "262  0.000000      0           0\n",
       "363  0.000000      1           0\n",
       "157  0.000000      1           0\n",
       "99   0.545455      0           0\n",
       "340  0.849057      1           0\n",
       "139  0.966292      1           0\n",
       "382  0.968750      1           0\n",
       "120  1.000000      1           1"
      ]
     },
     "execution_count": 27,
     "metadata": {},
     "output_type": "execute_result"
    }
   ],
   "source": [
    "threshold = 1\n",
    "df_pred['pred_label'] = (df_pred['proba'] >= threshold).astype('int')\n",
    "\n",
    "df_pred"
   ]
  },
  {
   "cell_type": "markdown",
   "id": "07c3cd8c-1c27-4c56-906b-a77d13b7ec19",
   "metadata": {},
   "source": [
    "Получаем, что у нас одна классификация и она верная, то \n",
    "есть $\\text{precision} = \\frac{TP}{TP + FP} = \\frac{1}{1 + 0} = 1$\n",
    "\n",
    "В свою очередь recall будет равен $\\frac{TP}{TP + FN} = \\frac{1}{1 + 5} = 0.167$, потому что нашли только одну единицу из 6 возможных."
   ]
  },
  {
   "cell_type": "code",
   "execution_count": 28,
   "id": "31975947-e043-4f37-a8be-7726fa5c12a7",
   "metadata": {},
   "outputs": [
    {
     "name": "stdout",
     "output_type": "stream",
     "text": [
      "Precision 1.0\n",
      "Recall 0.16666666666666666\n"
     ]
    },
    {
     "data": {
      "image/png": "[encoded data removed]",
      "text/plain": [
       "<Figure size 640x480 with 1 Axes>"
      ]
     },
     "metadata": {},
     "output_type": "display_data"
    }
   ],
   "source": [
    "class_1 = df_pred[df_pred.label == 1]\n",
    "class_0 = df_pred[df_pred.label == 0]\n",
    "\n",
    "pred = df_pred['pred_label']\n",
    "\n",
    "precision = precision_score(df_pred['label'], pred)\n",
    "recall = recall_score(df_pred['label'], pred)\n",
    "print('Precision', precision)\n",
    "print('Recall', recall)\n",
    "\n",
    "plt.scatter(np.arange(len(class_1)), class_1['proba'], label='class_1')\n",
    "plt.scatter(np.arange(len(class_1), len(class_1)+len(class_0)), class_0['proba'], label='class_0')\n",
    "plt.plot([-0.2, len(df_pred)], [threshold, threshold], c='b')\n",
    "plt.title('Вероятность быть 1 классом')\n",
    "plt.legend();"
   ]
  },
  {
   "cell_type": "markdown",
   "id": "5950dc2a-51c4-447f-9af7-b0627e915f50",
   "metadata": {},
   "source": [
    "Эти значения полноты и точности дают нам первую точку - (0.167, 1)."
   ]
  },
  {
   "cell_type": "code",
   "execution_count": 29,
   "id": "5ca50b2d-6599-489c-966d-572555042edb",
   "metadata": {},
   "outputs": [],
   "source": [
    "recalls = [0]\n",
    "precisions = [1]"
   ]
  },
  {
   "cell_type": "code",
   "execution_count": 30,
   "id": "1b69ddd1-65b9-482e-a495-c305693da22d",
   "metadata": {},
   "outputs": [
    {
     "data": {
      "image/png": "[encoded data removed]",
      "text/plain": [
       "<Figure size 640x480 with 1 Axes>"
      ]
     },
     "metadata": {},
     "output_type": "display_data"
    }
   ],
   "source": [
    "recalls.append(recall)\n",
    "precisions.append(precision)\n",
    "\n",
    "plt.plot(recalls, precisions, marker='o')\n",
    "plt.ylim([0, 1.1]);plt.xlim([0, 1.1])\n",
    "plt.xlabel('Recall');plt.ylabel('Precision')\n",
    "plt.title('PR_curve');"
   ]
  },
  {
   "cell_type": "code",
   "execution_count": null,
   "id": "657d1db5-9149-4a35-8463-89e77a1fba6b",
   "metadata": {},
   "outputs": [],
   "source": []
  }
 ],
 "metadata": {
  "kernelspec": {
   "display_name": "Python 3 (ipykernel)",
   "language": "python",
   "name": "python3"
  },
  "language_info": {
   "codemirror_mode": {
    "name": "ipython",
    "version": 3
   },
   "file_extension": ".py",
   "mimetype": "text/x-python",
   "name": "python",
   "nbconvert_exporter": "python",
   "pygments_lexer": "ipython3",
   "version": "3.11.7"
  }
 },
 "nbformat": 4,
 "nbformat_minor": 5
}
