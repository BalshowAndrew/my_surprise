{
 "cells": [
  {
   "cell_type": "markdown",
   "id": "781f539b-ca85-4871-9d8a-bfd2bccfbe3e",
   "metadata": {},
   "source": [
    "# Кодирование алгоритма логистической регрессии"
   ]
  },
  {
   "cell_type": "markdown",
   "id": "a2251d4b-1c3a-4691-b53f-71291fce0804",
   "metadata": {},
   "source": [
    "## Serrano"
   ]
  },
  {
   "cell_type": "code",
   "execution_count": 1,
   "id": "38c385f7-eaff-49cb-acff-5affa082fd00",
   "metadata": {},
   "outputs": [],
   "source": [
    "import numpy as np\n",
    "import random\n",
    "from matplotlib import pyplot as plt\n",
    "import utils"
   ]
  },
  {
   "cell_type": "code",
   "execution_count": 2,
   "id": "7414df8c-9233-4de8-a108-b0b8b03dc41e",
   "metadata": {},
   "outputs": [],
   "source": [
    "features = np.array([[1,0], [0,2], [1,1], [1,2], [1,3], [2,2], [3,2], [2,3]])\n",
    "labels = np.array([0,0,0,0,1,1,1,1])"
   ]
  },
  {
   "cell_type": "code",
   "execution_count": 3,
   "id": "afe042bc-c86f-450b-aaf3-285947018aaa",
   "metadata": {},
   "outputs": [],
   "source": [
    "# features = np.array([[1,0,1], [0,2,1], [1,1,0], [1,2,3], [1,3,2], [2,2,2], [2,3,1], [3,2,3]])\n",
    "# labels = np.array([0,0,0,0,1,1,1,1])"
   ]
  },
  {
   "cell_type": "code",
   "execution_count": 4,
   "id": "5009ceba-c795-4957-b663-f8d655296d3d",
   "metadata": {},
   "outputs": [
    {
     "data": {
      "text/plain": [
       "8"
      ]
     },
     "execution_count": 4,
     "metadata": {},
     "output_type": "execute_result"
    }
   ],
   "source": [
    "len(features)"
   ]
  },
  {
   "cell_type": "code",
   "execution_count": 5,
   "id": "48bb7ad8-ec93-4769-ae37-ededfd206f6f",
   "metadata": {},
   "outputs": [],
   "source": [
    "# сигмоидная функция\n",
    "def sigmoid(x):\n",
    "    return np.exp(x) / (1 + np.exp(x))"
   ]
  },
  {
   "cell_type": "code",
   "execution_count": 6,
   "id": "a5b74638-4ba0-46d7-987b-626c4d844f3c",
   "metadata": {},
   "outputs": [],
   "source": [
    "# функция оценки\n",
    "def score(weights, bias, features):\n",
    "    \"\"\"\n",
    "    Функция оценки\n",
    "    Параметры: weights - веса, bias - смещение, features - признаки\n",
    "    \"\"\"\n",
    "    return np.dot(weights, features) + bias"
   ]
  },
  {
   "cell_type": "code",
   "execution_count": 7,
   "id": "8bc8e9de-25a6-46ef-b0b2-030a36c2a3ec",
   "metadata": {},
   "outputs": [],
   "source": [
    "# прогноз\n",
    "def prediction(weights, bias, features):\n",
    "    \"\"\"\n",
    "    Функция прогноза - это сигмоидная функция активации, применяемая к оценке.\n",
    "    Параметры: weights - веса, bias - смещение, features - признаки\n",
    "    \"\"\"\n",
    "    return sigmoid(score(weights, bias, features))"
   ]
  },
  {
   "cell_type": "markdown",
   "id": "43013492-7e3e-4a9a-ad7b-a038e613124b",
   "metadata": {},
   "source": [
    "Переходим к logloss -функции"
   ]
  },
  {
   "cell_type": "code",
   "execution_count": 8,
   "id": "bdd9c21f-929b-454f-9030-03e9a2c20198",
   "metadata": {},
   "outputs": [],
   "source": [
    "# логарифмическая потеря для одной записи\n",
    "def log_loss(weights, bias, features, label):\n",
    "    pred = 1.0*prediction(weights, bias, features)\n",
    "    return -label * np.log(pred) - (1 - label) * np.log(1 - pred)"
   ]
  },
  {
   "cell_type": "code",
   "execution_count": 9,
   "id": "95b8119f-ac49-4921-97fa-91e942c85873",
   "metadata": {},
   "outputs": [],
   "source": [
    "# логарифмическая потеря по всему набору данных\n",
    "def total_log_loss(weights, bias, features, labels):\n",
    "    total_error = 0\n",
    "    for i in range(len(features)):\n",
    "        total_error += log_loss(weights, bias, features[i], labels[i])\n",
    "    return total_error"
   ]
  },
  {
   "cell_type": "markdown",
   "id": "29799fd7-ff3a-41e9-93bb-15d032acd433",
   "metadata": {},
   "source": [
    "Кодируем алгоритм логистической регрессии"
   ]
  },
  {
   "cell_type": "code",
   "execution_count": 10,
   "id": "10327aa6-84fd-44ca-82d7-f5907265a9ca",
   "metadata": {},
   "outputs": [],
   "source": [
    "# функция изменения весов и смещения\n",
    "def logistic_trick(weights, bias, features, label, learning_rate=0.01):\n",
    "    pred = prediction(weights, bias, features)\n",
    "    for i in range(len(weights)):\n",
    "        weights[i] += (label - pred) * features[i] * learning_rate\n",
    "        bias += (label - pred) * learning_rate\n",
    "    return weights, bias"
   ]
  },
  {
   "cell_type": "code",
   "execution_count": 11,
   "id": "8bda7def-8d5e-4914-afd8-1bc0087a9cf5",
   "metadata": {},
   "outputs": [],
   "source": [
    "# Функция алгоритма логистической регрессии\n",
    "def logistic_regression_algorithm(features, labels, learning_rate=0.01, epochs=1000):\n",
    "    # utils.plot_points(features, labels)\n",
    "    weights = [1.0 for i in range(len(features[0]))]\n",
    "    bias = 0.0\n",
    "    errors = []\n",
    "    for i in range(epochs):\n",
    "        # utils.draw_line(weights[0], weights[1], bias, color='grey', linewidth=0.1, linestyle='dotted')\n",
    "        errors.append(total_log_loss(weights, bias, features, labels))\n",
    "        j = random.randint(0, len(features) - 1)\n",
    "        weights, bias = logistic_trick(weights, bias, features[j], labels[j])\n",
    "    # utils.draw_line(weights[0], weights[1], bias)\n",
    "    # plt.show()\n",
    "    plt.scatter(range(epochs), errors)\n",
    "    plt.xlabel('epochs')\n",
    "    plt.ylabel('error')\n",
    "    print(errors[-1])\n",
    "    return weights, bias\n",
    "        \n",
    "        "
   ]
  },
  {
   "cell_type": "markdown",
   "id": "fc730a83-cd7a-4a17-bd81-231cab777e58",
   "metadata": {},
   "source": [
    "Запускаем алгоримт логистической регрессии"
   ]
  },
  {
   "cell_type": "code",
   "execution_count": 12,
   "id": "3d294db0-d2b5-4125-8f27-30bafaafe634",
   "metadata": {},
   "outputs": [
    {
     "name": "stdout",
     "output_type": "stream",
     "text": [
      "2.641123374558737\n"
     ]
    },
    {
     "data": {
      "text/plain": [
       "([1.089626975418816, 0.7356997089603051], -2.351993349017207)"
      ]
     },
     "execution_count": 12,
     "metadata": {},
     "output_type": "execute_result"
    },
    {
     "data": {
      "image/png": "[encoded data removed]",
      "text/plain": [
       "<Figure size 640x480 with 1 Axes>"
      ]
     },
     "metadata": {},
     "output_type": "display_data"
    }
   ],
   "source": [
    "logistic_regression_algorithm(features, labels)"
   ]
  },
  {
   "cell_type": "markdown",
   "id": "8b2cf07b-f269-4f31-8ee5-ea9e49f9983a",
   "metadata": {},
   "source": [
    "## Юлия Пономарева"
   ]
  },
  {
   "cell_type": "code",
   "execution_count": 13,
   "id": "66af624c-4126-4776-bcb7-61e3f7d91fef",
   "metadata": {},
   "outputs": [],
   "source": [
    "X = np.array([[1,0], [0,2], [1,1], [1,2], [1,3], [2,2], [3,2], [2,3]])\n",
    "y = np.array([0,0,0,0,1,1,1,1])"
   ]
  },
  {
   "cell_type": "code",
   "execution_count": 14,
   "id": "b062344b-1e24-4afb-bdac-bf6333474975",
   "metadata": {},
   "outputs": [],
   "source": [
    "# X = np.array([[1,0,1], [0,2,1], [1,1,0], [1,2,3], [1,3,2], [2,2,2], [2,3,1], [3,2,3]])\n",
    "# y = np.array([0,0,0,0,1,1,1,1])"
   ]
  },
  {
   "cell_type": "code",
   "execution_count": 15,
   "id": "0e94af0b-624d-41f7-b76b-1fcd6271e78d",
   "metadata": {},
   "outputs": [],
   "source": [
    "X = np.c_[np.ones((len(X),1)), X]"
   ]
  },
  {
   "cell_type": "code",
   "execution_count": 16,
   "id": "4d99d271-96a3-4d0a-97cd-2f66ea77558b",
   "metadata": {},
   "outputs": [
    {
     "data": {
      "text/plain": [
       "array([[1., 1., 0.],\n",
       "       [1., 0., 2.],\n",
       "       [1., 1., 1.],\n",
       "       [1., 1., 2.],\n",
       "       [1., 1., 3.],\n",
       "       [1., 2., 2.],\n",
       "       [1., 3., 2.],\n",
       "       [1., 2., 3.]])"
      ]
     },
     "execution_count": 16,
     "metadata": {},
     "output_type": "execute_result"
    }
   ],
   "source": [
    "X"
   ]
  },
  {
   "cell_type": "code",
   "execution_count": 17,
   "id": "24f8ebca-5ae5-4e29-8ecb-2b391e2dea14",
   "metadata": {},
   "outputs": [],
   "source": [
    "def sigmoid(x):\n",
    "    return 1 / (1 + np.exp(-x))\n",
    "\n",
    "\n",
    "def logloss(y, y_proba):\n",
    "    logloss_1 = np.sum(np.log(y_proba[y == 1] + 1e-30))\n",
    "    logloss_0 = np.sum(np.log(1 - y_proba[y == 0] + 1e-30))\n",
    "    logloss_total = - (logloss_0 + logloss_1) / len(y)\n",
    "    return logloss_total\n",
    "\n",
    "\n",
    "def gr_logloss(X, W, y):\n",
    "    y_proba = sigmoid(X @ W)\n",
    "    grad = X.T @ (y_proba - y)\n",
    "    return grad"
   ]
  },
  {
   "cell_type": "code",
   "execution_count": 25,
   "id": "e3a365e1-543e-4045-bf61-bc0285ad48ad",
   "metadata": {},
   "outputs": [
    {
     "name": "stdout",
     "output_type": "stream",
     "text": [
      "Итерация: 0\n",
      "Logloss 0.8228996923503255\n",
      "Accuracy 0.375\n",
      "[1 0 0 0 0 0 0 0]\n",
      "-------------------------------------------\n",
      "Итерация: 80\n",
      "Logloss 0.6206200804205448\n",
      "Accuracy 0.5\n",
      "[1 1 1 1 1 1 1 1]\n",
      "-------------------------------------------\n",
      "Итерация: 160\n",
      "Logloss 0.7445673498473346\n",
      "Accuracy 0.5\n",
      "[1 1 1 1 1 1 1 1]\n",
      "-------------------------------------------\n",
      "Итерация: 240\n",
      "Logloss 1.0177772666502813\n",
      "Accuracy 0.5\n",
      "[1 1 1 1 1 1 1 1]\n",
      "-------------------------------------------\n"
     ]
    }
   ],
   "source": [
    "# Установка минимального значения, на которое должны изменяться веса:\n",
    "eps = 0.0001\n",
    "\n",
    "# Первоначальная точка:\n",
    "np.random.seed(9)\n",
    "W = np.random.randn(X.shape[1])\n",
    "\n",
    "# Размер шага:\n",
    "learning_rate = 0.001\n",
    "\n",
    "next_W = W\n",
    "\n",
    "# Количество итераций:\n",
    "n = 250\n",
    "\n",
    "for i in range(n):\n",
    "    cur_W = next_W\n",
    "    # движение в негативную сторону вычисляемого градиента\n",
    "    next_W = cur_W - learning_rate * gr_logloss(X, W, y)\n",
    "    # остановка когда достигнута необходимая степень точности\n",
    "    if np.linalg.norm(cur_W - next_W) <= eps:\n",
    "        break\n",
    "\n",
    "    if i % 80 == 0:\n",
    "        print(f\"Итерация: {i}\")\n",
    "        y_proba = sigmoid(X @ next_W)\n",
    "        y_class = np.where(y_proba >= 0.5, 1, 0)\n",
    "        accuracy = (y_class == y).sum() / len(y)\n",
    "        print(f\"Logloss {logloss(y, y_proba)}\")\n",
    "        print(f\"Accuracy {accuracy}\")\n",
    "        print(y_class)\n",
    "        print('-------------------------------------------')"
   ]
  },
  {
   "cell_type": "markdown",
   "id": "730485b4-34fe-41ee-820a-3cd3bad16cf3",
   "metadata": {},
   "source": [
    "## Skalearn model"
   ]
  },
  {
   "cell_type": "code",
   "execution_count": 26,
   "id": "8a6f8bdb-331e-4f22-a0a1-11b25c16625a",
   "metadata": {},
   "outputs": [],
   "source": [
    "X = np.array([[1,0], [0,2], [1,1], [1,2], [1,3], [2,2], [3,2], [2,3]])\n",
    "y = np.array([0,0,0,0,1,1,1,1])"
   ]
  },
  {
   "cell_type": "code",
   "execution_count": 27,
   "id": "81b2c2cd-f24d-4d9a-a792-a0ef9f1121c2",
   "metadata": {},
   "outputs": [],
   "source": [
    "from sklearn.linear_model import LogisticRegression"
   ]
  },
  {
   "cell_type": "code",
   "execution_count": 28,
   "id": "0119879b-91db-450a-9274-477c3f5e4b61",
   "metadata": {},
   "outputs": [
    {
     "data": {
      "text/html": [
       "<style>#sk-container-id-2 {\n",
       "  /* Definition of color scheme common for light and dark mode */\n",
       "  --sklearn-color-text: black;\n",
       "  --sklearn-color-line: gray;\n",
       "  /* Definition of color scheme for unfitted estimators */\n",
       "  --sklearn-color-unfitted-level-0: #fff5e6;\n",
       "  --sklearn-color-unfitted-level-1: #f6e4d2;\n",
       "  --sklearn-color-unfitted-level-2: #ffe0b3;\n",
       "  --sklearn-color-unfitted-level-3: chocolate;\n",
       "  /* Definition of color scheme for fitted estimators */\n",
       "  --sklearn-color-fitted-level-0: #f0f8ff;\n",
       "  --sklearn-color-fitted-level-1: #d4ebff;\n",
       "  --sklearn-color-fitted-level-2: #b3dbfd;\n",
       "  --sklearn-color-fitted-level-3: cornflowerblue;\n",
       "\n",
       "  /* Specific color for light theme */\n",
       "  --sklearn-color-text-on-default-background: var(--sg-text-color, var(--theme-code-foreground, var(--jp-content-font-color1, black)));\n",
       "  --sklearn-color-background: var(--sg-background-color, var(--theme-background, var(--jp-layout-color0, white)));\n",
       "  --sklearn-color-border-box: var(--sg-text-color, var(--theme-code-foreground, var(--jp-content-font-color1, black)));\n",
       "  --sklearn-color-icon: #696969;\n",
       "\n",
       "  @media (prefers-color-scheme: dark) {\n",
       "    /* Redefinition of color scheme for dark theme */\n",
       "    --sklearn-color-text-on-default-background: var(--sg-text-color, var(--theme-code-foreground, var(--jp-content-font-color1, white)));\n",
       "    --sklearn-color-background: var(--sg-background-color, var(--theme-background, var(--jp-layout-color0, #111)));\n",
       "    --sklearn-color-border-box: var(--sg-text-color, var(--theme-code-foreground, var(--jp-content-font-color1, white)));\n",
       "    --sklearn-color-icon: #878787;\n",
       "  }\n",
       "}\n",
       "\n",
       "#sk-container-id-2 {\n",
       "  color: var(--sklearn-color-text);\n",
       "}\n",
       "\n",
       "#sk-container-id-2 pre {\n",
       "  padding: 0;\n",
       "}\n",
       "\n",
       "#sk-container-id-2 input.sk-hidden--visually {\n",
       "  border: 0;\n",
       "  clip: rect(1px 1px 1px 1px);\n",
       "  clip: rect(1px, 1px, 1px, 1px);\n",
       "  height: 1px;\n",
       "  margin: -1px;\n",
       "  overflow: hidden;\n",
       "  padding: 0;\n",
       "  position: absolute;\n",
       "  width: 1px;\n",
       "}\n",
       "\n",
       "#sk-container-id-2 div.sk-dashed-wrapped {\n",
       "  border: 1px dashed var(--sklearn-color-line);\n",
       "  margin: 0 0.4em 0.5em 0.4em;\n",
       "  box-sizing: border-box;\n",
       "  padding-bottom: 0.4em;\n",
       "  background-color: var(--sklearn-color-background);\n",
       "}\n",
       "\n",
       "#sk-container-id-2 div.sk-container {\n",
       "  /* jupyter's `normalize.less` sets `[hidden] { display: none; }`\n",
       "     but bootstrap.min.css set `[hidden] { display: none !important; }`\n",
       "     so we also need the `!important` here to be able to override the\n",
       "     default hidden behavior on the sphinx rendered scikit-learn.org.\n",
       "     See: https://github.com/scikit-learn/scikit-learn/issues/21755 */\n",
       "  display: inline-block !important;\n",
       "  position: relative;\n",
       "}\n",
       "\n",
       "#sk-container-id-2 div.sk-text-repr-fallback {\n",
       "  display: none;\n",
       "}\n",
       "\n",
       "div.sk-parallel-item,\n",
       "div.sk-serial,\n",
       "div.sk-item {\n",
       "  /* draw centered vertical line to link estimators */\n",
       "  background-image: linear-gradient(var(--sklearn-color-text-on-default-background), var(--sklearn-color-text-on-default-background));\n",
       "  background-size: 2px 100%;\n",
       "  background-repeat: no-repeat;\n",
       "  background-position: center center;\n",
       "}\n",
       "\n",
       "/* Parallel-specific style estimator block */\n",
       "\n",
       "#sk-container-id-2 div.sk-parallel-item::after {\n",
       "  content: \"\";\n",
       "  width: 100%;\n",
       "  border-bottom: 2px solid var(--sklearn-color-text-on-default-background);\n",
       "  flex-grow: 1;\n",
       "}\n",
       "\n",
       "#sk-container-id-2 div.sk-parallel {\n",
       "  display: flex;\n",
       "  align-items: stretch;\n",
       "  justify-content: center;\n",
       "  background-color: var(--sklearn-color-background);\n",
       "  position: relative;\n",
       "}\n",
       "\n",
       "#sk-container-id-2 div.sk-parallel-item {\n",
       "  display: flex;\n",
       "  flex-direction: column;\n",
       "}\n",
       "\n",
       "#sk-container-id-2 div.sk-parallel-item:first-child::after {\n",
       "  align-self: flex-end;\n",
       "  width: 50%;\n",
       "}\n",
       "\n",
       "#sk-container-id-2 div.sk-parallel-item:last-child::after {\n",
       "  align-self: flex-start;\n",
       "  width: 50%;\n",
       "}\n",
       "\n",
       "#sk-container-id-2 div.sk-parallel-item:only-child::after {\n",
       "  width: 0;\n",
       "}\n",
       "\n",
       "/* Serial-specific style estimator block */\n",
       "\n",
       "#sk-container-id-2 div.sk-serial {\n",
       "  display: flex;\n",
       "  flex-direction: column;\n",
       "  align-items: center;\n",
       "  background-color: var(--sklearn-color-background);\n",
       "  padding-right: 1em;\n",
       "  padding-left: 1em;\n",
       "}\n",
       "\n",
       "\n",
       "/* Toggleable style: style used for estimator/Pipeline/ColumnTransformer box that is\n",
       "clickable and can be expanded/collapsed.\n",
       "- Pipeline and ColumnTransformer use this feature and define the default style\n",
       "- Estimators will overwrite some part of the style using the `sk-estimator` class\n",
       "*/\n",
       "\n",
       "/* Pipeline and ColumnTransformer style (default) */\n",
       "\n",
       "#sk-container-id-2 div.sk-toggleable {\n",
       "  /* Default theme specific background. It is overwritten whether we have a\n",
       "  specific estimator or a Pipeline/ColumnTransformer */\n",
       "  background-color: var(--sklearn-color-background);\n",
       "}\n",
       "\n",
       "/* Toggleable label */\n",
       "#sk-container-id-2 label.sk-toggleable__label {\n",
       "  cursor: pointer;\n",
       "  display: block;\n",
       "  width: 100%;\n",
       "  margin-bottom: 0;\n",
       "  padding: 0.5em;\n",
       "  box-sizing: border-box;\n",
       "  text-align: center;\n",
       "}\n",
       "\n",
       "#sk-container-id-2 label.sk-toggleable__label-arrow:before {\n",
       "  /* Arrow on the left of the label */\n",
       "  content: \"▸\";\n",
       "  float: left;\n",
       "  margin-right: 0.25em;\n",
       "  color: var(--sklearn-color-icon);\n",
       "}\n",
       "\n",
       "#sk-container-id-2 label.sk-toggleable__label-arrow:hover:before {\n",
       "  color: var(--sklearn-color-text);\n",
       "}\n",
       "\n",
       "/* Toggleable content - dropdown */\n",
       "\n",
       "#sk-container-id-2 div.sk-toggleable__content {\n",
       "  max-height: 0;\n",
       "  max-width: 0;\n",
       "  overflow: hidden;\n",
       "  text-align: left;\n",
       "  /* unfitted */\n",
       "  background-color: var(--sklearn-color-unfitted-level-0);\n",
       "}\n",
       "\n",
       "#sk-container-id-2 div.sk-toggleable__content.fitted {\n",
       "  /* fitted */\n",
       "  background-color: var(--sklearn-color-fitted-level-0);\n",
       "}\n",
       "\n",
       "#sk-container-id-2 div.sk-toggleable__content pre {\n",
       "  margin: 0.2em;\n",
       "  border-radius: 0.25em;\n",
       "  color: var(--sklearn-color-text);\n",
       "  /* unfitted */\n",
       "  background-color: var(--sklearn-color-unfitted-level-0);\n",
       "}\n",
       "\n",
       "#sk-container-id-2 div.sk-toggleable__content.fitted pre {\n",
       "  /* unfitted */\n",
       "  background-color: var(--sklearn-color-fitted-level-0);\n",
       "}\n",
       "\n",
       "#sk-container-id-2 input.sk-toggleable__control:checked~div.sk-toggleable__content {\n",
       "  /* Expand drop-down */\n",
       "  max-height: 200px;\n",
       "  max-width: 100%;\n",
       "  overflow: auto;\n",
       "}\n",
       "\n",
       "#sk-container-id-2 input.sk-toggleable__control:checked~label.sk-toggleable__label-arrow:before {\n",
       "  content: \"▾\";\n",
       "}\n",
       "\n",
       "/* Pipeline/ColumnTransformer-specific style */\n",
       "\n",
       "#sk-container-id-2 div.sk-label input.sk-toggleable__control:checked~label.sk-toggleable__label {\n",
       "  color: var(--sklearn-color-text);\n",
       "  background-color: var(--sklearn-color-unfitted-level-2);\n",
       "}\n",
       "\n",
       "#sk-container-id-2 div.sk-label.fitted input.sk-toggleable__control:checked~label.sk-toggleable__label {\n",
       "  background-color: var(--sklearn-color-fitted-level-2);\n",
       "}\n",
       "\n",
       "/* Estimator-specific style */\n",
       "\n",
       "/* Colorize estimator box */\n",
       "#sk-container-id-2 div.sk-estimator input.sk-toggleable__control:checked~label.sk-toggleable__label {\n",
       "  /* unfitted */\n",
       "  background-color: var(--sklearn-color-unfitted-level-2);\n",
       "}\n",
       "\n",
       "#sk-container-id-2 div.sk-estimator.fitted input.sk-toggleable__control:checked~label.sk-toggleable__label {\n",
       "  /* fitted */\n",
       "  background-color: var(--sklearn-color-fitted-level-2);\n",
       "}\n",
       "\n",
       "#sk-container-id-2 div.sk-label label.sk-toggleable__label,\n",
       "#sk-container-id-2 div.sk-label label {\n",
       "  /* The background is the default theme color */\n",
       "  color: var(--sklearn-color-text-on-default-background);\n",
       "}\n",
       "\n",
       "/* On hover, darken the color of the background */\n",
       "#sk-container-id-2 div.sk-label:hover label.sk-toggleable__label {\n",
       "  color: var(--sklearn-color-text);\n",
       "  background-color: var(--sklearn-color-unfitted-level-2);\n",
       "}\n",
       "\n",
       "/* Label box, darken color on hover, fitted */\n",
       "#sk-container-id-2 div.sk-label.fitted:hover label.sk-toggleable__label.fitted {\n",
       "  color: var(--sklearn-color-text);\n",
       "  background-color: var(--sklearn-color-fitted-level-2);\n",
       "}\n",
       "\n",
       "/* Estimator label */\n",
       "\n",
       "#sk-container-id-2 div.sk-label label {\n",
       "  font-family: monospace;\n",
       "  font-weight: bold;\n",
       "  display: inline-block;\n",
       "  line-height: 1.2em;\n",
       "}\n",
       "\n",
       "#sk-container-id-2 div.sk-label-container {\n",
       "  text-align: center;\n",
       "}\n",
       "\n",
       "/* Estimator-specific */\n",
       "#sk-container-id-2 div.sk-estimator {\n",
       "  font-family: monospace;\n",
       "  border: 1px dotted var(--sklearn-color-border-box);\n",
       "  border-radius: 0.25em;\n",
       "  box-sizing: border-box;\n",
       "  margin-bottom: 0.5em;\n",
       "  /* unfitted */\n",
       "  background-color: var(--sklearn-color-unfitted-level-0);\n",
       "}\n",
       "\n",
       "#sk-container-id-2 div.sk-estimator.fitted {\n",
       "  /* fitted */\n",
       "  background-color: var(--sklearn-color-fitted-level-0);\n",
       "}\n",
       "\n",
       "/* on hover */\n",
       "#sk-container-id-2 div.sk-estimator:hover {\n",
       "  /* unfitted */\n",
       "  background-color: var(--sklearn-color-unfitted-level-2);\n",
       "}\n",
       "\n",
       "#sk-container-id-2 div.sk-estimator.fitted:hover {\n",
       "  /* fitted */\n",
       "  background-color: var(--sklearn-color-fitted-level-2);\n",
       "}\n",
       "\n",
       "/* Specification for estimator info (e.g. \"i\" and \"?\") */\n",
       "\n",
       "/* Common style for \"i\" and \"?\" */\n",
       "\n",
       ".sk-estimator-doc-link,\n",
       "a:link.sk-estimator-doc-link,\n",
       "a:visited.sk-estimator-doc-link {\n",
       "  float: right;\n",
       "  font-size: smaller;\n",
       "  line-height: 1em;\n",
       "  font-family: monospace;\n",
       "  background-color: var(--sklearn-color-background);\n",
       "  border-radius: 1em;\n",
       "  height: 1em;\n",
       "  width: 1em;\n",
       "  text-decoration: none !important;\n",
       "  margin-left: 1ex;\n",
       "  /* unfitted */\n",
       "  border: var(--sklearn-color-unfitted-level-1) 1pt solid;\n",
       "  color: var(--sklearn-color-unfitted-level-1);\n",
       "}\n",
       "\n",
       ".sk-estimator-doc-link.fitted,\n",
       "a:link.sk-estimator-doc-link.fitted,\n",
       "a:visited.sk-estimator-doc-link.fitted {\n",
       "  /* fitted */\n",
       "  border: var(--sklearn-color-fitted-level-1) 1pt solid;\n",
       "  color: var(--sklearn-color-fitted-level-1);\n",
       "}\n",
       "\n",
       "/* On hover */\n",
       "div.sk-estimator:hover .sk-estimator-doc-link:hover,\n",
       ".sk-estimator-doc-link:hover,\n",
       "div.sk-label-container:hover .sk-estimator-doc-link:hover,\n",
       ".sk-estimator-doc-link:hover {\n",
       "  /* unfitted */\n",
       "  background-color: var(--sklearn-color-unfitted-level-3);\n",
       "  color: var(--sklearn-color-background);\n",
       "  text-decoration: none;\n",
       "}\n",
       "\n",
       "div.sk-estimator.fitted:hover .sk-estimator-doc-link.fitted:hover,\n",
       ".sk-estimator-doc-link.fitted:hover,\n",
       "div.sk-label-container:hover .sk-estimator-doc-link.fitted:hover,\n",
       ".sk-estimator-doc-link.fitted:hover {\n",
       "  /* fitted */\n",
       "  background-color: var(--sklearn-color-fitted-level-3);\n",
       "  color: var(--sklearn-color-background);\n",
       "  text-decoration: none;\n",
       "}\n",
       "\n",
       "/* Span, style for the box shown on hovering the info icon */\n",
       ".sk-estimator-doc-link span {\n",
       "  display: none;\n",
       "  z-index: 9999;\n",
       "  position: relative;\n",
       "  font-weight: normal;\n",
       "  right: .2ex;\n",
       "  padding: .5ex;\n",
       "  margin: .5ex;\n",
       "  width: min-content;\n",
       "  min-width: 20ex;\n",
       "  max-width: 50ex;\n",
       "  color: var(--sklearn-color-text);\n",
       "  box-shadow: 2pt 2pt 4pt #999;\n",
       "  /* unfitted */\n",
       "  background: var(--sklearn-color-unfitted-level-0);\n",
       "  border: .5pt solid var(--sklearn-color-unfitted-level-3);\n",
       "}\n",
       "\n",
       ".sk-estimator-doc-link.fitted span {\n",
       "  /* fitted */\n",
       "  background: var(--sklearn-color-fitted-level-0);\n",
       "  border: var(--sklearn-color-fitted-level-3);\n",
       "}\n",
       "\n",
       ".sk-estimator-doc-link:hover span {\n",
       "  display: block;\n",
       "}\n",
       "\n",
       "/* \"?\"-specific style due to the `<a>` HTML tag */\n",
       "\n",
       "#sk-container-id-2 a.estimator_doc_link {\n",
       "  float: right;\n",
       "  font-size: 1rem;\n",
       "  line-height: 1em;\n",
       "  font-family: monospace;\n",
       "  background-color: var(--sklearn-color-background);\n",
       "  border-radius: 1rem;\n",
       "  height: 1rem;\n",
       "  width: 1rem;\n",
       "  text-decoration: none;\n",
       "  /* unfitted */\n",
       "  color: var(--sklearn-color-unfitted-level-1);\n",
       "  border: var(--sklearn-color-unfitted-level-1) 1pt solid;\n",
       "}\n",
       "\n",
       "#sk-container-id-2 a.estimator_doc_link.fitted {\n",
       "  /* fitted */\n",
       "  border: var(--sklearn-color-fitted-level-1) 1pt solid;\n",
       "  color: var(--sklearn-color-fitted-level-1);\n",
       "}\n",
       "\n",
       "/* On hover */\n",
       "#sk-container-id-2 a.estimator_doc_link:hover {\n",
       "  /* unfitted */\n",
       "  background-color: var(--sklearn-color-unfitted-level-3);\n",
       "  color: var(--sklearn-color-background);\n",
       "  text-decoration: none;\n",
       "}\n",
       "\n",
       "#sk-container-id-2 a.estimator_doc_link.fitted:hover {\n",
       "  /* fitted */\n",
       "  background-color: var(--sklearn-color-fitted-level-3);\n",
       "}\n",
       "</style><div id=\"sk-container-id-2\" class=\"sk-top-container\"><div class=\"sk-text-repr-fallback\"><pre>LogisticRegression()</pre><b>In a Jupyter environment, please rerun this cell to show the HTML representation or trust the notebook. <br />On GitHub, the HTML representation is unable to render, please try loading this page with nbviewer.org.</b></div><div class=\"sk-container\" hidden><div class=\"sk-item\"><div class=\"sk-estimator fitted sk-toggleable\"><input class=\"sk-toggleable__control sk-hidden--visually\" id=\"sk-estimator-id-2\" type=\"checkbox\" checked><label for=\"sk-estimator-id-2\" class=\"sk-toggleable__label fitted sk-toggleable__label-arrow fitted\">&nbsp;&nbsp;LogisticRegression<a class=\"sk-estimator-doc-link fitted\" rel=\"noreferrer\" target=\"_blank\" href=\"https://scikit-learn.org/1.4/modules/generated/sklearn.linear_model.LogisticRegression.html\">?<span>Documentation for LogisticRegression</span></a><span class=\"sk-estimator-doc-link fitted\">i<span>Fitted</span></span></label><div class=\"sk-toggleable__content fitted\"><pre>LogisticRegression()</pre></div> </div></div></div></div>"
      ],
      "text/plain": [
       "LogisticRegression()"
      ]
     },
     "execution_count": 28,
     "metadata": {},
     "output_type": "execute_result"
    }
   ],
   "source": [
    "model = LogisticRegression()\n",
    "model.fit(X,y)"
   ]
  },
  {
   "cell_type": "code",
   "execution_count": 29,
   "id": "37c1640f-1a57-4860-8890-d7eb5e2d9215",
   "metadata": {},
   "outputs": [
    {
     "data": {
      "text/plain": [
       "array([[1.00465774, 0.93711261]])"
      ]
     },
     "execution_count": 29,
     "metadata": {},
     "output_type": "execute_result"
    }
   ],
   "source": [
    "model.coef_"
   ]
  },
  {
   "cell_type": "code",
   "execution_count": 30,
   "id": "18c8a7bf-f597-4053-ab91-838b3ed1b8fb",
   "metadata": {},
   "outputs": [
    {
     "data": {
      "text/plain": [
       "array([-3.159838])"
      ]
     },
     "execution_count": 30,
     "metadata": {},
     "output_type": "execute_result"
    }
   ],
   "source": [
    "model.intercept_"
   ]
  },
  {
   "cell_type": "code",
   "execution_count": 31,
   "id": "d35de10e-6bb8-41c8-88cb-180a60c8b1dd",
   "metadata": {},
   "outputs": [
    {
     "data": {
      "text/plain": [
       "1.0"
      ]
     },
     "execution_count": 31,
     "metadata": {},
     "output_type": "execute_result"
    }
   ],
   "source": [
    "model.score(X,y)"
   ]
  },
  {
   "cell_type": "code",
   "execution_count": null,
   "id": "ae391699-a853-488d-b08d-b1a2fc452387",
   "metadata": {},
   "outputs": [],
   "source": []
  }
 ],
 "metadata": {
  "kernelspec": {
   "display_name": "Python 3 (ipykernel)",
   "language": "python",
   "name": "python3"
  },
  "language_info": {
   "codemirror_mode": {
    "name": "ipython",
    "version": 3
   },
   "file_extension": ".py",
   "mimetype": "text/x-python",
   "name": "python",
   "nbconvert_exporter": "python",
   "pygments_lexer": "ipython3",
   "version": "3.11.7"
  }
 },
 "nbformat": 4,
 "nbformat_minor": 5
}
