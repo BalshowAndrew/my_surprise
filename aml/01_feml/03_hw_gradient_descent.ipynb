{
 "cells": [
  {
   "cell_type": "markdown",
   "id": "b270cc99-ffbd-4fb0-ba88-98edb0941adc",
   "metadata": {},
   "source": [
    "# Домашнее задание \"Функции потерь и оптимизация\""
   ]
  },
  {
   "cell_type": "code",
   "execution_count": 1,
   "id": "3e930f13-6d08-4c97-8642-d8e0720e1c65",
   "metadata": {},
   "outputs": [],
   "source": [
    "import numpy as np\n",
    "import pandas as pd\n",
    "import random\n",
    "import matplotlib.pyplot as plt\n",
    "\n",
    "from sklearn.datasets import load_iris\n",
    "from sklearn.linear_model import LogisticRegression\n",
    "from sklearn.metrics import accuracy_score, log_loss\n",
    "from sklearn.model_selection import train_test_split\n"
   ]
  },
  {
   "cell_type": "markdown",
   "id": "bae9e5ad-29c9-44aa-842c-18de662de5d7",
   "metadata": {},
   "source": [
    "## Подготовка датасета"
   ]
  },
  {
   "cell_type": "code",
   "execution_count": 2,
   "id": "83d5ea79-7dbc-436d-882c-d460d340bbd1",
   "metadata": {},
   "outputs": [],
   "source": [
    "data = load_iris()"
   ]
  },
  {
   "cell_type": "code",
   "execution_count": 3,
   "id": "558fe1b8-5cfb-45f7-9075-30586ead4527",
   "metadata": {},
   "outputs": [
    {
     "data": {
      "text/plain": [
       "array(['setosa', 'versicolor', 'virginica'], dtype='<U10')"
      ]
     },
     "execution_count": 3,
     "metadata": {},
     "output_type": "execute_result"
    }
   ],
   "source": [
    "data.target_names"
   ]
  },
  {
   "cell_type": "code",
   "execution_count": 4,
   "id": "d37b83f1-86bd-4347-a45c-685eb4546b48",
   "metadata": {},
   "outputs": [
    {
     "data": {
      "text/plain": [
       "(150, 4)"
      ]
     },
     "execution_count": 4,
     "metadata": {},
     "output_type": "execute_result"
    }
   ],
   "source": [
    "data.data.shape"
   ]
  },
  {
   "cell_type": "code",
   "execution_count": 5,
   "id": "8d9c6117-c6be-4efe-ae4d-26f739a333a1",
   "metadata": {},
   "outputs": [
    {
     "data": {
      "text/plain": [
       "(150,)"
      ]
     },
     "execution_count": 5,
     "metadata": {},
     "output_type": "execute_result"
    }
   ],
   "source": [
    "data.target.shape"
   ]
  },
  {
   "cell_type": "markdown",
   "id": "f32e9f52-2da4-497f-b423-4c8533c8394e",
   "metadata": {},
   "source": [
    "Оставим в датасете записи, связанные с классами **Iris Versicolor** и **Iris Virginica**"
   ]
  },
  {
   "cell_type": "code",
   "execution_count": 6,
   "id": "fc8c0213-faa2-439a-95df-bc962fbeb6cc",
   "metadata": {},
   "outputs": [
    {
     "data": {
      "text/plain": [
       "array(['setosa', 'versicolor', 'virginica'], dtype='<U10')"
      ]
     },
     "execution_count": 6,
     "metadata": {},
     "output_type": "execute_result"
    }
   ],
   "source": [
    "data.target_names"
   ]
  },
  {
   "cell_type": "code",
   "execution_count": 7,
   "id": "0b9257d0-1cbc-4514-9e63-67c8a76d11af",
   "metadata": {},
   "outputs": [
    {
     "data": {
      "text/plain": [
       "(100, 4)"
      ]
     },
     "execution_count": 7,
     "metadata": {},
     "output_type": "execute_result"
    }
   ],
   "source": [
    "X = data.data[(data.target == 1) | (data.target == 2)]\n",
    "X.shape"
   ]
  },
  {
   "cell_type": "markdown",
   "id": "d21a5382-9e07-44d5-962e-44697b03a1fa",
   "metadata": {},
   "source": [
    "Перекодируем целевую переменную"
   ]
  },
  {
   "cell_type": "code",
   "execution_count": 8,
   "id": "2848eb13-5046-4c26-9712-c521bbd1f895",
   "metadata": {},
   "outputs": [
    {
     "data": {
      "text/plain": [
       "(100,)"
      ]
     },
     "execution_count": 8,
     "metadata": {},
     "output_type": "execute_result"
    }
   ],
   "source": [
    "y = data.target[(data.target == 1) | (data.target == 2)]\n",
    "y[y == 1] = 0\n",
    "y[y == 2] = 1\n",
    "y.shape"
   ]
  },
  {
   "cell_type": "code",
   "execution_count": 9,
   "id": "a85ebdd5-788b-4e3d-be7e-f52adb292822",
   "metadata": {},
   "outputs": [
    {
     "data": {
      "text/plain": [
       "array([0, 0, 0, 0, 0, 0, 0, 0, 0, 0, 0, 0, 0, 0, 0, 0, 0, 0, 0, 0, 0, 0,\n",
       "       0, 0, 0, 0, 0, 0, 0, 0, 0, 0, 0, 0, 0, 0, 0, 0, 0, 0, 0, 0, 0, 0,\n",
       "       0, 0, 0, 0, 0, 0, 1, 1, 1, 1, 1, 1, 1, 1, 1, 1, 1, 1, 1, 1, 1, 1,\n",
       "       1, 1, 1, 1, 1, 1, 1, 1, 1, 1, 1, 1, 1, 1, 1, 1, 1, 1, 1, 1, 1, 1,\n",
       "       1, 1, 1, 1, 1, 1, 1, 1, 1, 1, 1, 1])"
      ]
     },
     "execution_count": 9,
     "metadata": {},
     "output_type": "execute_result"
    }
   ],
   "source": [
    "y"
   ]
  },
  {
   "cell_type": "markdown",
   "id": "ac7d64e2-f8b1-4b75-933c-24f5ee7f0155",
   "metadata": {},
   "source": [
    "Добавим дополнительный еденичный признак"
   ]
  },
  {
   "cell_type": "code",
   "execution_count": 10,
   "id": "fc480e89-2d93-43a7-8aee-69dfe1f08e4d",
   "metadata": {},
   "outputs": [
    {
     "data": {
      "text/plain": [
       "array([[1. , 7. , 3.2, 4.7, 1.4],\n",
       "       [1. , 6.4, 3.2, 4.5, 1.5],\n",
       "       [1. , 6.9, 3.1, 4.9, 1.5],\n",
       "       [1. , 5.5, 2.3, 4. , 1.3],\n",
       "       [1. , 6.5, 2.8, 4.6, 1.5]])"
      ]
     },
     "execution_count": 10,
     "metadata": {},
     "output_type": "execute_result"
    }
   ],
   "source": [
    "X = np.c_[np.ones(len(X)), X]\n",
    "X[:5]"
   ]
  },
  {
   "cell_type": "code",
   "execution_count": 11,
   "id": "66d99f4a-8ac6-4be7-b964-f32981d1e3ba",
   "metadata": {},
   "outputs": [
    {
     "data": {
      "text/plain": [
       "(100, 5)"
      ]
     },
     "execution_count": 11,
     "metadata": {},
     "output_type": "execute_result"
    }
   ],
   "source": [
    "X.shape"
   ]
  },
  {
   "cell_type": "markdown",
   "id": "92d48dda-25f6-4544-b3e4-515df4923cb3",
   "metadata": {},
   "source": [
    "Разделим датасет на обучающую и тестовую выборки"
   ]
  },
  {
   "cell_type": "code",
   "execution_count": 12,
   "id": "72426138-64ee-4439-a1aa-765ad0a51da4",
   "metadata": {},
   "outputs": [],
   "source": [
    "X_train, X_test, y_train, y_test = train_test_split(X, y, test_size=0.3, random_state=1, stratify=y)"
   ]
  },
  {
   "cell_type": "markdown",
   "id": "795eb2bd-2d3a-4219-b3ef-a8eb901ff3d2",
   "metadata": {},
   "source": [
    "## Собственная реализация логистической регрессии с реализацией градиентного спуска"
   ]
  },
  {
   "cell_type": "code",
   "execution_count": 13,
   "id": "a849b9c4-20f6-4ed8-9a9e-cf15af7f29f0",
   "metadata": {},
   "outputs": [],
   "source": [
    "class LogisticRegressionGD(object):\n",
    "    \n",
    "    def __init__(self, eta=0.05, n_iter=100, random_state=1):\n",
    "        self.eta = eta\n",
    "        self.n_iter = n_iter\n",
    "        self.random_state = random_state\n",
    "\n",
    "    \n",
    "    def fit(self, X, y):\n",
    "        self.w_ = np.random.randn(X.shape[1])\n",
    "        # пустой список издержек:\n",
    "        self.loss_ = []\n",
    "        for i in range(self.n_iter):\n",
    "            output = self.activation(X)\n",
    "            errors = (y - output)\n",
    "            self.w_ += self.eta * X.T.dot(errors)\n",
    "            loss = -(y.dot(np.log(output + 1e-30)) +\n",
    "                   ((1 - y).dot(np.log((1 - output) + 1e-30)))) / X.shape[0]\n",
    "            self.loss_.append(loss)\n",
    "        return self\n",
    "\n",
    "\n",
    "    def net_input(self, X):\n",
    "        return np.dot(X, self.w_)\n",
    "\n",
    "    \n",
    "    def activation(self, z):\n",
    "        return 1.0 / (1.0 + np.exp(-self.net_input(z)))\n",
    "\n",
    "    \n",
    "    def predict(self, X):\n",
    "        return np.where(self.activation(X) >= 0.5, 1, 0)\n",
    "\n",
    "\n",
    "    def accuracy(self, X, y):\n",
    "        return (self.predict(X) == y).sum() / len(y)"
   ]
  },
  {
   "cell_type": "code",
   "execution_count": 14,
   "id": "b3be877a-6c56-4f51-b2c9-6a199fd6f386",
   "metadata": {},
   "outputs": [],
   "source": [
    "model = LogisticRegressionGD(eta=0.05, n_iter=1000, random_state=1)"
   ]
  },
  {
   "cell_type": "code",
   "execution_count": 15,
   "id": "cfc03b6b-8e12-4c0b-935e-92deea028ba9",
   "metadata": {},
   "outputs": [
    {
     "data": {
      "text/plain": [
       "<__main__.LogisticRegressionGD at 0x7ff72be9f0d0>"
      ]
     },
     "execution_count": 15,
     "metadata": {},
     "output_type": "execute_result"
    }
   ],
   "source": [
    "model.fit(X_train, y_train)"
   ]
  },
  {
   "cell_type": "code",
   "execution_count": 16,
   "id": "82f8b195-38f3-4d52-9d8b-c9773e076934",
   "metadata": {},
   "outputs": [
    {
     "data": {
      "text/plain": [
       "array([1.00000000e+00, 1.00000000e+00, 9.14952783e-26, 8.43444878e-14,\n",
       "       1.66636886e-16, 9.99999998e-01, 4.39093920e-02, 1.00000000e+00,\n",
       "       9.89659690e-25, 1.05152864e-27, 1.00000000e+00, 1.00000000e+00,\n",
       "       1.00000000e+00, 3.00105322e-16, 1.00000000e+00, 1.00000000e+00,\n",
       "       1.24038181e-11, 1.00000000e+00, 6.07685085e-23, 1.96821851e-08,\n",
       "       1.83586025e-30, 5.37119117e-27, 1.91054456e-19, 9.99979979e-01,\n",
       "       1.00000000e+00, 1.05539364e-29, 3.27264046e-24, 1.00000000e+00,\n",
       "       9.99999859e-01, 3.08964207e-27])"
      ]
     },
     "execution_count": 16,
     "metadata": {},
     "output_type": "execute_result"
    }
   ],
   "source": [
    "model.activation(X_test)"
   ]
  },
  {
   "cell_type": "code",
   "execution_count": 17,
   "id": "2f9b983f-21b4-4406-bc6d-f5103df12c48",
   "metadata": {},
   "outputs": [
    {
     "data": {
      "text/plain": [
       "array([1, 1, 0, 0, 0, 1, 0, 1, 0, 0, 1, 1, 1, 0, 1, 1, 0, 1, 0, 0, 0, 0,\n",
       "       0, 1, 1, 0, 0, 1, 1, 0])"
      ]
     },
     "execution_count": 17,
     "metadata": {},
     "output_type": "execute_result"
    }
   ],
   "source": [
    "model.predict(X_test)"
   ]
  },
  {
   "cell_type": "code",
   "execution_count": 18,
   "id": "7029fc20-6a87-4441-b7dd-0753494005c4",
   "metadata": {},
   "outputs": [
    {
     "data": {
      "text/plain": [
       "array([1, 1, 0, 0, 0, 1, 1, 1, 0, 0, 1, 1, 1, 0, 1, 1, 0, 1, 0, 0, 0, 0,\n",
       "       0, 1, 1, 0, 0, 1, 1, 0])"
      ]
     },
     "execution_count": 18,
     "metadata": {},
     "output_type": "execute_result"
    }
   ],
   "source": [
    "y_test"
   ]
  },
  {
   "cell_type": "code",
   "execution_count": 19,
   "id": "86adfbcd-ddf6-4e4b-9f9f-2bab0f22919e",
   "metadata": {},
   "outputs": [
    {
     "data": {
      "text/plain": [
       "0.9666666666666667"
      ]
     },
     "execution_count": 19,
     "metadata": {},
     "output_type": "execute_result"
    }
   ],
   "source": [
    "model.accuracy(X_test, y_test)"
   ]
  },
  {
   "cell_type": "code",
   "execution_count": null,
   "id": "2147dfd7-224c-42aa-994d-099ec7f62262",
   "metadata": {},
   "outputs": [],
   "source": []
  }
 ],
 "metadata": {
  "kernelspec": {
   "display_name": "Python 3 (ipykernel)",
   "language": "python",
   "name": "python3"
  },
  "language_info": {
   "codemirror_mode": {
    "name": "ipython",
    "version": 3
   },
   "file_extension": ".py",
   "mimetype": "text/x-python",
   "name": "python",
   "nbconvert_exporter": "python",
   "pygments_lexer": "ipython3",
   "version": "3.12.6"
  }
 },
 "nbformat": 4,
 "nbformat_minor": 5
}
