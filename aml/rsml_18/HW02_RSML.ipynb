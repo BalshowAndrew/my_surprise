{
 "cells": [
  {
   "cell_type": "markdown",
   "id": "c8817992-eb8c-458a-ba3e-881a32f7d0f9",
   "metadata": {},
   "source": [
    "# Задание по теме \"Коллаборативная фильтрация\""
   ]
  },
  {
   "cell_type": "markdown",
   "id": "f63e1643-2042-4830-bb7e-b7ac9c016c77",
   "metadata": {},
   "source": [
    "Пакет SURPRISE:\n",
    "- используйте данные MovieLens 1M,\n",
    "- можно использовать любые модели из пакета,\n",
    "- получите RMSE на тестовом сете 0,87 и ниже."
   ]
  },
  {
   "cell_type": "code",
   "execution_count": 61,
   "id": "0887980e-fb15-4cfb-9e3d-f2ee2a8b07d5",
   "metadata": {},
   "outputs": [],
   "source": [
    "import pandas as pd\n",
    "import numpy as np\n",
    "\n",
    "from surprise import Dataset, accuracy\n",
    "from surprise import KNNWithMeans, KNNBasic, SVD, BaselineOnly\n",
    "from surprise.model_selection import train_test_split, KFold, cross_validate, LeaveOneOut, PredefinedKFold"
   ]
  },
  {
   "cell_type": "markdown",
   "id": "29a91748-3c4f-4c9f-84f4-6c51e8417090",
   "metadata": {},
   "source": [
    "## Загрузка данных"
   ]
  },
  {
   "cell_type": "code",
   "execution_count": 14,
   "id": "68660b0c-7442-4b70-8524-a7f402a75e97",
   "metadata": {},
   "outputs": [],
   "source": [
    "data = Dataset.load_builtin(\"ml-1m\")"
   ]
  },
  {
   "cell_type": "code",
   "execution_count": 15,
   "id": "2cef6fa2-186b-45e9-a3e9-abcb904fe629",
   "metadata": {},
   "outputs": [
    {
     "data": {
      "text/plain": [
       "<surprise.dataset.DatasetAutoFolds at 0x7f0982fd58a0>"
      ]
     },
     "execution_count": 15,
     "metadata": {},
     "output_type": "execute_result"
    }
   ],
   "source": [
    "data"
   ]
  },
  {
   "cell_type": "markdown",
   "id": "bad075b2-1a11-41a9-8b76-eed53fbecf7b",
   "metadata": {},
   "source": [
    "## Обучение моделей"
   ]
  },
  {
   "cell_type": "markdown",
   "id": "476ccc9f-86a6-4224-8548-6824f3e90ff4",
   "metadata": {},
   "source": [
    "### Использование train_test_split"
   ]
  },
  {
   "cell_type": "code",
   "execution_count": 16,
   "id": "b3c62bb3-130c-4966-9f42-713d7a627764",
   "metadata": {},
   "outputs": [],
   "source": [
    "trainset, testset = train_test_split(data, test_size=0.2, random_state=51)"
   ]
  },
  {
   "cell_type": "markdown",
   "id": "0b1ff960-de51-45b2-a93d-8890459912ac",
   "metadata": {},
   "source": [
    "#### KNN as a prediction algorithms"
   ]
  },
  {
   "cell_type": "code",
   "execution_count": 17,
   "id": "718ce05b-7e79-475d-8bf7-8b809f5b933d",
   "metadata": {},
   "outputs": [
    {
     "name": "stdout",
     "output_type": "stream",
     "text": [
      "Computing the cosine similarity matrix...\n",
      "Done computing similarity matrix.\n"
     ]
    },
    {
     "data": {
      "text/plain": [
       "<surprise.prediction_algorithms.knns.KNNWithMeans at 0x7f09837e7d00>"
      ]
     },
     "execution_count": 17,
     "metadata": {},
     "output_type": "execute_result"
    }
   ],
   "source": [
    "# user_based model\n",
    "algo_01 = KNNWithMeans(k=50, sim_options={\n",
    "    'name': 'cosine',\n",
    "    'user_based': True\n",
    "})\n",
    "algo_01.fit(trainset)"
   ]
  },
  {
   "cell_type": "code",
   "execution_count": 18,
   "id": "25846c85-93ea-43b3-b30a-aaa020471126",
   "metadata": {},
   "outputs": [],
   "source": [
    "test_pred_01 = algo_01.test(testset)"
   ]
  },
  {
   "cell_type": "code",
   "execution_count": 19,
   "id": "01061786-191b-4166-bf36-df3b543b12dd",
   "metadata": {},
   "outputs": [
    {
     "name": "stdout",
     "output_type": "stream",
     "text": [
      "RMSE: 0.9353\n"
     ]
    },
    {
     "data": {
      "text/plain": [
       "0.9352676165031188"
      ]
     },
     "execution_count": 19,
     "metadata": {},
     "output_type": "execute_result"
    }
   ],
   "source": [
    "accuracy.rmse(test_pred_01, verbose=True)"
   ]
  },
  {
   "cell_type": "code",
   "execution_count": null,
   "id": "a62759c2-a4aa-4e75-a7c7-3d81a5eba546",
   "metadata": {},
   "outputs": [],
   "source": []
  },
  {
   "cell_type": "code",
   "execution_count": 26,
   "id": "d61ce578-9347-4928-8835-196f79bf20fb",
   "metadata": {},
   "outputs": [
    {
     "name": "stdout",
     "output_type": "stream",
     "text": [
      "Computing the cosine similarity matrix...\n",
      "Done computing similarity matrix.\n"
     ]
    },
    {
     "data": {
      "text/plain": [
       "<surprise.prediction_algorithms.knns.KNNWithMeans at 0x7f0982fd7fd0>"
      ]
     },
     "execution_count": 26,
     "metadata": {},
     "output_type": "execute_result"
    }
   ],
   "source": [
    "# item_based model\n",
    "algo_02 = KNNWithMeans(k=50, sim_options={\n",
    "    'name': 'cosine',\n",
    "    'user_based': False\n",
    "})\n",
    "algo_02.fit(trainset)"
   ]
  },
  {
   "cell_type": "code",
   "execution_count": 27,
   "id": "4718d8a1-79d2-4d5c-a102-2066208cb4db",
   "metadata": {},
   "outputs": [],
   "source": [
    "test_pred_02 = algo_02.test(testset)"
   ]
  },
  {
   "cell_type": "code",
   "execution_count": 28,
   "id": "971d39b8-7c5a-4513-909c-96fce3dfa772",
   "metadata": {},
   "outputs": [
    {
     "name": "stdout",
     "output_type": "stream",
     "text": [
      "RMSE: 0.8912\n"
     ]
    },
    {
     "data": {
      "text/plain": [
       "0.8911681978982693"
      ]
     },
     "execution_count": 28,
     "metadata": {},
     "output_type": "execute_result"
    }
   ],
   "source": [
    "accuracy.rmse(test_pred_02, verbose=True)"
   ]
  },
  {
   "cell_type": "code",
   "execution_count": null,
   "id": "4c801f3a-c343-4cb3-888c-0072dfc8dc73",
   "metadata": {},
   "outputs": [],
   "source": []
  },
  {
   "cell_type": "markdown",
   "id": "55548fbc-88a0-40a7-8720-e42c4cb70136",
   "metadata": {},
   "source": [
    "#### SVD as a prediction algorithm"
   ]
  },
  {
   "cell_type": "code",
   "execution_count": 29,
   "id": "b8a84391-a4ce-49c1-815e-d3bd61505bf5",
   "metadata": {},
   "outputs": [
    {
     "data": {
      "text/plain": [
       "<surprise.prediction_algorithms.matrix_factorization.SVD at 0x7f098379a020>"
      ]
     },
     "execution_count": 29,
     "metadata": {},
     "output_type": "execute_result"
    }
   ],
   "source": [
    "algo_03 = SVD()\n",
    "algo_03.fit(trainset)"
   ]
  },
  {
   "cell_type": "code",
   "execution_count": 30,
   "id": "45abf582-9210-4b94-b2b4-d4a3e225e598",
   "metadata": {},
   "outputs": [],
   "source": [
    "test_pred_03 = algo_03.test(testset)"
   ]
  },
  {
   "cell_type": "code",
   "execution_count": 32,
   "id": "8a99d425-a30c-4e24-9c83-164da0a19d8b",
   "metadata": {},
   "outputs": [
    {
     "name": "stdout",
     "output_type": "stream",
     "text": [
      "RMSE: 0.8734\n"
     ]
    },
    {
     "data": {
      "text/plain": [
       "0.8733936344274785"
      ]
     },
     "execution_count": 32,
     "metadata": {},
     "output_type": "execute_result"
    }
   ],
   "source": [
    "accuracy.rmse(test_pred_03, verbose=True)"
   ]
  },
  {
   "cell_type": "code",
   "execution_count": null,
   "id": "6f52e960-1ff9-4bd2-a21f-6a52f8073196",
   "metadata": {},
   "outputs": [],
   "source": []
  },
  {
   "cell_type": "markdown",
   "id": "2f2f9ae6-82b1-4762-85db-3b17818c9fdf",
   "metadata": {},
   "source": [
    "#### BaselineOnly as a prediction algorithm"
   ]
  },
  {
   "cell_type": "code",
   "execution_count": 41,
   "id": "519e0c67-fe0c-4450-8c9b-5fc1f6deeabd",
   "metadata": {},
   "outputs": [
    {
     "name": "stdout",
     "output_type": "stream",
     "text": [
      "Estimating biases using als...\n"
     ]
    },
    {
     "data": {
      "text/plain": [
       "<surprise.prediction_algorithms.baseline_only.BaselineOnly at 0x7f096351e260>"
      ]
     },
     "execution_count": 41,
     "metadata": {},
     "output_type": "execute_result"
    }
   ],
   "source": [
    "bsl_options = {\"method\": \"als\", \"n_epochs\": 5, \"reg_u\": 12, \"reg_i\": 5}\n",
    "algo_04 = BaselineOnly(bsl_options=bsl_options)\n",
    "algo_04.fit(trainset)"
   ]
  },
  {
   "cell_type": "code",
   "execution_count": 45,
   "id": "146467a3-75ef-40ed-9158-8816b54fef52",
   "metadata": {},
   "outputs": [],
   "source": [
    "test_pred_04 = algo_04.test(testset)"
   ]
  },
  {
   "cell_type": "code",
   "execution_count": 46,
   "id": "0ef3b13f-41be-407d-ae61-b87a3c9b20d9",
   "metadata": {},
   "outputs": [
    {
     "name": "stdout",
     "output_type": "stream",
     "text": [
      "RMSE: 0.9069\n"
     ]
    },
    {
     "data": {
      "text/plain": [
       "0.9068589008532121"
      ]
     },
     "execution_count": 46,
     "metadata": {},
     "output_type": "execute_result"
    }
   ],
   "source": [
    "accuracy.rmse(test_pred_04, verbose=True)"
   ]
  },
  {
   "cell_type": "markdown",
   "id": "51d32c47-0bf6-4b9c-bf8d-55d9d5e6742c",
   "metadata": {},
   "source": []
  },
  {
   "cell_type": "code",
   "execution_count": 50,
   "id": "13293b07-e2f1-47ee-a948-c3f9b55a1dfa",
   "metadata": {},
   "outputs": [
    {
     "name": "stdout",
     "output_type": "stream",
     "text": [
      "Estimating biases using sgd...\n"
     ]
    },
    {
     "data": {
      "text/plain": [
       "<surprise.prediction_algorithms.baseline_only.BaselineOnly at 0x7f09935aef80>"
      ]
     },
     "execution_count": 50,
     "metadata": {},
     "output_type": "execute_result"
    }
   ],
   "source": [
    "bsl_options = {\"method\": \"sgd\", \"n_epochs\": 5, \"reg_u\": 12, \"reg_i\": 5}\n",
    "algo_05 = BaselineOnly(bsl_options=bsl_options)\n",
    "algo_05.fit(trainset)"
   ]
  },
  {
   "cell_type": "code",
   "execution_count": 51,
   "id": "2e9aaea7-11a7-44a8-8539-7879e82483b8",
   "metadata": {},
   "outputs": [],
   "source": [
    "test_pred_05 = algo_05.test(testset)"
   ]
  },
  {
   "cell_type": "code",
   "execution_count": 52,
   "id": "3bb2d70d-95e0-41a4-8f01-fcd031e07999",
   "metadata": {},
   "outputs": [
    {
     "name": "stdout",
     "output_type": "stream",
     "text": [
      "RMSE: 0.9115\n"
     ]
    },
    {
     "data": {
      "text/plain": [
       "0.9114701689812353"
      ]
     },
     "execution_count": 52,
     "metadata": {},
     "output_type": "execute_result"
    }
   ],
   "source": [
    "accuracy.rmse(test_pred_05, verbose=True)"
   ]
  },
  {
   "cell_type": "markdown",
   "id": "93778279-d8d3-4b82-abee-6baca25a1f73",
   "metadata": {},
   "source": [
    "### Кроссвалидация"
   ]
  },
  {
   "cell_type": "markdown",
   "id": "197a98f7-262a-400e-bf38-ef9befd31586",
   "metadata": {},
   "source": [
    "#### Использование метода cross_validate()"
   ]
  },
  {
   "cell_type": "code",
   "execution_count": 53,
   "id": "7862f06a-2d91-4b79-8ebd-ca0439b52dfd",
   "metadata": {},
   "outputs": [
    {
     "name": "stdout",
     "output_type": "stream",
     "text": [
      "Computing the msd similarity matrix...\n",
      "Done computing similarity matrix.\n",
      "Computing the msd similarity matrix...\n",
      "Done computing similarity matrix.\n",
      "Computing the msd similarity matrix...\n",
      "Done computing similarity matrix.\n",
      "Computing the msd similarity matrix...\n",
      "Done computing similarity matrix.\n",
      "Computing the msd similarity matrix...\n",
      "Done computing similarity matrix.\n",
      "Evaluating RMSE, MAE of algorithm KNNWithMeans on 5 split(s).\n",
      "\n",
      "                  Fold 1  Fold 2  Fold 3  Fold 4  Fold 5  Mean    Std     \n",
      "RMSE (testset)    0.9304  0.9284  0.9307  0.9285  0.9290  0.9294  0.0010  \n",
      "MAE (testset)     0.7397  0.7376  0.7399  0.7377  0.7383  0.7386  0.0010  \n",
      "Fit time          36.87   36.13   37.30   38.53   41.97   38.16   2.06    \n",
      "Test time         102.57  97.29   114.32  104.61  108.37  105.43  5.70    \n"
     ]
    },
    {
     "data": {
      "text/plain": [
       "{'test_rmse': array([0.93042074, 0.92837105, 0.9306683 , 0.92850815, 0.92897945]),\n",
       " 'test_mae': array([0.73970016, 0.73764692, 0.73990323, 0.73767794, 0.73825834]),\n",
       " 'fit_time': (36.866288900375366,\n",
       "  36.12835955619812,\n",
       "  37.30366539955139,\n",
       "  38.52669978141785,\n",
       "  41.97278118133545),\n",
       " 'test_time': (102.57249021530151,\n",
       "  97.29402303695679,\n",
       "  114.31759595870972,\n",
       "  104.61051774024963,\n",
       "  108.37229776382446)}"
      ]
     },
     "execution_count": 53,
     "metadata": {},
     "output_type": "execute_result"
    }
   ],
   "source": [
    "# use KNNMeans\n",
    "knn_means = KNNWithMeans()\n",
    "cross_validate(knn_means, data, measures=[\"RMSE\", \"MAE\"], cv=5, verbose=True)"
   ]
  },
  {
   "cell_type": "code",
   "execution_count": 54,
   "id": "48eadaf7-800d-47f1-8c28-ce5a597fb1d9",
   "metadata": {},
   "outputs": [
    {
     "name": "stdout",
     "output_type": "stream",
     "text": [
      "Evaluating RMSE, MAE of algorithm SVD on 5 split(s).\n",
      "\n",
      "                  Fold 1  Fold 2  Fold 3  Fold 4  Fold 5  Mean    Std     \n",
      "RMSE (testset)    0.8745  0.8728  0.8730  0.8733  0.8744  0.8736  0.0007  \n",
      "MAE (testset)     0.6853  0.6857  0.6851  0.6859  0.6861  0.6856  0.0003  \n",
      "Fit time          8.09    8.36    7.95    8.48    8.36    8.25    0.20    \n",
      "Test time         2.61    1.00    2.34    0.98    1.07    1.60    0.72    \n"
     ]
    },
    {
     "data": {
      "text/plain": [
       "{'test_rmse': array([0.87447066, 0.87280124, 0.87302397, 0.87331274, 0.87444944]),\n",
       " 'test_mae': array([0.6852809 , 0.68567578, 0.68513323, 0.68585453, 0.68605341]),\n",
       " 'fit_time': (8.091882228851318,\n",
       "  8.355844497680664,\n",
       "  7.9458887577056885,\n",
       "  8.484724283218384,\n",
       "  8.35508680343628),\n",
       " 'test_time': (2.605236768722534,\n",
       "  1.0009913444519043,\n",
       "  2.338616371154785,\n",
       "  0.9836599826812744,\n",
       "  1.0721631050109863)}"
      ]
     },
     "execution_count": 54,
     "metadata": {},
     "output_type": "execute_result"
    }
   ],
   "source": [
    "# use SVD\n",
    "svd = SVD()\n",
    "cross_validate(svd, data, measures=[\"RMSE\", \"MAE\"], cv=5, verbose=True)"
   ]
  },
  {
   "cell_type": "code",
   "execution_count": 49,
   "id": "b055b626-c996-45df-8b2e-de58f8b2f39e",
   "metadata": {},
   "outputs": [
    {
     "name": "stdout",
     "output_type": "stream",
     "text": [
      "Estimating biases using als...\n",
      "Estimating biases using als...\n",
      "Estimating biases using als...\n",
      "Estimating biases using als...\n",
      "Estimating biases using als...\n",
      "Evaluating RMSE, MAE of algorithm BaselineOnly on 5 split(s).\n",
      "\n",
      "                  Fold 1  Fold 2  Fold 3  Fold 4  Fold 5  Mean    Std     \n",
      "RMSE (testset)    0.9111  0.9100  0.9081  0.9060  0.9082  0.9087  0.0018  \n",
      "MAE (testset)     0.7216  0.7202  0.7196  0.7171  0.7190  0.7195  0.0015  \n",
      "Fit time          4.19    4.45    4.98    4.63    4.69    4.59    0.26    \n",
      "Test time         1.87    0.70    1.72    0.65    1.90    1.37    0.57    \n"
     ]
    },
    {
     "data": {
      "text/plain": [
       "{'test_rmse': array([0.91110685, 0.91004077, 0.90814235, 0.90596624, 0.90821457]),\n",
       " 'test_mae': array([0.72160352, 0.7201665 , 0.71959864, 0.71707701, 0.71903615]),\n",
       " 'fit_time': (4.189107418060303,\n",
       "  4.445256471633911,\n",
       "  4.98059606552124,\n",
       "  4.629040002822876,\n",
       "  4.68644642829895),\n",
       " 'test_time': (1.8654606342315674,\n",
       "  0.7027554512023926,\n",
       "  1.7205188274383545,\n",
       "  0.6496963500976562,\n",
       "  1.9026248455047607)}"
      ]
     },
     "execution_count": 49,
     "metadata": {},
     "output_type": "execute_result"
    }
   ],
   "source": [
    "# use BaselineOnly\n",
    "baseline_only = BaselineOnly()\n",
    "cross_validate(baseline_only, data, measures=[\"RMSE\", \"MAE\"], cv=5, verbose=True)"
   ]
  },
  {
   "cell_type": "markdown",
   "id": "9febc1bf-ddd8-4250-8980-756fd4b0752d",
   "metadata": {},
   "source": [
    "#### Use KFold()"
   ]
  },
  {
   "cell_type": "code",
   "execution_count": 55,
   "id": "bd05d6a3-ec5d-418d-9a44-1fe8f5e3f2ae",
   "metadata": {},
   "outputs": [],
   "source": [
    "kf = KFold(n_splits=5)"
   ]
  },
  {
   "cell_type": "code",
   "execution_count": 64,
   "id": "b0677d0f-75ee-498e-ad83-229b0b785fd7",
   "metadata": {},
   "outputs": [],
   "source": [
    "algo_06 = SVD()"
   ]
  },
  {
   "cell_type": "code",
   "execution_count": 68,
   "id": "1d1e2376-0749-4401-a5f2-e0df997a8f20",
   "metadata": {},
   "outputs": [
    {
     "name": "stdout",
     "output_type": "stream",
     "text": [
      "RMSE: 0.8748\n",
      "RMSE: 0.8733\n",
      "RMSE: 0.8741\n",
      "RMSE: 0.8730\n",
      "RMSE: 0.8741\n"
     ]
    }
   ],
   "source": [
    "for trainset, testset in kf.split(data):\n",
    "    algo_06.fit(trainset)\n",
    "    predictions_06 = algo_06.test(testset)\n",
    "    accuracy.rmse(predictions_06, verbose=True)"
   ]
  },
  {
   "cell_type": "markdown",
   "id": "341c4c7d-ff5f-4669-9b62-5b93dfd40233",
   "metadata": {},
   "source": [
    "#### Use LeaveOneOut()"
   ]
  },
  {
   "cell_type": "code",
   "execution_count": 62,
   "id": "162d8da3-dc15-4f5f-9b93-16845530dc5e",
   "metadata": {},
   "outputs": [],
   "source": [
    "loo = LeaveOneOut(n_splits=5)"
   ]
  },
  {
   "cell_type": "code",
   "execution_count": 69,
   "id": "c2b0d7b3-106e-4ffe-b1e6-ae4fa080eb3e",
   "metadata": {},
   "outputs": [
    {
     "name": "stdout",
     "output_type": "stream",
     "text": [
      "RMSE: 0.9035\n",
      "RMSE: 0.8774\n",
      "RMSE: 0.8928\n",
      "RMSE: 0.8921\n",
      "RMSE: 0.8998\n"
     ]
    }
   ],
   "source": [
    "for trainset, testset in loo.split(data):\n",
    "    algo_06.fit(trainset)\n",
    "    predictions_07 = algo_06.test(testset)\n",
    "    accuracy.rmse(predictions_07, verbose=True)"
   ]
  },
  {
   "cell_type": "markdown",
   "id": "3b743e0a-31b4-412a-a0f1-fe04c4fb9326",
   "metadata": {},
   "source": [
    "**Вывод:**\n",
    "- Лучние результаты достигнуты при использвании алгоритма SVD\n",
    "- Попробуем улучнить модель, изменив параметры регуляризации"
   ]
  },
  {
   "cell_type": "markdown",
   "id": "b91861e7-96bf-43de-bc3d-6abb44ad6126",
   "metadata": {},
   "source": [
    "### Регуляризация"
   ]
  },
  {
   "cell_type": "code",
   "execution_count": 111,
   "id": "b8ed0846-1f27-4c3b-900c-4ab28b1c081c",
   "metadata": {},
   "outputs": [],
   "source": [
    "# Параметры по умолчанию\n",
    "algo_07 = SVD(reg_bu=0.02, reg_bi=0.02, reg_pu=0.02, reg_qi=0.02)"
   ]
  },
  {
   "cell_type": "code",
   "execution_count": 94,
   "id": "0e72201e-5035-411d-b4f7-2b19d840a6a3",
   "metadata": {},
   "outputs": [
    {
     "name": "stdout",
     "output_type": "stream",
     "text": [
      "RMSE: 0.8748\n",
      "RMSE: 0.8731\n",
      "RMSE: 0.8746\n",
      "RMSE: 0.8744\n",
      "RMSE: 0.8714\n"
     ]
    }
   ],
   "source": [
    "for trainset, testset in kf.split(data):\n",
    "    algo_07.fit(trainset)\n",
    "    predictions_08 = algo_07.test(testset)\n",
    "    accuracy.rmse(predictions_08, verbose=True)"
   ]
  },
  {
   "cell_type": "code",
   "execution_count": 109,
   "id": "ed497538-8e73-4618-94be-ff5c68e76f05",
   "metadata": {},
   "outputs": [],
   "source": [
    "algo_07 = SVD(reg_bu=0.05, reg_bi=0.05, reg_pu=0.1, reg_qi=0.02)"
   ]
  },
  {
   "cell_type": "code",
   "execution_count": 110,
   "id": "74019ff8-2a69-416c-8d9e-33eb74d3b963",
   "metadata": {},
   "outputs": [
    {
     "name": "stdout",
     "output_type": "stream",
     "text": [
      "RMSE: 0.8676\n",
      "RMSE: 0.8683\n",
      "RMSE: 0.8687\n",
      "RMSE: 0.8691\n",
      "RMSE: 0.8671\n"
     ]
    }
   ],
   "source": [
    "for trainset, testset in kf.split(data):\n",
    "    algo_07.fit(trainset)\n",
    "    predictions_08 = algo_07.test(testset)\n",
    "    accuracy.rmse(predictions_08, verbose=True)"
   ]
  },
  {
   "cell_type": "code",
   "execution_count": 114,
   "id": "bec0a6a3-4a70-4c5a-b1e4-1211c3c25268",
   "metadata": {},
   "outputs": [
    {
     "name": "stdout",
     "output_type": "stream",
     "text": [
      "RMSE: 0.8675\n",
      "RMSE: 0.8630\n",
      "RMSE: 0.8661\n",
      "RMSE: 0.8690\n",
      "RMSE: 0.8664\n"
     ]
    }
   ],
   "source": [
    "algo_07 = SVD(reg_bu=0.05, reg_bi=0.02, reg_pu=0.05, reg_qi=0.02)\n",
    "for trainset, testset in kf.split(data):\n",
    "    algo_07.fit(trainset)\n",
    "    predictions_08 = algo_07.test(testset)\n",
    "    accuracy.rmse(predictions_08, verbose=True)"
   ]
  },
  {
   "cell_type": "code",
   "execution_count": 115,
   "id": "73fd5be1-347d-44f7-87a6-8e0f29dcebde",
   "metadata": {},
   "outputs": [
    {
     "name": "stdout",
     "output_type": "stream",
     "text": [
      "RMSE: 0.8634\n",
      "RMSE: 0.8652\n",
      "RMSE: 0.8650\n",
      "RMSE: 0.8690\n",
      "RMSE: 0.8673\n"
     ]
    }
   ],
   "source": [
    "algo_07 = SVD(reg_bu=0.05, reg_bi=0.05, reg_pu=0.05, reg_qi=0.02)\n",
    "for trainset, testset in kf.split(data):\n",
    "    algo_07.fit(trainset)\n",
    "    predictions_08 = algo_07.test(testset)\n",
    "    accuracy.rmse(predictions_08, verbose=True)"
   ]
  },
  {
   "cell_type": "markdown",
   "id": "dc46b223-1e4a-4d39-b49a-a868d603b424",
   "metadata": {},
   "source": [
    "**Вывод:**\n",
    "- Изменения параметров регуляризации позволило снизить значение RMSE в тестовом сете до значения < 0.87"
   ]
  }
 ],
 "metadata": {
  "kernelspec": {
   "display_name": "Python 3 (ipykernel)",
   "language": "python",
   "name": "python3"
  },
  "language_info": {
   "codemirror_mode": {
    "name": "ipython",
    "version": 3
   },
   "file_extension": ".py",
   "mimetype": "text/x-python",
   "name": "python",
   "nbconvert_exporter": "python",
   "pygments_lexer": "ipython3",
   "version": "3.10.14"
  }
 },
 "nbformat": 4,
 "nbformat_minor": 5
}
