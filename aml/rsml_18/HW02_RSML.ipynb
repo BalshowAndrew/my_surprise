{
 "cells": [
  {
   "cell_type": "markdown",
   "id": "c8817992-eb8c-458a-ba3e-881a32f7d0f9",
   "metadata": {},
   "source": [
    "# Задание по теме \"Коллаборативная фильтрация\""
   ]
  },
  {
   "cell_type": "markdown",
   "id": "f63e1643-2042-4830-bb7e-b7ac9c016c77",
   "metadata": {},
   "source": [
    "Пакет SURPRISE:\n",
    "- используйте данные MovieLens 1M,\n",
    "- можно использовать любые модели из пакета,\n",
    "- получите RMSE на тестовом сете 0,87 и ниже."
   ]
  },
  {
   "cell_type": "code",
   "execution_count": 17,
   "id": "0887980e-fb15-4cfb-9e3d-f2ee2a8b07d5",
   "metadata": {},
   "outputs": [],
   "source": [
    "import pandas as pd\n",
    "import numpy as np\n",
    "\n",
    "from surprise import Dataset, accuracy\n",
    "from surprise import KNNWithMeans, KNNBasic, SVD\n",
    "from surprise.model_selection import train_test_split, KFold"
   ]
  },
  {
   "cell_type": "markdown",
   "id": "29a91748-3c4f-4c9f-84f4-6c51e8417090",
   "metadata": {},
   "source": [
    "## Загрузка данных"
   ]
  },
  {
   "cell_type": "code",
   "execution_count": 2,
   "id": "68660b0c-7442-4b70-8524-a7f402a75e97",
   "metadata": {},
   "outputs": [
    {
     "name": "stdout",
     "output_type": "stream",
     "text": [
      "Dataset ml-1m could not be found. Do you want to download it? [Y/n] "
     ]
    },
    {
     "name": "stdin",
     "output_type": "stream",
     "text": [
      " Y\n"
     ]
    },
    {
     "name": "stdout",
     "output_type": "stream",
     "text": [
      "Trying to download dataset from https://files.grouplens.org/datasets/movielens/ml-1m.zip...\n",
      "Done! Dataset ml-1m has been saved to /home/andrew/.surprise_data/ml-1m\n"
     ]
    }
   ],
   "source": [
    "data = Dataset.load_builtin(\"ml-1m\")"
   ]
  },
  {
   "cell_type": "code",
   "execution_count": 7,
   "id": "2cef6fa2-186b-45e9-a3e9-abcb904fe629",
   "metadata": {},
   "outputs": [
    {
     "data": {
      "text/plain": [
       "<surprise.dataset.DatasetAutoFolds at 0x7f90f35ada20>"
      ]
     },
     "execution_count": 7,
     "metadata": {},
     "output_type": "execute_result"
    }
   ],
   "source": [
    "data"
   ]
  },
  {
   "cell_type": "markdown",
   "id": "7ba6a9c8-c3ef-4e3a-8ea8-f406808d78d0",
   "metadata": {},
   "source": [
    "## Делим Dataset на обучающую и тестовую выборки"
   ]
  },
  {
   "cell_type": "code",
   "execution_count": 8,
   "id": "11cf98f7-9e86-42da-be10-a17447e9eb66",
   "metadata": {},
   "outputs": [],
   "source": [
    "trainset, testset = train_test_split(data, test_size=0.2, random_state=51)"
   ]
  },
  {
   "cell_type": "markdown",
   "id": "bad075b2-1a11-41a9-8b76-eed53fbecf7b",
   "metadata": {},
   "source": [
    "## Обучение моделей"
   ]
  },
  {
   "cell_type": "code",
   "execution_count": 14,
   "id": "718ce05b-7e79-475d-8bf7-8b809f5b933d",
   "metadata": {},
   "outputs": [
    {
     "name": "stdout",
     "output_type": "stream",
     "text": [
      "Computing the cosine similarity matrix...\n",
      "Done computing similarity matrix.\n"
     ]
    },
    {
     "data": {
      "text/plain": [
       "<surprise.prediction_algorithms.knns.KNNWithMeans at 0x7f90bf644a60>"
      ]
     },
     "execution_count": 14,
     "metadata": {},
     "output_type": "execute_result"
    }
   ],
   "source": [
    "algo = KNNWithMeans(k=50, sim_options={\n",
    "    'name': 'cosine',\n",
    "    'user_based': True\n",
    "})\n",
    "algo.fit(trainset)"
   ]
  },
  {
   "cell_type": "code",
   "execution_count": 15,
   "id": "25846c85-93ea-43b3-b30a-aaa020471126",
   "metadata": {},
   "outputs": [],
   "source": [
    "test_pred = algo.test(testset)"
   ]
  },
  {
   "cell_type": "code",
   "execution_count": 16,
   "id": "01061786-191b-4166-bf36-df3b543b12dd",
   "metadata": {},
   "outputs": [
    {
     "name": "stdout",
     "output_type": "stream",
     "text": [
      "RMSE: 0.9353\n"
     ]
    },
    {
     "data": {
      "text/plain": [
       "0.9352676165031188"
      ]
     },
     "execution_count": 16,
     "metadata": {},
     "output_type": "execute_result"
    }
   ],
   "source": [
    "accuracy.rmse(test_pred, verbose=True)"
   ]
  },
  {
   "cell_type": "markdown",
   "id": "93778279-d8d3-4b82-abee-6baca25a1f73",
   "metadata": {},
   "source": [
    "## Кроссвалидация"
   ]
  },
  {
   "cell_type": "code",
   "execution_count": 21,
   "id": "bd05d6a3-ec5d-418d-9a44-1fe8f5e3f2ae",
   "metadata": {},
   "outputs": [],
   "source": [
    "kf = KFold(n_splits=5)"
   ]
  },
  {
   "cell_type": "code",
   "execution_count": 22,
   "id": "b0677d0f-75ee-498e-ad83-229b0b785fd7",
   "metadata": {},
   "outputs": [],
   "source": [
    "algo = SVD()"
   ]
  },
  {
   "cell_type": "code",
   "execution_count": 23,
   "id": "1d1e2376-0749-4401-a5f2-e0df997a8f20",
   "metadata": {},
   "outputs": [
    {
     "name": "stdout",
     "output_type": "stream",
     "text": [
      "RMSE: 0.8727\n",
      "RMSE: 0.8754\n",
      "RMSE: 0.8736\n",
      "RMSE: 0.8713\n",
      "RMSE: 0.8754\n"
     ]
    }
   ],
   "source": [
    "for trainset, testset in kf.split(data):\n",
    "    algo.fit(trainset)\n",
    "    predictions = algo.test(testset)\n",
    "    accuracy.rmse(predictions, verbose=True)"
   ]
  },
  {
   "cell_type": "code",
   "execution_count": null,
   "id": "b055b626-c996-45df-8b2e-de58f8b2f39e",
   "metadata": {},
   "outputs": [],
   "source": []
  }
 ],
 "metadata": {
  "kernelspec": {
   "display_name": "Python 3 (ipykernel)",
   "language": "python",
   "name": "python3"
  },
  "language_info": {
   "codemirror_mode": {
    "name": "ipython",
    "version": 3
   },
   "file_extension": ".py",
   "mimetype": "text/x-python",
   "name": "python",
   "nbconvert_exporter": "python",
   "pygments_lexer": "ipython3",
   "version": "3.10.14"
  }
 },
 "nbformat": 4,
 "nbformat_minor": 5
}
